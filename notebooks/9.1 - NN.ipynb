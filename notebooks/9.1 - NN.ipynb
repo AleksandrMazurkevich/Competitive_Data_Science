{
 "cells": [
  {
   "cell_type": "markdown",
   "id": "5bd2009e-0dff-42fb-a4c7-719f3c0a1e3a",
   "metadata": {},
   "source": [
    "# <center> 🧠 А нейронки будут? </center>"
   ]
  },
  {
   "cell_type": "markdown",
   "id": "a67888ba-1d55-4e03-9bf1-d6a963a578e4",
   "metadata": {},
   "source": [
    "<img src=\"https://i.imgflip.com/1sdrv7.jpg\" width=\"400\" alt=\"NN_memes\" align='right'/>\n",
    "<br>\n",
    "\n",
    "<p><font size=\"3\" face=\"Arial\" font-size=\"large\"><ul type=\"square\">\n",
    "    \n",
    "<li><a href=\"#c1\">🛠 Реализация MLP из scikit-learn  </a></li>\n",
    "\n",
    "<li><a href=\"#c2\">🐍🔥 Самописный MLP на pytorch с двумя головами.</a></li>\n",
    "<li><a href=\"#с3\">🕸 TabNet </a>\n",
    "<li><a href=\"#c4\">🧠 Мысли и выводы</a>\n",
    "<li><a href=\"#c5\">🧸 Дополнительные материалы</a>\n",
    "\n",
    "</li></ul></font></p>"
   ]
  },
  {
   "cell_type": "markdown",
   "id": "d2670623-9bb8-4646-b2fe-ee18a83f9e3f",
   "metadata": {},
   "source": [
    "<div class=\"alert alert-info\">\n",
    "    \n",
    "* Предположим, вы достали все какие только можно визуализированные зависимости из ваших сырых данных, но на ум ничего дельного так и не пришло. \\\n",
    "* "
   ]
  },
  {
   "cell_type": "code",
   "execution_count": 1,
   "id": "ff395118",
   "metadata": {
    "papermill": {
     "duration": 0.028618,
     "end_time": "2022-12-12T05:12:53.251185",
     "exception": false,
     "start_time": "2022-12-12T05:12:53.222567",
     "status": "completed"
    },
    "tags": []
   },
   "outputs": [],
   "source": [
    "import numpy as np\n",
    "import pandas as pd"
   ]
  },
  {
   "cell_type": "code",
   "execution_count": 2,
   "id": "19bb9348-1fcd-4b7b-95e3-fbd5d09bc5d8",
   "metadata": {},
   "outputs": [
    {
     "data": {
      "text/html": [
       "<div>\n",
       "<style scoped>\n",
       "    .dataframe tbody tr th:only-of-type {\n",
       "        vertical-align: middle;\n",
       "    }\n",
       "\n",
       "    .dataframe tbody tr th {\n",
       "        vertical-align: top;\n",
       "    }\n",
       "\n",
       "    .dataframe thead th {\n",
       "        text-align: right;\n",
       "    }\n",
       "</style>\n",
       "<table border=\"1\" class=\"dataframe\">\n",
       "  <thead>\n",
       "    <tr style=\"text-align: right;\">\n",
       "      <th></th>\n",
       "      <th>car_id</th>\n",
       "      <th>model</th>\n",
       "      <th>car_type</th>\n",
       "      <th>fuel_type</th>\n",
       "      <th>car_rating</th>\n",
       "      <th>year_to_start</th>\n",
       "      <th>riders</th>\n",
       "      <th>year_to_work</th>\n",
       "      <th>target_reg</th>\n",
       "      <th>target_class</th>\n",
       "      <th>mean_rating</th>\n",
       "      <th>distance_sum</th>\n",
       "      <th>rating_min</th>\n",
       "      <th>speed_max</th>\n",
       "      <th>user_ride_quality_median</th>\n",
       "      <th>deviation_normal_count</th>\n",
       "      <th>user_uniq</th>\n",
       "    </tr>\n",
       "  </thead>\n",
       "  <tbody>\n",
       "    <tr>\n",
       "      <th>0</th>\n",
       "      <td>y13744087j</td>\n",
       "      <td>Kia Rio X-line</td>\n",
       "      <td>economy</td>\n",
       "      <td>petrol</td>\n",
       "      <td>3.78</td>\n",
       "      <td>2015</td>\n",
       "      <td>76163</td>\n",
       "      <td>2021</td>\n",
       "      <td>109.99</td>\n",
       "      <td>another_bug</td>\n",
       "      <td>4.737759</td>\n",
       "      <td>1.214131e+07</td>\n",
       "      <td>0.1</td>\n",
       "      <td>180.855726</td>\n",
       "      <td>0.023174</td>\n",
       "      <td>174</td>\n",
       "      <td>170</td>\n",
       "    </tr>\n",
       "    <tr>\n",
       "      <th>1</th>\n",
       "      <td>O41613818T</td>\n",
       "      <td>VW Polo VI</td>\n",
       "      <td>economy</td>\n",
       "      <td>petrol</td>\n",
       "      <td>3.90</td>\n",
       "      <td>2015</td>\n",
       "      <td>78218</td>\n",
       "      <td>2021</td>\n",
       "      <td>34.48</td>\n",
       "      <td>electro_bug</td>\n",
       "      <td>4.480517</td>\n",
       "      <td>1.803909e+07</td>\n",
       "      <td>0.0</td>\n",
       "      <td>187.862734</td>\n",
       "      <td>12.306011</td>\n",
       "      <td>174</td>\n",
       "      <td>174</td>\n",
       "    </tr>\n",
       "    <tr>\n",
       "      <th>2</th>\n",
       "      <td>d-2109686j</td>\n",
       "      <td>Renault Sandero</td>\n",
       "      <td>standart</td>\n",
       "      <td>petrol</td>\n",
       "      <td>6.30</td>\n",
       "      <td>2012</td>\n",
       "      <td>23340</td>\n",
       "      <td>2017</td>\n",
       "      <td>34.93</td>\n",
       "      <td>gear_stick</td>\n",
       "      <td>4.768391</td>\n",
       "      <td>1.588366e+07</td>\n",
       "      <td>0.1</td>\n",
       "      <td>102.382857</td>\n",
       "      <td>2.513319</td>\n",
       "      <td>174</td>\n",
       "      <td>173</td>\n",
       "    </tr>\n",
       "    <tr>\n",
       "      <th>3</th>\n",
       "      <td>u29695600e</td>\n",
       "      <td>Mercedes-Benz GLC</td>\n",
       "      <td>business</td>\n",
       "      <td>petrol</td>\n",
       "      <td>4.04</td>\n",
       "      <td>2011</td>\n",
       "      <td>1263</td>\n",
       "      <td>2020</td>\n",
       "      <td>32.22</td>\n",
       "      <td>engine_fuel</td>\n",
       "      <td>3.880920</td>\n",
       "      <td>1.651883e+07</td>\n",
       "      <td>0.1</td>\n",
       "      <td>172.793237</td>\n",
       "      <td>-5.029476</td>\n",
       "      <td>174</td>\n",
       "      <td>170</td>\n",
       "    </tr>\n",
       "    <tr>\n",
       "      <th>4</th>\n",
       "      <td>N-8915870N</td>\n",
       "      <td>Renault Sandero</td>\n",
       "      <td>standart</td>\n",
       "      <td>petrol</td>\n",
       "      <td>4.70</td>\n",
       "      <td>2012</td>\n",
       "      <td>26428</td>\n",
       "      <td>2017</td>\n",
       "      <td>27.51</td>\n",
       "      <td>engine_fuel</td>\n",
       "      <td>4.181149</td>\n",
       "      <td>1.398317e+07</td>\n",
       "      <td>0.1</td>\n",
       "      <td>203.462289</td>\n",
       "      <td>-14.260456</td>\n",
       "      <td>174</td>\n",
       "      <td>171</td>\n",
       "    </tr>\n",
       "  </tbody>\n",
       "</table>\n",
       "</div>"
      ],
      "text/plain": [
       "       car_id              model  car_type fuel_type  car_rating  \\\n",
       "0  y13744087j     Kia Rio X-line   economy    petrol        3.78   \n",
       "1  O41613818T         VW Polo VI   economy    petrol        3.90   \n",
       "2  d-2109686j    Renault Sandero  standart    petrol        6.30   \n",
       "3  u29695600e  Mercedes-Benz GLC  business    petrol        4.04   \n",
       "4  N-8915870N    Renault Sandero  standart    petrol        4.70   \n",
       "\n",
       "   year_to_start  riders  year_to_work  target_reg target_class  mean_rating  \\\n",
       "0           2015   76163          2021      109.99  another_bug     4.737759   \n",
       "1           2015   78218          2021       34.48  electro_bug     4.480517   \n",
       "2           2012   23340          2017       34.93   gear_stick     4.768391   \n",
       "3           2011    1263          2020       32.22  engine_fuel     3.880920   \n",
       "4           2012   26428          2017       27.51  engine_fuel     4.181149   \n",
       "\n",
       "   distance_sum  rating_min   speed_max  user_ride_quality_median  \\\n",
       "0  1.214131e+07         0.1  180.855726                  0.023174   \n",
       "1  1.803909e+07         0.0  187.862734                 12.306011   \n",
       "2  1.588366e+07         0.1  102.382857                  2.513319   \n",
       "3  1.651883e+07         0.1  172.793237                 -5.029476   \n",
       "4  1.398317e+07         0.1  203.462289                -14.260456   \n",
       "\n",
       "   deviation_normal_count  user_uniq  \n",
       "0                     174        170  \n",
       "1                     174        174  \n",
       "2                     174        173  \n",
       "3                     174        170  \n",
       "4                     174        171  "
      ]
     },
     "execution_count": 2,
     "metadata": {},
     "output_type": "execute_result"
    }
   ],
   "source": [
    "# Загружаем train-датасет который мы сохранили на шаге quickstart\n",
    "rides_info = pd.read_csv('../data/quickstart_train.csv')\n",
    "rides_info.head()"
   ]
  },
  {
   "cell_type": "code",
   "execution_count": 3,
   "id": "07089d0f-1845-46cd-ac2e-a8833044f2a2",
   "metadata": {},
   "outputs": [],
   "source": [
    "drop_cols = ['car_id', 'target_reg', 'target_class']\n",
    "cat_cols = ['car_type', 'fuel_type', 'model']"
   ]
  },
  {
   "cell_type": "code",
   "execution_count": 4,
   "id": "8610f1f3",
   "metadata": {
    "papermill": {
     "duration": 0.143102,
     "end_time": "2022-12-12T05:13:01.849840",
     "exception": false,
     "start_time": "2022-12-12T05:13:01.706738",
     "status": "completed"
    },
    "tags": []
   },
   "outputs": [],
   "source": [
    "# закодируем категориальные фичи в one hot encoding вектора\n",
    "rides_info = pd.get_dummies(rides_info, columns=cat_cols)"
   ]
  },
  {
   "cell_type": "code",
   "execution_count": 5,
   "id": "1d98ed38-f13e-4f26-892b-28e32b1a7f64",
   "metadata": {
    "papermill": {
     "duration": 0.140003,
     "end_time": "2022-12-12T05:13:02.001579",
     "exception": false,
     "start_time": "2022-12-12T05:13:01.861576",
     "status": "completed"
    },
    "tags": []
   },
   "outputs": [
    {
     "name": "stderr",
     "output_type": "stream",
     "text": [
      "/tmp/ipykernel_84891/2067634496.py:2: FutureWarning: The default value of numeric_only in DataFrame.median is deprecated. In a future version, it will default to False. In addition, specifying 'numeric_only=None' is deprecated. Select only valid columns or specify the value of numeric_only to silence this warning.\n",
      "  rides_info.fillna(rides_info.median(), inplace=True)\n"
     ]
    }
   ],
   "source": [
    "# заполним пропущенные значения медианным значением по столбцу\n",
    "rides_info.fillna(rides_info.median(), inplace=True)"
   ]
  },
  {
   "cell_type": "markdown",
   "id": "d047d37d-0f74-4e59-9676-220f205a9231",
   "metadata": {},
   "source": [
    "## <center>🛠 Готовая реализация нейронной сети MLP из `sklearn`.</center>"
   ]
  },
  {
   "cell_type": "code",
   "execution_count": 6,
   "id": "5ff39f5c-6ab0-4ea3-926b-5d4f50cc116a",
   "metadata": {},
   "outputs": [],
   "source": [
    "from sklearn.model_selection import train_test_split\n",
    "from sklearn.neural_network import MLPClassifier, MLPRegressor\n",
    "from sklearn.metrics import f1_score, mean_squared_error, accuracy_score\n",
    "from sklearn.preprocessing import LabelEncoder"
   ]
  },
  {
   "cell_type": "code",
   "execution_count": 7,
   "id": "0791272a-d7db-47d6-89a0-6c29b5d2baf8",
   "metadata": {},
   "outputs": [],
   "source": [
    "# переведем строковые значения категориального таргета в целочисленные\n",
    "le = LabelEncoder()\n",
    "rides_info['target_class'] = le.fit_transform(rides_info['target_class'])"
   ]
  },
  {
   "cell_type": "code",
   "execution_count": 8,
   "id": "b6118aec-16c3-47f9-a7f0-d4bef9ce11f1",
   "metadata": {},
   "outputs": [],
   "source": [
    "# числовые переменные, которые подвергнем трансформации\n",
    "num_cols = [col for col in list(rides_info.columns)\n",
    "            if col not in drop_cols]"
   ]
  },
  {
   "cell_type": "code",
   "execution_count": 9,
   "id": "b7892ce4-6c70-4ad7-96ee-7aa094a6fdc5",
   "metadata": {},
   "outputs": [],
   "source": [
    "# для нормализации данных используем robust scaler\n",
    "from sklearn.preprocessing import RobustScaler\n",
    "\n",
    "scaler = RobustScaler()\n",
    "\n",
    "df = scaler.fit_transform(rides_info[num_cols])\n",
    "df = pd.DataFrame(df, columns=num_cols)\n",
    "\n",
    "target_scaler = RobustScaler()\n",
    "target = target_scaler.fit_transform(rides_info['target_reg'].values.reshape(-1, 1))\n",
    "\n",
    "df['target_reg'] = target\n",
    "df['target_class'] = rides_info['target_class']"
   ]
  },
  {
   "cell_type": "code",
   "execution_count": 10,
   "id": "6614e341-5eb4-41aa-9922-c259671f9457",
   "metadata": {
    "tags": []
   },
   "outputs": [],
   "source": [
    "X = df.drop(['target_class','target_reg'], axis=1)\n",
    "y = df['target_class']\n",
    "\n",
    "X_train, X_test, y_train, y_test = train_test_split(X, y, test_size=0.2, random_state=42)"
   ]
  },
  {
   "cell_type": "markdown",
   "id": "bea47024-cd8c-45ad-8809-63f5f9b1ede4",
   "metadata": {},
   "source": [
    "## **Классификация**"
   ]
  },
  {
   "cell_type": "code",
   "execution_count": 17,
   "id": "284dcee1-de1a-401a-ad9d-65750c4d805a",
   "metadata": {
    "tags": []
   },
   "outputs": [
    {
     "name": "stdout",
     "output_type": "stream",
     "text": [
      "Iteration 1, loss = 2.16891360\n",
      "Iteration 2, loss = 2.06997601\n",
      "Iteration 3, loss = 1.98756890\n",
      "Iteration 4, loss = 1.91333799\n",
      "Iteration 5, loss = 1.84459997\n",
      "Iteration 6, loss = 1.77749716\n",
      "Iteration 7, loss = 1.71341305\n",
      "Iteration 8, loss = 1.64966392\n",
      "Iteration 9, loss = 1.58735378\n",
      "Iteration 10, loss = 1.52739432\n",
      "Iteration 11, loss = 1.46963852\n",
      "Iteration 12, loss = 1.41371104\n",
      "Iteration 13, loss = 1.36085464\n",
      "Iteration 14, loss = 1.31114046\n",
      "Iteration 15, loss = 1.26409271\n",
      "Iteration 16, loss = 1.22127515\n",
      "Iteration 17, loss = 1.18107583\n",
      "Iteration 18, loss = 1.14461299\n",
      "Iteration 19, loss = 1.11049582\n",
      "Iteration 20, loss = 1.07955570\n"
     ]
    },
    {
     "name": "stderr",
     "output_type": "stream",
     "text": [
      "/home/jovyan/.local/lib/python3.9/site-packages/sklearn/neural_network/_multilayer_perceptron.py:614: ConvergenceWarning: Stochastic Optimizer: Maximum iterations (20) reached and the optimization hasn't converged yet.\n",
      "  warnings.warn(\n"
     ]
    }
   ],
   "source": [
    "clf = MLPClassifier(random_state=42, max_iter=20, verbose=5).fit(X_train, y_train)"
   ]
  },
  {
   "cell_type": "code",
   "execution_count": 18,
   "id": "cb3f0341-1fa6-4e6c-89c2-561188353491",
   "metadata": {
    "tags": []
   },
   "outputs": [],
   "source": [
    "preds = clf.predict(X_test)"
   ]
  },
  {
   "cell_type": "code",
   "execution_count": 19,
   "id": "279c5a8d-0e8b-4f0d-bac7-5d26a1eb4a2d",
   "metadata": {
    "tags": []
   },
   "outputs": [
    {
     "data": {
      "text/plain": [
       "array([4, 6, 6, 6, 2])"
      ]
     },
     "execution_count": 19,
     "metadata": {},
     "output_type": "execute_result"
    }
   ],
   "source": [
    "preds[:5]"
   ]
  },
  {
   "cell_type": "code",
   "execution_count": 20,
   "id": "958ff998-37dd-497f-9c55-22b8b7364e06",
   "metadata": {
    "tags": []
   },
   "outputs": [
    {
     "data": {
      "text/plain": [
       "0.5425973554929262"
      ]
     },
     "execution_count": 20,
     "metadata": {},
     "output_type": "execute_result"
    }
   ],
   "source": [
    "f1_score(y_test, preds, average='macro')"
   ]
  },
  {
   "cell_type": "code",
   "execution_count": 21,
   "id": "bb0c3976-ecb0-4425-8365-11b0bb0d4252",
   "metadata": {},
   "outputs": [
    {
     "data": {
      "text/plain": [
       "0.5726495726495726"
      ]
     },
     "execution_count": 21,
     "metadata": {},
     "output_type": "execute_result"
    }
   ],
   "source": [
    "accuracy_score(y_test, preds)"
   ]
  },
  {
   "cell_type": "markdown",
   "id": "98fed244-55d4-4d5e-a015-adc70cbc99e4",
   "metadata": {},
   "source": [
    "## **Регрессия**"
   ]
  },
  {
   "cell_type": "code",
   "execution_count": 22,
   "id": "7ccbd815-62a8-460d-a682-8770c6a4f02f",
   "metadata": {
    "tags": []
   },
   "outputs": [],
   "source": [
    "y = df['target_reg']\n",
    "X_train, X_test, y_train, y_test = train_test_split(X, y, test_size=0.2, random_state=42)"
   ]
  },
  {
   "cell_type": "code",
   "execution_count": 23,
   "id": "8a50e7e5-e3c6-48b3-a0b4-ea19536f52ff",
   "metadata": {
    "tags": []
   },
   "outputs": [
    {
     "name": "stderr",
     "output_type": "stream",
     "text": [
      "/home/jovyan/.local/lib/python3.9/site-packages/sklearn/neural_network/_multilayer_perceptron.py:614: ConvergenceWarning: Stochastic Optimizer: Maximum iterations (50) reached and the optimization hasn't converged yet.\n",
      "  warnings.warn(\n"
     ]
    }
   ],
   "source": [
    "regr = MLPRegressor(random_state=42, max_iter=50).fit(X_train, y_train)"
   ]
  },
  {
   "cell_type": "code",
   "execution_count": 26,
   "id": "eb3f8cec-a069-4c2d-a810-caccf9141230",
   "metadata": {},
   "outputs": [
    {
     "data": {
      "text/plain": [
       "array([[72.71671533],\n",
       "       [32.84617531],\n",
       "       [53.26113851],\n",
       "       [49.94877966],\n",
       "       [35.87741341]])"
      ]
     },
     "execution_count": 26,
     "metadata": {},
     "output_type": "execute_result"
    }
   ],
   "source": [
    "preds = regr.predict(X_test)\n",
    "preds = target_scaler.inverse_transform(np.array(preds).reshape(-1, 1))\n",
    "preds[:5]"
   ]
  },
  {
   "cell_type": "code",
   "execution_count": 27,
   "id": "a406a3d6-28a5-4b38-b345-a5f7b3a566bd",
   "metadata": {
    "tags": []
   },
   "outputs": [
    {
     "data": {
      "text/plain": [
       "45.938741736955315"
      ]
     },
     "execution_count": 27,
     "metadata": {},
     "output_type": "execute_result"
    }
   ],
   "source": [
    "mean_squared_error(y_test, preds) ** 0.5"
   ]
  },
  {
   "cell_type": "markdown",
   "id": "48d63605-d000-45cb-b711-72147ab7f39f",
   "metadata": {},
   "source": [
    "<div class=\"alert alert-info\">\n",
    "    \n",
    "* Мало возможностей для кастомизации\n",
    "* Плохо работает с дефолтными параметрами\n",
    "* "
   ]
  },
  {
   "cell_type": "markdown",
   "id": "5c54d88a",
   "metadata": {
    "papermill": {
     "duration": 0.014976,
     "end_time": "2022-12-12T05:12:53.278342",
     "exception": false,
     "start_time": "2022-12-12T05:12:53.263366",
     "status": "completed"
    },
    "tags": []
   },
   "source": [
    "## <center>🐍🔥 Двух головая нейронка на `PyTorch`.</center>\n",
    "Теперь попробуем решить задачу с помощью самописного MLP с двумя головами на фрэймворке PyTorch."
   ]
  },
  {
   "cell_type": "code",
   "execution_count": 28,
   "id": "fd4527d3",
   "metadata": {
    "papermill": {
     "duration": 0.178249,
     "end_time": "2022-12-12T05:13:07.585348",
     "exception": false,
     "start_time": "2022-12-12T05:13:07.407099",
     "status": "completed"
    },
    "tags": []
   },
   "outputs": [],
   "source": [
    "train, test = train_test_split(df, test_size=0.2, random_state=42)"
   ]
  },
  {
   "cell_type": "code",
   "execution_count": 29,
   "id": "eb341d0c",
   "metadata": {
    "papermill": {
     "duration": 1.958607,
     "end_time": "2022-12-12T05:13:09.556582",
     "exception": false,
     "start_time": "2022-12-12T05:13:07.597975",
     "status": "completed"
    },
    "tags": []
   },
   "outputs": [],
   "source": [
    "from torch.utils.data import Dataset, DataLoader\n",
    "import torch\n",
    "from torch import nn\n",
    "import os\n",
    "import copy"
   ]
  },
  {
   "cell_type": "code",
   "execution_count": 30,
   "id": "6cce5013",
   "metadata": {
    "papermill": {
     "duration": 0.024585,
     "end_time": "2022-12-12T05:13:09.596698",
     "exception": false,
     "start_time": "2022-12-12T05:13:09.572113",
     "status": "completed"
    },
    "tags": []
   },
   "outputs": [],
   "source": [
    "# для наших данных и размера нейросети подойдет запуск на cpu\n",
    "device = torch.device('cpu')"
   ]
  },
  {
   "cell_type": "code",
   "execution_count": 31,
   "id": "a086782f",
   "metadata": {
    "papermill": {
     "duration": 0.026631,
     "end_time": "2022-12-12T05:13:09.636749",
     "exception": false,
     "start_time": "2022-12-12T05:13:09.610118",
     "status": "completed"
    },
    "tags": []
   },
   "outputs": [],
   "source": [
    "# ВАЖНО! - фиксируем воспроизводимость\n",
    "def seed_everything(seed=42):\n",
    "    \n",
    "    np.random.seed(seed)\n",
    "    torch.manual_seed(seed)\n",
    "    torch.cuda.manual_seed(seed)\n",
    "    torch.backends.cudnn.deterministic = True\n",
    "    \n",
    "seed_everything(seed=42)"
   ]
  },
  {
   "cell_type": "code",
   "execution_count": 32,
   "id": "97fa9ee0",
   "metadata": {
    "papermill": {
     "duration": 0.031356,
     "end_time": "2022-12-12T05:13:09.680156",
     "exception": false,
     "start_time": "2022-12-12T05:13:09.648800",
     "status": "completed"
    },
    "tags": []
   },
   "outputs": [],
   "source": [
    "# можно попробовать поэкспериментировать с параметрами\n",
    "class CFG:\n",
    "    hidden_size=128\n",
    "    dropout=0.1\n",
    "    lr=1e-3\n",
    "    batch_size=128\n",
    "    num_workers=4\n",
    "    epochs=20\n",
    "    num_features=train.shape[1]-2 # кол-во фичей подаваемое на вход\n",
    "    num_tar_class=train.target_class.nunique() # количество выходов равно кол-ву предсказываемых классов"
   ]
  },
  {
   "cell_type": "code",
   "execution_count": 33,
   "id": "1e1ef04e",
   "metadata": {
    "papermill": {
     "duration": 0.024398,
     "end_time": "2022-12-12T05:13:09.716805",
     "exception": false,
     "start_time": "2022-12-12T05:13:09.692407",
     "status": "completed"
    },
    "tags": []
   },
   "outputs": [],
   "source": [
    "# датасет выдает фичи и значения целевых переменных\n",
    "class Rides(Dataset):\n",
    "    \n",
    "    def __init__(self, df):\n",
    "        self.df = df\n",
    "        \n",
    "    def __len__(self):\n",
    "        return len(self.df)\n",
    "    \n",
    "    def __getitem__(self, idx):\n",
    "        row = self.df.iloc[idx,:]\n",
    "        \n",
    "        data = row.drop(labels=['target_reg', 'target_class'])\n",
    "        \n",
    "        data = torch.FloatTensor(data.values.astype('float'))\n",
    "        tar_reg = torch.tensor(row['target_reg']).float()\n",
    "        tar_class = row['target_class'].astype('int')\n",
    "        \n",
    "        return data, tar_reg, tar_class"
   ]
  },
  {
   "cell_type": "code",
   "execution_count": 34,
   "id": "4b3f992d",
   "metadata": {
    "papermill": {
     "duration": 0.039379,
     "end_time": "2022-12-12T05:13:09.768429",
     "exception": false,
     "start_time": "2022-12-12T05:13:09.729050",
     "status": "completed"
    },
    "tags": []
   },
   "outputs": [
    {
     "data": {
      "text/plain": [
       "(tensor([-0.7302, -1.5000, -1.4019,  1.0000,  0.2215, -0.1615, -0.1000,  0.4241,\n",
       "         -0.2246,  0.0000,  0.0000,  0.0000,  0.0000,  0.0000,  0.0000,  0.0000,\n",
       "          0.0000,  0.0000,  0.0000,  0.0000,  0.0000,  0.0000,  0.0000,  0.0000,\n",
       "          0.0000,  1.0000,  0.0000,  0.0000,  0.0000,  0.0000,  0.0000,  0.0000,\n",
       "          0.0000,  0.0000,  0.0000,  0.0000,  0.0000,  0.0000,  0.0000,  0.0000,\n",
       "          0.0000,  0.0000,  0.0000]),\n",
       " tensor(-0.6091),\n",
       " 2)"
      ]
     },
     "execution_count": 34,
     "metadata": {},
     "output_type": "execute_result"
    }
   ],
   "source": [
    "# проверим корректность работы методов нашего класса\n",
    "next(iter(Rides(train)))"
   ]
  },
  {
   "cell_type": "code",
   "execution_count": 35,
   "id": "6c8040b8",
   "metadata": {
    "papermill": {
     "duration": 0.023079,
     "end_time": "2022-12-12T05:13:09.806028",
     "exception": false,
     "start_time": "2022-12-12T05:13:09.782949",
     "status": "completed"
    },
    "tags": []
   },
   "outputs": [],
   "source": [
    "train_datasets = {'train': Rides(train),\n",
    "                  'val': Rides(test)}"
   ]
  },
  {
   "cell_type": "code",
   "execution_count": 36,
   "id": "28a28a13",
   "metadata": {
    "papermill": {
     "duration": 0.025611,
     "end_time": "2022-12-12T05:13:09.844114",
     "exception": false,
     "start_time": "2022-12-12T05:13:09.818503",
     "status": "completed"
    },
    "tags": []
   },
   "outputs": [],
   "source": [
    "dataloaders_dict = {x: torch.utils.data.DataLoader(train_datasets[x], \n",
    "                                                   batch_size=CFG.batch_size, \n",
    "                                                   shuffle=True, \n",
    "                                                   num_workers=CFG.num_workers)\n",
    "                    for x in ['train', 'val']}"
   ]
  },
  {
   "cell_type": "code",
   "execution_count": 37,
   "id": "d89d1f32",
   "metadata": {
    "papermill": {
     "duration": 0.029852,
     "end_time": "2022-12-12T05:13:09.887383",
     "exception": false,
     "start_time": "2022-12-12T05:13:09.857531",
     "status": "completed"
    },
    "tags": []
   },
   "outputs": [],
   "source": [
    "# Построим архитектуру mlp с двумя головами для регрессии и классифкации\n",
    "\n",
    "class TabularNN(nn.Module):\n",
    "    def __init__(self, cfg):\n",
    "        super().__init__()\n",
    "        self.mlp = nn.Sequential(\n",
    "                          nn.Linear(cfg.num_features, cfg.hidden_size),\n",
    "                          #nn.BatchNorm1d(cfg.hidden_size),\n",
    "                          nn.Dropout(cfg.dropout),\n",
    "                          nn.ReLU(),\n",
    "                          nn.Linear(cfg.hidden_size, cfg.hidden_size),\n",
    "                          #nn.BatchNorm1d(cfg.hidden_size),\n",
    "                          nn.Dropout(cfg.dropout),\n",
    "                          nn.ReLU(),\n",
    "                          nn.Linear(cfg.hidden_size, cfg.hidden_size//2),\n",
    "                          )\n",
    "        \n",
    "        self.regressor = nn.Sequential(\n",
    "            nn.Linear(cfg.hidden_size // 2, 1)\n",
    "        )\n",
    "        self.classifier = nn.Sequential(\n",
    "            nn.Linear(cfg.hidden_size // 2, cfg.num_tar_class)\n",
    "        )\n",
    "\n",
    "    def forward(self, data):\n",
    "        x = self.mlp(data)\n",
    "        tar_reg = self.regressor(x)\n",
    "        tar_class = self.classifier(x)\n",
    "        return tar_reg.view(-1), tar_class"
   ]
  },
  {
   "cell_type": "code",
   "execution_count": 38,
   "id": "0547d032",
   "metadata": {
    "papermill": {
     "duration": 0.029434,
     "end_time": "2022-12-12T05:13:09.931237",
     "exception": false,
     "start_time": "2022-12-12T05:13:09.901803",
     "status": "completed"
    },
    "tags": []
   },
   "outputs": [],
   "source": [
    "model = TabularNN(CFG).to(device)"
   ]
  },
  {
   "cell_type": "code",
   "execution_count": 39,
   "id": "a2257f8b",
   "metadata": {
    "papermill": {
     "duration": 0.02525,
     "end_time": "2022-12-12T05:13:09.969100",
     "exception": false,
     "start_time": "2022-12-12T05:13:09.943850",
     "status": "completed"
    },
    "tags": []
   },
   "outputs": [],
   "source": [
    "# оптимайзер и лоссы для регрессии и классификации\n",
    "optimizer = torch.optim.Adam(model.parameters(), lr = CFG.lr)\n",
    "regression_criterion = nn.MSELoss().to(device)\n",
    "classification_criterion = nn.CrossEntropyLoss().to(device)"
   ]
  },
  {
   "cell_type": "code",
   "execution_count": 71,
   "id": "13916566",
   "metadata": {
    "papermill": {
     "duration": 0.032877,
     "end_time": "2022-12-12T05:13:10.014252",
     "exception": false,
     "start_time": "2022-12-12T05:13:09.981375",
     "status": "completed"
    },
    "tags": []
   },
   "outputs": [],
   "source": [
    "# функция для тренировки, на выходе - обученная модель\n",
    "def train_model(model, dataloaders, regression_criterion,\n",
    "                classification_criterion, optimizer, num_epochs=25,\n",
    "                early_stopping_rounds=5, verbose=2):\n",
    "\n",
    "    val_acc_history = []\n",
    "\n",
    "    best_model_wts = copy.deepcopy(model.state_dict())\n",
    "    best_loss = np.inf\n",
    "    early_steps = 0\n",
    "    stop = False\n",
    "\n",
    "    for epoch in range(num_epochs):\n",
    "        if stop:\n",
    "            break\n",
    "        if epoch % verbose == 0:\n",
    "            print('Epoch {}/{}'.format(epoch, num_epochs - 1))\n",
    "            print('-' * 10)\n",
    "\n",
    "        # Each epoch has a training and validation phase\n",
    "        for phase in ['train', 'val']:\n",
    "            if phase == 'train':\n",
    "                model.train()  # Set model to training mode\n",
    "            else:\n",
    "                model.eval()   # Set model to evaluate mode\n",
    "\n",
    "            running_loss = 0.0\n",
    "\n",
    "            # Iterate over data.\n",
    "            for inputs, labels_1, labels_2 in dataloaders[phase]:\n",
    "                inputs = inputs.to(device)\n",
    "                labels_1 = labels_1.to(device)\n",
    "                labels_2 = labels_2.to(device)\n",
    "                \n",
    "                # zero the parameter gradients\n",
    "                optimizer.zero_grad()\n",
    "\n",
    "                # forward\n",
    "                # track history if only in train\n",
    "                with torch.set_grad_enabled(phase == 'train'):\n",
    "                    # Get model outputs and calculate loss\n",
    "\n",
    "                    outputs_1, outputs_2 = model(inputs)\n",
    "                    loss_1 = regression_criterion(outputs_1, labels_1)\n",
    "                    loss_2 = classification_criterion(outputs_2, labels_2)\n",
    "\n",
    "                    loss = loss_1 + loss_2\n",
    "\n",
    "                    _, preds_2 = torch.max(outputs_2, 1)\n",
    "\n",
    "                    # backward + optimize only if in training phase\n",
    "                    if phase == 'train':\n",
    "                        loss.backward()\n",
    "                        optimizer.step()\n",
    "\n",
    "                # statistics\n",
    "                running_loss += loss.item() * inputs.size(0)\n",
    "                val_acc_history.append(running_loss)\n",
    "\n",
    "            epoch_loss = running_loss / len(dataloaders[phase].dataset)\n",
    "            if epoch % verbose == 0:\n",
    "                print('{} Loss: {:.4f}'.format(phase, epoch_loss))\n",
    "\n",
    "            # deep copy the model\n",
    "            if phase == 'val' and epoch_loss < best_loss:\n",
    "                best_model_wts = copy.deepcopy(model.state_dict())\n",
    "                best_loss = epoch_loss\n",
    "                early_steps = 0\n",
    "            if phase == 'val' and epoch_loss > best_loss:\n",
    "                early_steps += 1\n",
    "                if early_steps > early_stopping_rounds:\n",
    "                    stop = True\n",
    "                    print(f'Stopped by early_stopping. Epoch: {epoch}')\n",
    "                    break\n",
    "               \n",
    "\n",
    "\n",
    "    # load best model weights\n",
    "    model.load_state_dict(best_model_wts)\n",
    "    return model"
   ]
  },
  {
   "cell_type": "code",
   "execution_count": 72,
   "id": "a1033565",
   "metadata": {
    "papermill": {
     "duration": 984.199429,
     "end_time": "2022-12-12T05:29:34.226522",
     "exception": false,
     "start_time": "2022-12-12T05:13:10.027093",
     "status": "completed"
    },
    "tags": []
   },
   "outputs": [
    {
     "name": "stdout",
     "output_type": "stream",
     "text": [
      "Epoch 0/21\n",
      "----------\n",
      "train Loss: 0.9323\n",
      "val Loss: 1.1543\n",
      "Epoch 2/21\n",
      "----------\n",
      "train Loss: 0.9130\n",
      "val Loss: 1.1567\n",
      "Epoch 4/21\n",
      "----------\n",
      "train Loss: 0.9023\n",
      "val Loss: 1.1384\n",
      "Epoch 6/21\n",
      "----------\n",
      "train Loss: 0.8837\n",
      "val Loss: 1.1636\n",
      "Epoch 8/21\n",
      "----------\n",
      "train Loss: 0.8732\n",
      "val Loss: 1.1420\n",
      "Epoch 10/21\n",
      "----------\n",
      "train Loss: 0.8492\n",
      "val Loss: 1.1783\n",
      "Stopped by early_stopping. Epoch: 10\n"
     ]
    }
   ],
   "source": [
    "model_ft = train_model(model, dataloaders_dict, regression_criterion,\n",
    "                classification_criterion, optimizer, num_epochs=22)"
   ]
  },
  {
   "cell_type": "code",
   "execution_count": 73,
   "id": "c772c730",
   "metadata": {
    "papermill": {
     "duration": 9.161761,
     "end_time": "2022-12-12T05:29:43.404103",
     "exception": false,
     "start_time": "2022-12-12T05:29:34.242342",
     "status": "completed"
    },
    "tags": []
   },
   "outputs": [],
   "source": [
    "# p1, p2 - предсказания; l1, l2  - истинные значения\n",
    "\n",
    "p1, p2, l1, l2 = [], [], [], []\n",
    "\n",
    "with torch.set_grad_enabled(False):\n",
    "    # Get model outputs and calculate loss\n",
    "    for inputs, labels_1, labels_2 in dataloaders_dict['val']:\n",
    "        inputs = inputs.to(device)\n",
    "        labels_1 = labels_1.to(device)\n",
    "        labels_2 = labels_2.to(device)\n",
    "        l1.extend(labels_1.detach().cpu().numpy())\n",
    "        l2.extend(labels_2.detach().cpu().numpy())\n",
    "        \n",
    "        outputs_1, outputs_2 = model_ft(inputs)\n",
    "        _, outputs_2 = torch.max(outputs_2, 1)\n",
    "\n",
    "        p1.extend(outputs_1.detach().cpu().numpy())\n",
    "        p2.extend(outputs_2.detach().cpu().numpy())"
   ]
  },
  {
   "cell_type": "code",
   "execution_count": 77,
   "id": "c14a7033-6f04-420f-9832-7fb2818cda05",
   "metadata": {},
   "outputs": [],
   "source": [
    "# Сохраняем веса модели\n",
    "torch.save(model_ft.state_dict(), 'tab_model.pth')"
   ]
  },
  {
   "cell_type": "markdown",
   "id": "b624f5e6",
   "metadata": {
    "papermill": {
     "duration": 0.01554,
     "end_time": "2022-12-12T05:29:43.435681",
     "exception": false,
     "start_time": "2022-12-12T05:29:43.420141",
     "status": "completed"
    },
    "tags": []
   },
   "source": [
    "**посмотрим на результаты по каждой из задач**"
   ]
  },
  {
   "cell_type": "code",
   "execution_count": 74,
   "id": "48d40ac3",
   "metadata": {
    "papermill": {
     "duration": 0.055079,
     "end_time": "2022-12-12T05:29:43.506852",
     "exception": false,
     "start_time": "2022-12-12T05:29:43.451773",
     "status": "completed"
    },
    "tags": []
   },
   "outputs": [
    {
     "data": {
      "text/plain": [
       "(0.6723428351666079, 0.6730769230769231)"
      ]
     },
     "execution_count": 74,
     "metadata": {},
     "output_type": "execute_result"
    }
   ],
   "source": [
    "# классификация\n",
    "from sklearn.metrics import f1_score\n",
    "f1_score(l2, p2, average='macro'), accuracy_score(l2, p2)"
   ]
  },
  {
   "cell_type": "code",
   "execution_count": 75,
   "id": "138fd0a3",
   "metadata": {
    "papermill": {
     "duration": 0.033273,
     "end_time": "2022-12-12T05:29:43.595424",
     "exception": false,
     "start_time": "2022-12-12T05:29:43.562151",
     "status": "completed"
    },
    "tags": []
   },
   "outputs": [],
   "source": [
    "p1 = target_scaler.inverse_transform(np.array(p2).reshape(-1, 1))\n",
    "l1 = target_scaler.inverse_transform(np.array(l2).reshape(-1, 1))"
   ]
  },
  {
   "cell_type": "code",
   "execution_count": 76,
   "id": "7d5269d3",
   "metadata": {
    "papermill": {
     "duration": 0.026772,
     "end_time": "2022-12-12T05:29:43.638314",
     "exception": false,
     "start_time": "2022-12-12T05:29:43.611542",
     "status": "completed"
    },
    "tags": []
   },
   "outputs": [
    {
     "data": {
      "text/plain": [
       "36.27338480915201"
      ]
     },
     "execution_count": 76,
     "metadata": {},
     "output_type": "execute_result"
    }
   ],
   "source": [
    "# регрессия\n",
    "mean_squared_error(l1, p1) ** 0.5"
   ]
  },
  {
   "cell_type": "markdown",
   "id": "500defa8",
   "metadata": {
    "papermill": {
     "duration": 0.016403,
     "end_time": "2022-12-12T05:29:43.670501",
     "exception": false,
     "start_time": "2022-12-12T05:29:43.654098",
     "status": "completed"
    },
    "tags": []
   },
   "source": [
    "<div class=\"alert alert-info\">\n",
    "\n",
    "чтобы улучшить скор можно поэкспериментировать с: \n",
    "- нормализацией данных, заполнением пропусков\n",
    "- архитектурой сети\n",
    "- попробовать lr sheduler"
   ]
  },
  {
   "cell_type": "markdown",
   "id": "291fd89f-8697-4f84-98d2-16d3d144922c",
   "metadata": {},
   "source": [
    "<div class=\"alert alert-info\">\n",
    "\n",
    "Добавить выводы: \n",
    "* кастомизация без ограничений\n",
    "* любые лоссы"
   ]
  },
  {
   "cell_type": "markdown",
   "id": "4929c668",
   "metadata": {
    "papermill": {
     "duration": 0.015467,
     "end_time": "2022-12-12T05:29:43.702808",
     "exception": false,
     "start_time": "2022-12-12T05:29:43.687341",
     "status": "completed"
    },
    "tags": []
   },
   "source": [
    "# <center>🕸 `TabNet` - \"SOTA\" для табличек.</center>\n",
    "А теперь решим задачу с помощью [TABNET](https://github.com/dreamquark-ai/tabnet)."
   ]
  },
  {
   "cell_type": "markdown",
   "id": "5949c37d",
   "metadata": {
    "papermill": {
     "duration": 0.015851,
     "end_time": "2022-12-12T05:29:43.734051",
     "exception": false,
     "start_time": "2022-12-12T05:29:43.718200",
     "status": "completed"
    },
    "tags": []
   },
   "source": [
    "https://arxiv.org/abs/1908.07442 <br>\n",
    "[Подробное описание архитектуры на русском языке.](https://habr.com/ru/articles/540736/)"
   ]
  },
  {
   "cell_type": "code",
   "execution_count": 42,
   "id": "334ceca0",
   "metadata": {
    "papermill": {
     "duration": 16.074534,
     "end_time": "2022-12-12T05:29:59.982624",
     "exception": false,
     "start_time": "2022-12-12T05:29:43.908090",
     "status": "completed"
    },
    "tags": []
   },
   "outputs": [],
   "source": [
    "!pip install pytorch-tabnet -q"
   ]
  },
  {
   "cell_type": "code",
   "execution_count": 47,
   "id": "f48aca47",
   "metadata": {
    "papermill": {
     "duration": 0.045598,
     "end_time": "2022-12-12T05:29:43.796292",
     "exception": false,
     "start_time": "2022-12-12T05:29:43.750694",
     "status": "completed"
    },
    "tags": []
   },
   "outputs": [],
   "source": [
    "y = df['target_class']\n",
    "X_train, X_test, y_train, y_test = train_test_split(X, y, test_size=0.2, random_state=42)"
   ]
  },
  {
   "cell_type": "markdown",
   "id": "e49a3419",
   "metadata": {
    "papermill": {
     "duration": 0.016618,
     "end_time": "2022-12-12T05:30:00.088995",
     "exception": false,
     "start_time": "2022-12-12T05:30:00.072377",
     "status": "completed"
    },
    "tags": []
   },
   "source": [
    "## **Классификация**"
   ]
  },
  {
   "cell_type": "code",
   "execution_count": 49,
   "id": "d4e963d2",
   "metadata": {
    "papermill": {
     "duration": 250.852946,
     "end_time": "2022-12-12T05:34:10.960029",
     "exception": false,
     "start_time": "2022-12-12T05:30:00.107083",
     "status": "completed"
    },
    "tags": []
   },
   "outputs": [
    {
     "name": "stderr",
     "output_type": "stream",
     "text": [
      "/opt/conda/lib/python3.9/site-packages/pytorch_tabnet/abstract_model.py:75: UserWarning: Device used : cpu\n",
      "  warnings.warn(f\"Device used : {self.device}\")\n"
     ]
    },
    {
     "name": "stdout",
     "output_type": "stream",
     "text": [
      "epoch 0  | loss: 2.83062 | val_0_accuracy: 0.10256 |  0:00:00s\n",
      "epoch 1  | loss: 2.60905 | val_0_accuracy: 0.11111 |  0:00:00s\n",
      "epoch 2  | loss: 2.54789 | val_0_accuracy: 0.11538 |  0:00:00s\n",
      "epoch 3  | loss: 2.44467 | val_0_accuracy: 0.12179 |  0:00:00s\n",
      "epoch 4  | loss: 2.38623 | val_0_accuracy: 0.12179 |  0:00:00s\n",
      "epoch 5  | loss: 2.31799 | val_0_accuracy: 0.11966 |  0:00:00s\n",
      "epoch 6  | loss: 2.25361 | val_0_accuracy: 0.1047  |  0:00:00s\n",
      "epoch 7  | loss: 2.23937 | val_0_accuracy: 0.12179 |  0:00:00s\n",
      "epoch 8  | loss: 2.22423 | val_0_accuracy: 0.12393 |  0:00:00s\n",
      "epoch 9  | loss: 2.19808 | val_0_accuracy: 0.13248 |  0:00:00s\n",
      "epoch 10 | loss: 2.21252 | val_0_accuracy: 0.14103 |  0:00:00s\n",
      "epoch 11 | loss: 2.19285 | val_0_accuracy: 0.14316 |  0:00:00s\n",
      "epoch 12 | loss: 2.18451 | val_0_accuracy: 0.15598 |  0:00:00s\n",
      "epoch 13 | loss: 2.1724  | val_0_accuracy: 0.16026 |  0:00:00s\n",
      "epoch 14 | loss: 2.14659 | val_0_accuracy: 0.17949 |  0:00:00s\n",
      "epoch 15 | loss: 2.14944 | val_0_accuracy: 0.19017 |  0:00:00s\n",
      "epoch 16 | loss: 2.14018 | val_0_accuracy: 0.20299 |  0:00:00s\n",
      "epoch 17 | loss: 2.1356  | val_0_accuracy: 0.21154 |  0:00:00s\n",
      "epoch 18 | loss: 2.10174 | val_0_accuracy: 0.2094  |  0:00:00s\n",
      "epoch 19 | loss: 2.11274 | val_0_accuracy: 0.20513 |  0:00:00s\n",
      "epoch 20 | loss: 2.08198 | val_0_accuracy: 0.20085 |  0:00:00s\n",
      "epoch 21 | loss: 2.06136 | val_0_accuracy: 0.20513 |  0:00:00s\n",
      "epoch 22 | loss: 2.05844 | val_0_accuracy: 0.20085 |  0:00:00s\n",
      "epoch 23 | loss: 2.03942 | val_0_accuracy: 0.20513 |  0:00:00s\n",
      "epoch 24 | loss: 2.01499 | val_0_accuracy: 0.20726 |  0:00:00s\n",
      "epoch 25 | loss: 2.00351 | val_0_accuracy: 0.21368 |  0:00:00s\n",
      "epoch 26 | loss: 1.96751 | val_0_accuracy: 0.21795 |  0:00:00s\n",
      "epoch 27 | loss: 1.94209 | val_0_accuracy: 0.21795 |  0:00:00s\n",
      "epoch 28 | loss: 1.95686 | val_0_accuracy: 0.21795 |  0:00:00s\n",
      "epoch 29 | loss: 1.92134 | val_0_accuracy: 0.22009 |  0:00:00s\n",
      "epoch 30 | loss: 1.90096 | val_0_accuracy: 0.22436 |  0:00:01s\n",
      "epoch 31 | loss: 1.86427 | val_0_accuracy: 0.22436 |  0:00:01s\n",
      "epoch 32 | loss: 1.86675 | val_0_accuracy: 0.22222 |  0:00:01s\n",
      "epoch 33 | loss: 1.84995 | val_0_accuracy: 0.22436 |  0:00:01s\n",
      "epoch 34 | loss: 1.85679 | val_0_accuracy: 0.2265  |  0:00:01s\n",
      "epoch 35 | loss: 1.80511 | val_0_accuracy: 0.23077 |  0:00:01s\n",
      "epoch 36 | loss: 1.7597  | val_0_accuracy: 0.23291 |  0:00:01s\n",
      "epoch 37 | loss: 1.75261 | val_0_accuracy: 0.23504 |  0:00:01s\n",
      "epoch 38 | loss: 1.71506 | val_0_accuracy: 0.23932 |  0:00:01s\n",
      "epoch 39 | loss: 1.68214 | val_0_accuracy: 0.26282 |  0:00:01s\n",
      "epoch 40 | loss: 1.65016 | val_0_accuracy: 0.2906  |  0:00:01s\n",
      "epoch 41 | loss: 1.5808  | val_0_accuracy: 0.31197 |  0:00:01s\n",
      "epoch 42 | loss: 1.56398 | val_0_accuracy: 0.31838 |  0:00:01s\n",
      "epoch 43 | loss: 1.51491 | val_0_accuracy: 0.35684 |  0:00:01s\n",
      "epoch 44 | loss: 1.47215 | val_0_accuracy: 0.37393 |  0:00:01s\n",
      "epoch 45 | loss: 1.43795 | val_0_accuracy: 0.37179 |  0:00:01s\n",
      "epoch 46 | loss: 1.36621 | val_0_accuracy: 0.37393 |  0:00:01s\n",
      "epoch 47 | loss: 1.35103 | val_0_accuracy: 0.37393 |  0:00:01s\n",
      "epoch 48 | loss: 1.28708 | val_0_accuracy: 0.3953  |  0:00:01s\n",
      "epoch 49 | loss: 1.2612  | val_0_accuracy: 0.36325 |  0:00:01s\n",
      "epoch 50 | loss: 1.22272 | val_0_accuracy: 0.38248 |  0:00:01s\n",
      "epoch 51 | loss: 1.16158 | val_0_accuracy: 0.3953  |  0:00:01s\n",
      "epoch 52 | loss: 1.15197 | val_0_accuracy: 0.41026 |  0:00:01s\n",
      "epoch 53 | loss: 1.10874 | val_0_accuracy: 0.42735 |  0:00:01s\n",
      "epoch 54 | loss: 1.09437 | val_0_accuracy: 0.44872 |  0:00:01s\n",
      "epoch 55 | loss: 1.02342 | val_0_accuracy: 0.45299 |  0:00:01s\n",
      "epoch 56 | loss: 0.99359 | val_0_accuracy: 0.46368 |  0:00:01s\n",
      "epoch 57 | loss: 0.96627 | val_0_accuracy: 0.47222 |  0:00:01s\n",
      "epoch 58 | loss: 0.96496 | val_0_accuracy: 0.47222 |  0:00:01s\n",
      "epoch 59 | loss: 0.93023 | val_0_accuracy: 0.46154 |  0:00:01s\n",
      "epoch 60 | loss: 0.92816 | val_0_accuracy: 0.48291 |  0:00:01s\n",
      "epoch 61 | loss: 0.94282 | val_0_accuracy: 0.49359 |  0:00:02s\n",
      "epoch 62 | loss: 0.88599 | val_0_accuracy: 0.49573 |  0:00:02s\n",
      "epoch 63 | loss: 0.87732 | val_0_accuracy: 0.5     |  0:00:02s\n",
      "epoch 64 | loss: 0.8766  | val_0_accuracy: 0.50855 |  0:00:02s\n",
      "epoch 65 | loss: 0.88222 | val_0_accuracy: 0.52778 |  0:00:02s\n",
      "epoch 66 | loss: 0.82879 | val_0_accuracy: 0.58333 |  0:00:02s\n",
      "epoch 67 | loss: 0.81858 | val_0_accuracy: 0.55769 |  0:00:02s\n",
      "epoch 68 | loss: 0.79662 | val_0_accuracy: 0.55128 |  0:00:02s\n",
      "epoch 69 | loss: 0.81872 | val_0_accuracy: 0.55128 |  0:00:02s\n",
      "epoch 70 | loss: 0.77756 | val_0_accuracy: 0.56624 |  0:00:02s\n",
      "epoch 71 | loss: 0.76489 | val_0_accuracy: 0.57265 |  0:00:02s\n",
      "epoch 72 | loss: 0.76665 | val_0_accuracy: 0.56838 |  0:00:02s\n",
      "epoch 73 | loss: 0.78731 | val_0_accuracy: 0.55769 |  0:00:02s\n",
      "epoch 74 | loss: 0.74498 | val_0_accuracy: 0.54915 |  0:00:02s\n",
      "epoch 75 | loss: 0.74717 | val_0_accuracy: 0.57265 |  0:00:02s\n",
      "epoch 76 | loss: 0.75135 | val_0_accuracy: 0.57051 |  0:00:02s\n",
      "\n",
      "Early stopping occurred at epoch 76 with best_epoch = 66 and best_val_0_accuracy = 0.58333\n"
     ]
    },
    {
     "name": "stderr",
     "output_type": "stream",
     "text": [
      "/opt/conda/lib/python3.9/site-packages/pytorch_tabnet/callbacks.py:172: UserWarning: Best weights from best epoch are automatically used!\n",
      "  warnings.warn(wrn_msg)\n"
     ]
    }
   ],
   "source": [
    "from pytorch_tabnet.tab_model import TabNetClassifier, TabNetRegressor\n",
    "\n",
    "clf = TabNetClassifier(device_name='cpu')\n",
    "clf.fit(X_train.values, y_train,\n",
    "        eval_set=[(X_test.values, y_test)])"
   ]
  },
  {
   "cell_type": "code",
   "execution_count": 50,
   "id": "c70c8967-a810-4814-89f8-27ab3bc28aa6",
   "metadata": {},
   "outputs": [
    {
     "name": "stdout",
     "output_type": "stream",
     "text": [
      "0.4966 mean_rating\n",
      "0.2306 speed_max\n",
      "0.1371 rating_min\n",
      "0.0988 model_Hyundai Solaris\n",
      "0.010254 model_Smart Coupe\n",
      "0.00698 fuel_type_petrol\n",
      "0.0048 riders\n",
      "0.004036 model_Mini Cooper\n",
      "0.001627 model_Audi A3\n",
      "0.00147 model_Smart ForTwo\n",
      "0.001165 user_ride_quality_median\n",
      "0.0009565 distance_sum\n",
      "0.0007944 model_Renault Kaptur\n",
      "0.0007234 model_Skoda Rapid\n",
      "0.0005913 model_Smart ForFour\n",
      "0.0005627 year_to_work\n",
      "0.000541 car_type_standart\n",
      "0.0004168 model_Nissan Qashqai\n",
      "0.0003915 model_Mercedes-Benz GLC\n",
      "0.0003476 model_VW Polo\n",
      "0.000232 car_type_business\n",
      "0.0001805 year_to_start\n",
      "0.0001553 model_VW Polo VI\n",
      "0.0001531 car_rating\n",
      "0.0001518 model_Mercedes-Benz E200\n",
      "0.00011355 model_Kia Rio X-line\n",
      "5.555e-05 model_Kia Sportage\n",
      "3.505e-05 model_Tesla Model 3\n",
      "3.18e-05 car_type_premium\n",
      "2.396e-05 model_VW Tiguan\n",
      "1.86e-05 model_BMW 320i\n",
      "6.74e-06 model_Volkswagen ID.4 \n",
      "6.74e-06 fuel_type_electro\n",
      "5.8e-06 car_type_economy\n",
      "0.0 user_uniq\n",
      "0.0 model_Renault Sandero\n",
      "0.0 model_MINI CooperSE\n",
      "0.0 model_Kia Rio X\n",
      "0.0 model_Kia Rio\n",
      "0.0 model_Fiat 500\n",
      "0.0 model_Audi Q3\n",
      "0.0 model_Audi A4\n",
      "0.0 deviation_normal_count\n"
     ]
    }
   ],
   "source": [
    "for i, j in sorted(zip(clf.feature_importances_.astype('float16'), X_train.columns), reverse=True):\n",
    "    print(i, j)"
   ]
  },
  {
   "cell_type": "code",
   "execution_count": 52,
   "id": "2ded12f1-ee9d-4f42-b454-8bc8d2961130",
   "metadata": {},
   "outputs": [
    {
     "data": {
      "image/png": "[encoded data removed]",
      "text/plain": [
       "<Figure size 2000x2000 with 3 Axes>"
      ]
     },
     "metadata": {},
     "output_type": "display_data"
    }
   ],
   "source": [
    "import matplotlib.pyplot as plt\n",
    "\n",
    "explain_matrix, masks = clf.explain(X_test.values)\n",
    "\n",
    "fig, axs = plt.subplots(1, 3, figsize=(20,20))\n",
    "for i in range(3):\n",
    "    axs[i].imshow(masks[i][:50])\n",
    "    axs[i].set_title(f\"mask {i}\")"
   ]
  },
  {
   "cell_type": "code",
   "execution_count": 53,
   "id": "a69232db",
   "metadata": {
    "papermill": {
     "duration": 0.562027,
     "end_time": "2022-12-12T05:34:11.544248",
     "exception": false,
     "start_time": "2022-12-12T05:34:10.982221",
     "status": "completed"
    },
    "tags": []
   },
   "outputs": [],
   "source": [
    "preds = clf.predict(X_test.values)"
   ]
  },
  {
   "cell_type": "code",
   "execution_count": 54,
   "id": "7b292591",
   "metadata": {
    "papermill": {
     "duration": 0.038659,
     "end_time": "2022-12-12T05:34:11.603516",
     "exception": false,
     "start_time": "2022-12-12T05:34:11.564857",
     "status": "completed"
    },
    "tags": []
   },
   "outputs": [
    {
     "data": {
      "text/plain": [
       "array([3, 5, 0, 6, 6])"
      ]
     },
     "execution_count": 54,
     "metadata": {},
     "output_type": "execute_result"
    }
   ],
   "source": [
    "preds[:5]"
   ]
  },
  {
   "cell_type": "code",
   "execution_count": 55,
   "id": "48bc4df7",
   "metadata": {
    "papermill": {
     "duration": 0.140483,
     "end_time": "2022-12-12T05:34:11.765915",
     "exception": false,
     "start_time": "2022-12-12T05:34:11.625432",
     "status": "completed"
    },
    "tags": []
   },
   "outputs": [
    {
     "data": {
      "text/plain": [
       "(0.5446759733706402, 0.5833333333333334)"
      ]
     },
     "execution_count": 55,
     "metadata": {},
     "output_type": "execute_result"
    }
   ],
   "source": [
    "f1_score(y_test, preds, average='macro'), accuracy_score(y_test, preds)"
   ]
  },
  {
   "cell_type": "markdown",
   "id": "da476d79",
   "metadata": {
    "papermill": {
     "duration": 0.021449,
     "end_time": "2022-12-12T05:34:11.964043",
     "exception": false,
     "start_time": "2022-12-12T05:34:11.942594",
     "status": "completed"
    },
    "tags": []
   },
   "source": [
    "## **Регрессия**"
   ]
  },
  {
   "cell_type": "code",
   "execution_count": 56,
   "id": "550b29e0",
   "metadata": {
    "papermill": {
     "duration": 0.031633,
     "end_time": "2022-12-12T05:34:11.820467",
     "exception": false,
     "start_time": "2022-12-12T05:34:11.788834",
     "status": "completed"
    },
    "tags": []
   },
   "outputs": [],
   "source": [
    "y = df['target_reg']"
   ]
  },
  {
   "cell_type": "code",
   "execution_count": 57,
   "id": "ac570e93",
   "metadata": {
    "papermill": {
     "duration": 0.079668,
     "end_time": "2022-12-12T05:34:11.921922",
     "exception": false,
     "start_time": "2022-12-12T05:34:11.842254",
     "status": "completed"
    },
    "tags": []
   },
   "outputs": [],
   "source": [
    "X_train, X_test, y_train, y_test = train_test_split(X, y, test_size=0.2, random_state=42)"
   ]
  },
  {
   "cell_type": "code",
   "execution_count": 58,
   "id": "b10c484e",
   "metadata": {
    "papermill": {
     "duration": 459.816751,
     "end_time": "2022-12-12T05:41:51.803545",
     "exception": false,
     "start_time": "2022-12-12T05:34:11.986794",
     "status": "completed"
    },
    "tags": []
   },
   "outputs": [
    {
     "name": "stderr",
     "output_type": "stream",
     "text": [
      "/opt/conda/lib/python3.9/site-packages/pytorch_tabnet/abstract_model.py:75: UserWarning: Device used : cpu\n",
      "  warnings.warn(f\"Device used : {self.device}\")\n"
     ]
    },
    {
     "name": "stdout",
     "output_type": "stream",
     "text": [
      "epoch 0  | loss: 1.76506 | val_0_mse: 0.7045  |  0:00:00s\n",
      "epoch 1  | loss: 1.2924  | val_0_mse: 0.68811 |  0:00:00s\n",
      "epoch 2  | loss: 1.10533 | val_0_mse: 0.67619 |  0:00:00s\n",
      "epoch 3  | loss: 0.94004 | val_0_mse: 0.67994 |  0:00:00s\n",
      "epoch 4  | loss: 0.89023 | val_0_mse: 0.67594 |  0:00:00s\n",
      "epoch 5  | loss: 0.80719 | val_0_mse: 0.67334 |  0:00:00s\n",
      "epoch 6  | loss: 0.73245 | val_0_mse: 0.66269 |  0:00:00s\n",
      "epoch 7  | loss: 0.75244 | val_0_mse: 0.65668 |  0:00:00s\n",
      "epoch 8  | loss: 0.65909 | val_0_mse: 0.67951 |  0:00:00s\n",
      "epoch 9  | loss: 0.62468 | val_0_mse: 1.07484 |  0:00:00s\n",
      "epoch 10 | loss: 0.57264 | val_0_mse: 1.53159 |  0:00:00s\n",
      "epoch 11 | loss: 0.58079 | val_0_mse: 1.77093 |  0:00:00s\n",
      "epoch 12 | loss: 0.6089  | val_0_mse: 1.82843 |  0:00:00s\n",
      "epoch 13 | loss: 0.64123 | val_0_mse: 1.9527  |  0:00:00s\n",
      "epoch 14 | loss: 0.62013 | val_0_mse: 1.80956 |  0:00:00s\n",
      "epoch 15 | loss: 0.59087 | val_0_mse: 1.843   |  0:00:00s\n",
      "epoch 16 | loss: 0.57148 | val_0_mse: 1.88329 |  0:00:00s\n",
      "epoch 17 | loss: 0.59433 | val_0_mse: 1.71849 |  0:00:00s\n",
      "\n",
      "Early stopping occurred at epoch 17 with best_epoch = 7 and best_val_0_mse = 0.65668\n"
     ]
    },
    {
     "name": "stderr",
     "output_type": "stream",
     "text": [
      "/opt/conda/lib/python3.9/site-packages/pytorch_tabnet/callbacks.py:172: UserWarning: Best weights from best epoch are automatically used!\n",
      "  warnings.warn(wrn_msg)\n"
     ]
    }
   ],
   "source": [
    "reg = TabNetRegressor(device_name='cpu')\n",
    "reg.fit(\n",
    "  X_train.values, y_train.values.reshape(-1,1),\n",
    "  eval_set=[(X_test.values, y_test.values.reshape(-1,1))]\n",
    ")"
   ]
  },
  {
   "cell_type": "code",
   "execution_count": 62,
   "id": "54f46b59",
   "metadata": {
    "papermill": {
     "duration": 0.568666,
     "end_time": "2022-12-12T05:41:52.405436",
     "exception": false,
     "start_time": "2022-12-12T05:41:51.836770",
     "status": "completed"
    },
    "tags": []
   },
   "outputs": [
    {
     "data": {
      "text/plain": [
       "array([[41.067886],\n",
       "       [41.123016],\n",
       "       [40.908028],\n",
       "       [40.900574],\n",
       "       [41.344833]], dtype=float32)"
      ]
     },
     "execution_count": 62,
     "metadata": {},
     "output_type": "execute_result"
    }
   ],
   "source": [
    "preds = reg.predict(X_test.values)\n",
    "preds = target_scaler.inverse_transform(np.array(preds).reshape(-1, 1))\n",
    "preds[:5]"
   ]
  },
  {
   "cell_type": "code",
   "execution_count": 63,
   "id": "7be82a71",
   "metadata": {
    "papermill": {
     "duration": 0.046726,
     "end_time": "2022-12-12T05:41:52.565091",
     "exception": false,
     "start_time": "2022-12-12T05:41:52.518365",
     "status": "completed"
    },
    "tags": []
   },
   "outputs": [
    {
     "data": {
      "text/plain": [
       "40.50636571221867"
      ]
     },
     "execution_count": 63,
     "metadata": {},
     "output_type": "execute_result"
    }
   ],
   "source": [
    "mean_squared_error(y_test, preds) ** 0.5"
   ]
  },
  {
   "cell_type": "markdown",
   "id": "2403c08d-085e-4199-86b2-200f41f93b26",
   "metadata": {},
   "source": [
    "<center> <img src='../images/nn1.png'> </center>"
   ]
  },
  {
   "cell_type": "markdown",
   "id": "3850d615-f9ae-4fad-81f3-9e6d64e32122",
   "metadata": {},
   "source": [
    "## <center>🧠 Мысли и выводы</center>\n"
   ]
  },
  {
   "cell_type": "code",
   "execution_count": null,
   "id": "f0f210ac-a96e-42d5-92ce-d67642ff0329",
   "metadata": {},
   "outputs": [],
   "source": []
  },
  {
   "cell_type": "markdown",
   "id": "8842ac99-d19c-486a-ad2f-a1ea3ed3f147",
   "metadata": {},
   "source": [
    "## <center>🧸 Дополнительные материалы</center>"
   ]
  },
  {
   "cell_type": "markdown",
   "id": "c9ab6781-3cc3-43f6-9795-b481c23c2560",
   "metadata": {},
   "source": [
    "* lifestream\n",
    "* pytorch для табличек (добавить ссылки)"
   ]
  }
 ],
 "metadata": {
  "kernelspec": {
   "display_name": "Python 3 (ipykernel)",
   "language": "python",
   "name": "python3"
  },
  "language_info": {
   "codemirror_mode": {
    "name": "ipython",
    "version": 3
   },
   "file_extension": ".py",
   "mimetype": "text/x-python",
   "name": "python",
   "nbconvert_exporter": "python",
   "pygments_lexer": "ipython3",
   "version": "3.9.15"
  },
  "papermill": {
   "default_parameters": {},
   "duration": 1751.13839,
   "end_time": "2022-12-12T05:41:53.780976",
   "environment_variables": {},
   "exception": null,
   "input_path": "__notebook__.ipynb",
   "output_path": "__notebook__.ipynb",
   "parameters": {},
   "start_time": "2022-12-12T05:12:42.642586",
   "version": "2.3.4"
  }
 },
 "nbformat": 4,
 "nbformat_minor": 5
}
