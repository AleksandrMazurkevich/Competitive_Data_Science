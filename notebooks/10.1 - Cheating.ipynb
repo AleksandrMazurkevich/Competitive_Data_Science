{
 "cells": [
  {
   "cell_type": "code",
   "execution_count": 214,
   "id": "4a47facf",
   "metadata": {},
   "outputs": [],
   "source": [
    "import numpy as np\n",
    "import pandas as pd\n",
    "from sklearn.metrics import mean_absolute_error, f1_score, recall_score, precision_score, accuracy_score, roc_auc_score\n",
    "from copy import deepcopy\n",
    "import pickle"
   ]
  },
  {
   "cell_type": "markdown",
   "id": "86bbffe0",
   "metadata": {},
   "source": [
    "### 1 задачка"
   ]
  },
  {
   "cell_type": "markdown",
   "id": "c4bd907c-21d6-45f1-bfc8-4ebbefd1d43f",
   "metadata": {},
   "source": [
    "Задача регрессии. \n",
    "Смысл чтоб люди додумались отразить отрицальтельные и образать выбросы"
   ]
  },
  {
   "cell_type": "code",
   "execution_count": 19,
   "id": "ece90f43",
   "metadata": {},
   "outputs": [
    {
     "name": "stdout",
     "output_type": "stream",
     "text": [
      "0.23835475916953183\n",
      "0.19356137146005675\n"
     ]
    }
   ],
   "source": [
    "data = np.random.randint(0, 100, 10_000) / 100\n",
    "train, test = data[:5_000], data[5_000:]\n",
    "noise = np.random.normal(0, 0.3, 5_000)\n",
    "bad_predict = test + noise\n",
    "print(mean_absolute_error(test, bad_predict))\n",
    "best_predict = deepcopy(bad_predict)\n",
    "\n",
    "mask_minus = (bad_predict < 0) \n",
    "best_predict[mask_minus] = abs(best_predict[mask_minus])\n",
    "mask_plus = bad_predict > 1\n",
    "best_predict[mask_plus] = 1\n",
    "print(mean_absolute_error(test, best_predict))"
   ]
  },
  {
   "cell_type": "code",
   "execution_count": 50,
   "id": "034ce86f-7ac3-4633-b437-5efeb1c60138",
   "metadata": {},
   "outputs": [],
   "source": [
    "path = 'https://stepik.org/media/attachments/lesson/868367/hm1_solution.csv'\n",
    "cols = ['row_id','bad_predict', 'test_target']\n",
    "df = pd.read_csv(path, dtype = {'row_id' : 'str', 'bad_predict': np.float16}).head(100)[cols]\n"
   ]
  },
  {
   "cell_type": "code",
   "execution_count": 52,
   "id": "cdee8f9b-df0a-49ce-bdf7-c88aeeda2873",
   "metadata": {},
   "outputs": [],
   "source": [
    "# df_dict = {}\n",
    "# for c in df.columns:\n",
    "#     if c in ['bad_predict']:\n",
    "#         arr = [round(i, 3) for i in df[c]]\n",
    "#         df[c] = arr\n",
    "        \n",
    "#     df_dict[c] = df[c].values.tolist()\n",
    "    \n",
    "# df_dict['row_id'] = [v[9:] for v in df_dict['row_id']]\n",
    "\n",
    "# # df_dict"
   ]
  },
  {
   "cell_type": "code",
   "execution_count": null,
   "id": "b87d3dea-054f-435d-957e-d4fa968cb5a8",
   "metadata": {},
   "outputs": [],
   "source": []
  },
  {
   "cell_type": "code",
   "execution_count": null,
   "id": "6178bc5b-a728-4ab4-ac46-b6aefc2c382a",
   "metadata": {},
   "outputs": [],
   "source": []
  },
  {
   "cell_type": "code",
   "execution_count": 49,
   "id": "f9612e3f",
   "metadata": {},
   "outputs": [],
   "source": [
    "first_data_train = pd.DataFrame({\n",
    "    'row_id': [f'id_{np.random.randint(10_000, 1_000_000)}' for i in range(len(train))],\n",
    "    'train_target': train,\n",
    "})\n",
    "\n",
    "first_data_test = pd.DataFrame({\n",
    "    'row_id': [f'id_{np.random.randint(1000_000_000, 2000_000_000)}' for i in range(len(train))],\n",
    "    'test_target': test,\n",
    "    \n",
    "    'bad_predict':  bad_predict,\n",
    "    'best_predict': best_predict,\n",
    "})\n",
    "\n",
    "# print(first_data_test.row_id.nunique(), first_data_train.row_id.nunique())\n",
    "# print(sum(first_data_test.row_id.isin(first_data_train.row_id.unique())))\n",
    "\n",
    "first_data_train.to_csv('../tmp_data/hm1_train.csv', index=False)\n",
    "first_data_test[['row_id', 'bad_predict']].to_csv('../tmp_data/hm1_test.csv', index=False)\n",
    "first_data_test.to_csv('../tmp_data/hm1_solution.csv', index=False)"
   ]
  },
  {
   "cell_type": "code",
   "execution_count": 51,
   "id": "488fe13b-bedc-4d2c-b932-347b42e15121",
   "metadata": {},
   "outputs": [
    {
     "data": {
      "text/html": [
       "<div>\n",
       "<style scoped>\n",
       "    .dataframe tbody tr th:only-of-type {\n",
       "        vertical-align: middle;\n",
       "    }\n",
       "\n",
       "    .dataframe tbody tr th {\n",
       "        vertical-align: top;\n",
       "    }\n",
       "\n",
       "    .dataframe thead th {\n",
       "        text-align: right;\n",
       "    }\n",
       "</style>\n",
       "<table border=\"1\" class=\"dataframe\">\n",
       "  <thead>\n",
       "    <tr style=\"text-align: right;\">\n",
       "      <th></th>\n",
       "      <th>row_id</th>\n",
       "      <th>bad_predict</th>\n",
       "    </tr>\n",
       "  </thead>\n",
       "  <tbody>\n",
       "    <tr>\n",
       "      <th>0</th>\n",
       "      <td>id_1883835437</td>\n",
       "      <td>1.290934</td>\n",
       "    </tr>\n",
       "    <tr>\n",
       "      <th>1</th>\n",
       "      <td>id_1783952331</td>\n",
       "      <td>0.751948</td>\n",
       "    </tr>\n",
       "    <tr>\n",
       "      <th>2</th>\n",
       "      <td>id_1239225779</td>\n",
       "      <td>0.839282</td>\n",
       "    </tr>\n",
       "    <tr>\n",
       "      <th>3</th>\n",
       "      <td>id_1674744949</td>\n",
       "      <td>0.142780</td>\n",
       "    </tr>\n",
       "    <tr>\n",
       "      <th>4</th>\n",
       "      <td>id_1671630768</td>\n",
       "      <td>0.446776</td>\n",
       "    </tr>\n",
       "  </tbody>\n",
       "</table>\n",
       "</div>"
      ],
      "text/plain": [
       "          row_id  bad_predict\n",
       "0  id_1883835437     1.290934\n",
       "1  id_1783952331     0.751948\n",
       "2  id_1239225779     0.839282\n",
       "3  id_1674744949     0.142780\n",
       "4  id_1671630768     0.446776"
      ]
     },
     "execution_count": 51,
     "metadata": {},
     "output_type": "execute_result"
    }
   ],
   "source": [
    "# first_data_train.head()\n",
    "first_data_test[['row_id', 'bad_predict']].head()"
   ]
  },
  {
   "cell_type": "code",
   "execution_count": 52,
   "id": "8c25830f-4805-492d-9479-086d5122a8d2",
   "metadata": {},
   "outputs": [
    {
     "data": {
      "text/html": [
       "<div>\n",
       "<style scoped>\n",
       "    .dataframe tbody tr th:only-of-type {\n",
       "        vertical-align: middle;\n",
       "    }\n",
       "\n",
       "    .dataframe tbody tr th {\n",
       "        vertical-align: top;\n",
       "    }\n",
       "\n",
       "    .dataframe thead th {\n",
       "        text-align: right;\n",
       "    }\n",
       "</style>\n",
       "<table border=\"1\" class=\"dataframe\">\n",
       "  <thead>\n",
       "    <tr style=\"text-align: right;\">\n",
       "      <th></th>\n",
       "      <th>row_id</th>\n",
       "      <th>train_target</th>\n",
       "    </tr>\n",
       "  </thead>\n",
       "  <tbody>\n",
       "    <tr>\n",
       "      <th>0</th>\n",
       "      <td>id_457318</td>\n",
       "      <td>0.84</td>\n",
       "    </tr>\n",
       "    <tr>\n",
       "      <th>1</th>\n",
       "      <td>id_784818</td>\n",
       "      <td>0.71</td>\n",
       "    </tr>\n",
       "    <tr>\n",
       "      <th>2</th>\n",
       "      <td>id_999059</td>\n",
       "      <td>0.51</td>\n",
       "    </tr>\n",
       "    <tr>\n",
       "      <th>3</th>\n",
       "      <td>id_838320</td>\n",
       "      <td>0.80</td>\n",
       "    </tr>\n",
       "    <tr>\n",
       "      <th>4</th>\n",
       "      <td>id_758667</td>\n",
       "      <td>0.53</td>\n",
       "    </tr>\n",
       "    <tr>\n",
       "      <th>...</th>\n",
       "      <td>...</td>\n",
       "      <td>...</td>\n",
       "    </tr>\n",
       "    <tr>\n",
       "      <th>4995</th>\n",
       "      <td>id_120307</td>\n",
       "      <td>0.44</td>\n",
       "    </tr>\n",
       "    <tr>\n",
       "      <th>4996</th>\n",
       "      <td>id_601307</td>\n",
       "      <td>0.94</td>\n",
       "    </tr>\n",
       "    <tr>\n",
       "      <th>4997</th>\n",
       "      <td>id_735165</td>\n",
       "      <td>0.82</td>\n",
       "    </tr>\n",
       "    <tr>\n",
       "      <th>4998</th>\n",
       "      <td>id_825943</td>\n",
       "      <td>0.46</td>\n",
       "    </tr>\n",
       "    <tr>\n",
       "      <th>4999</th>\n",
       "      <td>id_413173</td>\n",
       "      <td>0.00</td>\n",
       "    </tr>\n",
       "  </tbody>\n",
       "</table>\n",
       "<p>5000 rows × 2 columns</p>\n",
       "</div>"
      ],
      "text/plain": [
       "         row_id  train_target\n",
       "0     id_457318          0.84\n",
       "1     id_784818          0.71\n",
       "2     id_999059          0.51\n",
       "3     id_838320          0.80\n",
       "4     id_758667          0.53\n",
       "...         ...           ...\n",
       "4995  id_120307          0.44\n",
       "4996  id_601307          0.94\n",
       "4997  id_735165          0.82\n",
       "4998  id_825943          0.46\n",
       "4999  id_413173          0.00\n",
       "\n",
       "[5000 rows x 2 columns]"
      ]
     },
     "execution_count": 52,
     "metadata": {},
     "output_type": "execute_result"
    }
   ],
   "source": [
    "path = 'https://stepik.org/media/attachments/lesson/868367/hm1_train.csv'\n",
    "pd.read_csv(path)"
   ]
  },
  {
   "cell_type": "code",
   "execution_count": 17,
   "id": "b876f507-f3e8-4e93-8607-352bd7a1c2a1",
   "metadata": {},
   "outputs": [
    {
     "data": {
      "image/png": "[encoded data removed]",
      "text/plain": [
       "<Figure size 640x480 with 4 Axes>"
      ]
     },
     "metadata": {},
     "output_type": "display_data"
    }
   ],
   "source": [
    "first_data.hist(bins=30);"
   ]
  },
  {
   "cell_type": "code",
   "execution_count": null,
   "id": "5315865f-39bc-4fc7-bc79-270e81466d1a",
   "metadata": {},
   "outputs": [],
   "source": []
  },
  {
   "cell_type": "markdown",
   "id": "e4dcd512",
   "metadata": {},
   "source": [
    "### 2 задачка"
   ]
  },
  {
   "cell_type": "markdown",
   "id": "30e53c63-96b6-4546-9232-b9a6dd631bfb",
   "metadata": {},
   "source": [
    "Догадаться, что везде есть пресутствует один класс"
   ]
  },
  {
   "cell_type": "code",
   "execution_count": 4,
   "id": "6020958f",
   "metadata": {},
   "outputs": [
    {
     "name": "stdout",
     "output_type": "stream",
     "text": [
      "0.3947141344019297\n",
      "0.4439238642528433\n"
     ]
    }
   ],
   "source": [
    "data = np.random.rand(10_000, 11)\n",
    "data = (data > 0.45).astype(int)\n",
    "data[:,8] = 1\n",
    "train, test = data[:5000], data[5000:]\n",
    "noise = np.random.rand(5_000, 11) > 0.3\n",
    "predict = deepcopy(test)\n",
    "predict[noise] = 0\n",
    "predict[~noise] = 1\n",
    "\n",
    "print(f1_score(test, predict, average='macro'))\n",
    "best_predict = deepcopy(predict)\n",
    "best_predict[:,8] = 1\n",
    "\n",
    "print(f1_score(test, best_predict, average='macro'))"
   ]
  },
  {
   "cell_type": "code",
   "execution_count": 6,
   "id": "8516fafa",
   "metadata": {},
   "outputs": [],
   "source": [
    "second_data = {\n",
    "    'train_target': train,\n",
    "    'test_targe': test,\n",
    "    'bad_predict': predict,\n",
    "    'best_predict': best_predict,\n",
    "}\n",
    "with open('2_data.pkl', 'wb')  as fout:\n",
    "    pickle.dump(second_data, fout)\n",
    "    \n",
    "# second_data = pd.DataFrame(second_data)"
   ]
  },
  {
   "cell_type": "code",
   "execution_count": 57,
   "id": "b1eef55c-0de7-4f38-a284-1546fc65022b",
   "metadata": {},
   "outputs": [
    {
     "data": {
      "text/html": [
       "<div>\n",
       "<style scoped>\n",
       "    .dataframe tbody tr th:only-of-type {\n",
       "        vertical-align: middle;\n",
       "    }\n",
       "\n",
       "    .dataframe tbody tr th {\n",
       "        vertical-align: top;\n",
       "    }\n",
       "\n",
       "    .dataframe thead th {\n",
       "        text-align: right;\n",
       "    }\n",
       "</style>\n",
       "<table border=\"1\" class=\"dataframe\">\n",
       "  <thead>\n",
       "    <tr style=\"text-align: right;\">\n",
       "      <th></th>\n",
       "      <th>0</th>\n",
       "    </tr>\n",
       "  </thead>\n",
       "  <tbody>\n",
       "    <tr>\n",
       "      <th>0</th>\n",
       "      <td>0.307728</td>\n",
       "    </tr>\n",
       "    <tr>\n",
       "      <th>1</th>\n",
       "      <td>1.007146</td>\n",
       "    </tr>\n",
       "    <tr>\n",
       "      <th>2</th>\n",
       "      <td>0.691511</td>\n",
       "    </tr>\n",
       "    <tr>\n",
       "      <th>3</th>\n",
       "      <td>0.273473</td>\n",
       "    </tr>\n",
       "    <tr>\n",
       "      <th>4</th>\n",
       "      <td>0.842169</td>\n",
       "    </tr>\n",
       "    <tr>\n",
       "      <th>...</th>\n",
       "      <td>...</td>\n",
       "    </tr>\n",
       "    <tr>\n",
       "      <th>4995</th>\n",
       "      <td>0.430286</td>\n",
       "    </tr>\n",
       "    <tr>\n",
       "      <th>4996</th>\n",
       "      <td>0.234788</td>\n",
       "    </tr>\n",
       "    <tr>\n",
       "      <th>4997</th>\n",
       "      <td>0.269026</td>\n",
       "    </tr>\n",
       "    <tr>\n",
       "      <th>4998</th>\n",
       "      <td>0.197043</td>\n",
       "    </tr>\n",
       "    <tr>\n",
       "      <th>4999</th>\n",
       "      <td>0.203658</td>\n",
       "    </tr>\n",
       "  </tbody>\n",
       "</table>\n",
       "<p>5000 rows × 1 columns</p>\n",
       "</div>"
      ],
      "text/plain": [
       "             0\n",
       "0     0.307728\n",
       "1     1.007146\n",
       "2     0.691511\n",
       "3     0.273473\n",
       "4     0.842169\n",
       "...        ...\n",
       "4995  0.430286\n",
       "4996  0.234788\n",
       "4997  0.269026\n",
       "4998  0.197043\n",
       "4999  0.203658\n",
       "\n",
       "[5000 rows x 1 columns]"
      ]
     },
     "execution_count": 57,
     "metadata": {},
     "output_type": "execute_result"
    }
   ],
   "source": [
    "train_data = pd.DataFrame(train, columns = ['predict_proba'])\n",
    "test_data = pd.DataFrame(test, columns = ['predict_proba'])\n",
    "\n",
    "predict_data = pd.DataFrame(predict)\n",
    "best_predict_data = pd.DataFrame(best_predict)\n",
    "\n",
    "predict_data"
   ]
  },
  {
   "cell_type": "markdown",
   "id": "9228c43b",
   "metadata": {},
   "source": [
    "### 3 задача"
   ]
  },
  {
   "cell_type": "markdown",
   "id": "2dfada61-a868-47b6-8005-bcd250227ce4",
   "metadata": {},
   "source": [
    "Задача на пороги. Надо подобрать лучший порог. "
   ]
  },
  {
   "cell_type": "code",
   "execution_count": 163,
   "id": "9bfa37f6-2785-4e81-8cda-19dfc93b9b2b",
   "metadata": {},
   "outputs": [
    {
     "name": "stdout",
     "output_type": "stream",
     "text": [
      "0.1541107671138631\n",
      "np.bincount(train) [4782  218]\n",
      "np.bincount(true) [4776  224]\n",
      "true 0.043668122270742356\n",
      "0.1 0.0859554873369148\n",
      "0.3 0.09246646026831785\n",
      "0.5 0.1541107671138631\n",
      "0.6 0.2826498422712934\n",
      "0.7 0.6502177068214805\n",
      "0.74 0.919917864476386\n",
      "0.75 1.0\n",
      "0.76 0.9019607843137255\n",
      "0.89 0.14876033057851243\n",
      "0.9 0.13333333333333333\n",
      "0.91 0.12552301255230125\n",
      "0.92 0.10169491525423728\n",
      "0.95 0.052173913043478265\n"
     ]
    }
   ],
   "source": [
    "# data = abs(np.random.normal(0.5, 0.2, 10_000))\n",
    "\n",
    "\n",
    "data = np.random.normal(0.5, 0.2, 10_000)\n",
    "data = (data - data.min()) / (data.max() - data.min())\n",
    "\n",
    "# mask = np.random.rand(10_000) >= 0.7\n",
    "# data[mask] = 1 - data[mask] * 0.05\n",
    "\n",
    "\n",
    "mask = data >= 0.75\n",
    "\n",
    "train, val = data[:5000], data[5000:]\n",
    "preds = train.copy()\n",
    "\n",
    "###############\n",
    "train[mask[:5000]] = 1\n",
    "train[~mask[:5000]] = 0\n",
    "\n",
    "train = train.astype(int)\n",
    "true = deepcopy(val)\n",
    "\n",
    "true[mask[5000:]] = 1\n",
    "true[~mask[5000:]] = 0\n",
    "true = true.astype(int)\n",
    "\n",
    "bad_predict = (val > 0.5).astype(int)\n",
    "\n",
    "print(f1_score(true, bad_predict))\n",
    "\n",
    "print('np.bincount(train)', np.bincount(train))\n",
    "print('np.bincount(true)', np.bincount(true))\n",
    "threshold = np.bincount(train)[0]/len(train)\n",
    "best_predict = (val > threshold).astype(int)\n",
    "print('true', f1_score(true, best_predict))\n",
    "\n",
    "##################\n",
    "thresholds = [0.1, 0.3, 0.5, 0.6, 0.7, 0.74, 0.75, 0.76, 0.89, 0.9, 0.91, 0.92, 0.95]\n",
    "for thr in thresholds:\n",
    "    \n",
    "    best_predict = (val > thr).astype(int)\n",
    "    # print('thr', 'f1_score', 'recall_score', 'precision_score')\n",
    "    print(thr, f1_score(true, best_predict))\n",
    "    # print(thr, f1_score(true, best_predict), recall_score(true, best_predict), precision_score(true, best_predict))\n",
    "    \n",
    "    # best_predict = (preds > thr).astype(int)\n",
    "    # print(thr, f1_score(train, best_predict), recall_score(train, best_predict), precision_score(train, best_predict))\n",
    "    "
   ]
  },
  {
   "cell_type": "code",
   "execution_count": 174,
   "id": "7cde4587-8885-453f-a8ad-5d9ad60227db",
   "metadata": {},
   "outputs": [],
   "source": [
    "import pandas as pd\n",
    "\n",
    "# train = pd.read_csv('https://stepik.org/media/attachments/lesson/868367/hm3_val_data.csv')\n",
    "# thresholds = np.linspace(0.1, 1, 40)\n",
    "# for thr in thresholds:\n",
    "#     best_predict = (train['val_prob'].values > thr).astype(int)\n",
    "#     # print(thr, f1_score(train['val_target'].values, best_predict))  \n",
    "#     threshold_dict[thr] = f1_score(train['val_target'].values, best_predict)\n",
    "    \n",
    "#### Выбираем лучший thresholds и отправляем  \n",
    "\n",
    "best_threshold = 0.75\n",
    "f = lambda x: (x > best_threshold)*1\n",
    "df['best_predict'] = df['test_prob'].apply(f)\n"
   ]
  },
  {
   "cell_type": "code",
   "execution_count": 153,
   "id": "775a9be9-e174-4528-b7aa-347cdfbabe45",
   "metadata": {},
   "outputs": [],
   "source": [
    "third_data = pd.DataFrame({\n",
    "    'val_prob': preds,\n",
    "    'val_target': train,\n",
    "    \n",
    "    'test_prob': val,\n",
    "    'bad_predict': bad_predict,\n",
    "})\n",
    "\n",
    "third_data[['val_prob',  'val_target']].to_csv('../tmp_data/hm3_val_data.csv',   index=False)\n",
    "third_data[['test_prob', 'bad_predict']].to_csv('../tmp_data/hm3_test_data.csv', index=False)\n",
    "# third_data.hist()\n",
    "# third_data.to_csv('3_data.csv', index=False)"
   ]
  },
  {
   "cell_type": "code",
   "execution_count": 175,
   "id": "c409cb0c-6f5f-4ea9-900f-8e6325340d86",
   "metadata": {},
   "outputs": [],
   "source": [
    "tmp = third_data[['test_prob', 'bad_predict']].copy().head(1000)\n",
    "# best_predict = (val > 0.75).astype(int)\n",
    "# sum(best_predict)\n",
    "tmp['test_prob'] = tmp['test_prob'].round(2)\n",
    "\n",
    "df_dict = {}\n",
    "for col in tmp.columns:\n",
    "    df_dict[col] = tmp[col].values.tolist()\n",
    "# print(df_dict)"
   ]
  },
  {
   "cell_type": "code",
   "execution_count": 73,
   "id": "612e2d6a-b3a2-4ae8-93a6-2464f1c7d325",
   "metadata": {},
   "outputs": [],
   "source": [
    "best_predict = (tmp['test_prob'] > thr).astype(int)\n",
    "print('thr', 'f1_score', 'recall_score', 'precision_score')\n",
    "print(thr, f1_score(true, best_predict), recall_score(true, best_predict), precision_score(true, best_predict))\n",
    "\n",
    "# train[:100]"
   ]
  },
  {
   "cell_type": "code",
   "execution_count": 121,
   "id": "ff73faa9-3039-4956-bbdd-ff64b8452b64",
   "metadata": {},
   "outputs": [
    {
     "data": {
      "text/html": [
       "<div>\n",
       "<style scoped>\n",
       "    .dataframe tbody tr th:only-of-type {\n",
       "        vertical-align: middle;\n",
       "    }\n",
       "\n",
       "    .dataframe tbody tr th {\n",
       "        vertical-align: top;\n",
       "    }\n",
       "\n",
       "    .dataframe thead th {\n",
       "        text-align: right;\n",
       "    }\n",
       "</style>\n",
       "<table border=\"1\" class=\"dataframe\">\n",
       "  <thead>\n",
       "    <tr style=\"text-align: right;\">\n",
       "      <th></th>\n",
       "      <th>train_target</th>\n",
       "    </tr>\n",
       "  </thead>\n",
       "  <tbody>\n",
       "    <tr>\n",
       "      <th>0</th>\n",
       "      <td>0</td>\n",
       "    </tr>\n",
       "    <tr>\n",
       "      <th>1</th>\n",
       "      <td>0</td>\n",
       "    </tr>\n",
       "    <tr>\n",
       "      <th>2</th>\n",
       "      <td>0</td>\n",
       "    </tr>\n",
       "    <tr>\n",
       "      <th>3</th>\n",
       "      <td>0</td>\n",
       "    </tr>\n",
       "    <tr>\n",
       "      <th>4</th>\n",
       "      <td>0</td>\n",
       "    </tr>\n",
       "  </tbody>\n",
       "</table>\n",
       "</div>"
      ],
      "text/plain": [
       "   train_target\n",
       "0             0\n",
       "1             0\n",
       "2             0\n",
       "3             0\n",
       "4             0"
      ]
     },
     "execution_count": 121,
     "metadata": {},
     "output_type": "execute_result"
    }
   ],
   "source": [
    "import pandas as pd\n",
    "train = pd.read_csv('https://stepik.org/media/attachments/lesson/868367/hm3_train_target.csv')\n",
    "train.head()"
   ]
  },
  {
   "cell_type": "code",
   "execution_count": null,
   "id": "30eb9883",
   "metadata": {},
   "outputs": [],
   "source": [
    " "
   ]
  },
  {
   "cell_type": "code",
   "execution_count": null,
   "id": "48b95d6b",
   "metadata": {},
   "outputs": [],
   "source": [
    "third_data.head()"
   ]
  },
  {
   "cell_type": "code",
   "execution_count": 1,
   "id": "e56935f2-e880-45fa-98aa-2f27ccc9a44f",
   "metadata": {},
   "outputs": [
    {
     "data": {
      "text/html": [
       "<div>\n",
       "<style scoped>\n",
       "    .dataframe tbody tr th:only-of-type {\n",
       "        vertical-align: middle;\n",
       "    }\n",
       "\n",
       "    .dataframe tbody tr th {\n",
       "        vertical-align: top;\n",
       "    }\n",
       "\n",
       "    .dataframe thead th {\n",
       "        text-align: right;\n",
       "    }\n",
       "</style>\n",
       "<table border=\"1\" class=\"dataframe\">\n",
       "  <thead>\n",
       "    <tr style=\"text-align: right;\">\n",
       "      <th></th>\n",
       "      <th>train_target</th>\n",
       "    </tr>\n",
       "  </thead>\n",
       "  <tbody>\n",
       "    <tr>\n",
       "      <th>0</th>\n",
       "      <td>0</td>\n",
       "    </tr>\n",
       "    <tr>\n",
       "      <th>1</th>\n",
       "      <td>0</td>\n",
       "    </tr>\n",
       "    <tr>\n",
       "      <th>2</th>\n",
       "      <td>0</td>\n",
       "    </tr>\n",
       "    <tr>\n",
       "      <th>3</th>\n",
       "      <td>0</td>\n",
       "    </tr>\n",
       "    <tr>\n",
       "      <th>4</th>\n",
       "      <td>0</td>\n",
       "    </tr>\n",
       "  </tbody>\n",
       "</table>\n",
       "</div>"
      ],
      "text/plain": [
       "   train_target\n",
       "0             0\n",
       "1             0\n",
       "2             0\n",
       "3             0\n",
       "4             0"
      ]
     },
     "execution_count": 1,
     "metadata": {},
     "output_type": "execute_result"
    }
   ],
   "source": [
    " "
   ]
  },
  {
   "cell_type": "code",
   "execution_count": 4,
   "id": "11bf28fd-0ecb-41a3-873d-01ca9ed0ebf2",
   "metadata": {},
   "outputs": [
    {
     "data": {
      "text/plain": [
       "array([[<AxesSubplot: title={'center': 'train_target'}>]], dtype=object)"
      ]
     },
     "execution_count": 4,
     "metadata": {},
     "output_type": "execute_result"
    },
    {
     "data": {
      "image/png": "[encoded data removed]",
      "text/plain": [
       "<Figure size 640x480 with 1 Axes>"
      ]
     },
     "metadata": {},
     "output_type": "display_data"
    }
   ],
   "source": [
    "train.hist()"
   ]
  },
  {
   "cell_type": "code",
   "execution_count": null,
   "id": "32d30ab7-4f0b-4c4b-9f8b-e689923ad805",
   "metadata": {},
   "outputs": [],
   "source": []
  },
  {
   "cell_type": "code",
   "execution_count": null,
   "id": "5171b0b8-b9fc-4a59-bf59-41d377a31753",
   "metadata": {},
   "outputs": [],
   "source": []
  },
  {
   "cell_type": "markdown",
   "id": "238475bc-5654-4320-bd3d-5658a9899f3f",
   "metadata": {},
   "source": [
    "# 4-я задача"
   ]
  },
  {
   "cell_type": "markdown",
   "id": "28426bf3-a98b-42c4-9839-0b808e45aa8d",
   "metadata": {},
   "source": [
    "Проверить распределение таргета. И дальше перевзвесить ответ."
   ]
  },
  {
   "cell_type": "code",
   "execution_count": 254,
   "id": "727ca35e-3814-48c0-997b-aaca11649b88",
   "metadata": {},
   "outputs": [
    {
     "name": "stdout",
     "output_type": "stream",
     "text": [
      "0.7530160857908847\n",
      "np.bincount(train) [1247 3753]\n",
      "np.bincount(true) [1279 3721]\n",
      "true 0.8696973238284446\n"
     ]
    }
   ],
   "source": [
    "# data = abs(np.random.normal(0.5, 0.2, 10_000))\n",
    "\n",
    "\n",
    "data = np.random.normal(0.5, 0.2, 10_000)\n",
    "data = (data - data.min()) / (data.max() - data.min())\n",
    "\n",
    "# mask = np.random.rand(10_000) >= 0.7\n",
    "# data[mask] = 1 - data[mask] * 0.05\n",
    "\n",
    "mask = data >= 0.40\n",
    "\n",
    "train, val = data[:5000], data[5000:]\n",
    "preds = train.copy()\n",
    "\n",
    "###############\n",
    "train[mask[:5000]] = 1\n",
    "train[~mask[:5000]] = 0\n",
    "\n",
    "train = train.astype(int)\n",
    "true = deepcopy(val)\n",
    "\n",
    "true[mask[5000:]] = 1\n",
    "true[~mask[5000:]] = 0\n",
    "true = true.astype(int)\n",
    "\n",
    "bad_predict = (val > 0.5).astype(int)\n",
    "\n",
    "print(f1_score(true, bad_predict))\n",
    "\n",
    "print('np.bincount(train)', np.bincount(train))\n",
    "print('np.bincount(true)', np.bincount(true))\n",
    "threshold = np.bincount(train)[0]/len(train)\n",
    "best_predict = (val > threshold).astype(int)\n",
    "print('true', f1_score(true, best_predict))\n",
    "\n",
    "##################"
   ]
  },
  {
   "cell_type": "code",
   "execution_count": 225,
   "id": "fe492a12-db75-4e4c-b80d-ccd4b988a431",
   "metadata": {},
   "outputs": [
    {
     "name": "stdout",
     "output_type": "stream",
     "text": [
      "true 0.8998899889988998\n",
      "true 0.0\n"
     ]
    }
   ],
   "source": [
    "best_predict = (val > -1).astype(int)\n",
    "print('true', f1_score(true, best_predict))\n",
    "best_predict = (val > 3).astype(int)\n",
    "print('true', f1_score(true, best_predict))"
   ]
  },
  {
   "cell_type": "code",
   "execution_count": 255,
   "id": "8479beef-16d0-4b22-9e5b-08f51a5f8eea",
   "metadata": {},
   "outputs": [
    {
     "name": "stdout",
     "output_type": "stream",
     "text": [
      "true 0.2494\n",
      "true 0.7506\n",
      "0.2494\n"
     ]
    }
   ],
   "source": [
    "best_predict = np.zeros(preds.shape[0])\n",
    "zeros = accuracy_score(train, best_predict)\n",
    "print('true', accuracy_score(train, best_predict))\n",
    "best_predict = np.ones(preds.shape[0])\n",
    "ones = accuracy_score(train, best_predict)\n",
    "print('true', accuracy_score(train, best_predict))\n",
    "\n",
    "print(zeros / (zeros + ones))"
   ]
  },
  {
   "cell_type": "code",
   "execution_count": 256,
   "id": "02e9bd00-2601-4e6e-a6f7-e90944a09fb6",
   "metadata": {},
   "outputs": [
    {
     "name": "stdout",
     "output_type": "stream",
     "text": [
      "1247\n",
      "3753\n",
      "0.7506\n"
     ]
    }
   ],
   "source": [
    "zeros = sum((train == 0))\n",
    "print(zeros)\n",
    "ones = sum((train == 1))\n",
    "print(ones)\n",
    "\n",
    "print(ones / (zeros + ones))"
   ]
  },
  {
   "cell_type": "code",
   "execution_count": 272,
   "id": "77d4bbcc-6f52-47d6-8426-04e405b50ac4",
   "metadata": {},
   "outputs": [
    {
     "name": "stdout",
     "output_type": "stream",
     "text": [
      "2267\n",
      "rel ones 0.4534\n",
      "true 0.8020250466293632\n"
     ]
    }
   ],
   "source": [
    "# Решение\n",
    "# best_predict = np.zeros(preds.shape[0])\n",
    "# zeros = accuracy_score(train, best_predict)\n",
    "# best_predict = np.ones(preds.shape[0])\n",
    "# ones = accuracy_score(train, best_predict)\n",
    "# threshold = zeros / (zeros + ones)\n",
    "# threshold = np.quantile(preds, q = threshold)\n",
    "# sample['best_predict'] = (preds > threshold)*1\n",
    "\n",
    "print('rel ones', ones_ / (zeros_ + ones_))\n",
    "print('true', roc_auc_score(train, best_predict))"
   ]
  },
  {
   "cell_type": "code",
   "execution_count": 306,
   "id": "499ac441-b5f1-4f03-afd7-045fce59be6e",
   "metadata": {
    "scrolled": true,
    "tags": []
   },
   "outputs": [
    {
     "data": {
      "text/html": [
       "<div>\n",
       "<style scoped>\n",
       "    .dataframe tbody tr th:only-of-type {\n",
       "        vertical-align: middle;\n",
       "    }\n",
       "\n",
       "    .dataframe tbody tr th {\n",
       "        vertical-align: top;\n",
       "    }\n",
       "\n",
       "    .dataframe thead th {\n",
       "        text-align: right;\n",
       "    }\n",
       "</style>\n",
       "<table border=\"1\" class=\"dataframe\">\n",
       "  <thead>\n",
       "    <tr style=\"text-align: right;\">\n",
       "      <th></th>\n",
       "      <th>test_prob</th>\n",
       "      <th>bad_predict</th>\n",
       "      <th>best_predict</th>\n",
       "    </tr>\n",
       "  </thead>\n",
       "  <tbody>\n",
       "    <tr>\n",
       "      <th>0</th>\n",
       "      <td>0.581</td>\n",
       "      <td>1</td>\n",
       "      <td>1</td>\n",
       "    </tr>\n",
       "    <tr>\n",
       "      <th>1</th>\n",
       "      <td>0.643</td>\n",
       "      <td>1</td>\n",
       "      <td>1</td>\n",
       "    </tr>\n",
       "    <tr>\n",
       "      <th>2</th>\n",
       "      <td>0.604</td>\n",
       "      <td>1</td>\n",
       "      <td>1</td>\n",
       "    </tr>\n",
       "    <tr>\n",
       "      <th>3</th>\n",
       "      <td>0.642</td>\n",
       "      <td>1</td>\n",
       "      <td>1</td>\n",
       "    </tr>\n",
       "    <tr>\n",
       "      <th>4</th>\n",
       "      <td>0.700</td>\n",
       "      <td>1</td>\n",
       "      <td>1</td>\n",
       "    </tr>\n",
       "  </tbody>\n",
       "</table>\n",
       "</div>"
      ],
      "text/plain": [
       "   test_prob  bad_predict  best_predict\n",
       "0      0.581            1             1\n",
       "1      0.643            1             1\n",
       "2      0.604            1             1\n",
       "3      0.642            1             1\n",
       "4      0.700            1             1"
      ]
     },
     "execution_count": 306,
     "metadata": {},
     "output_type": "execute_result"
    }
   ],
   "source": [
    "# sample = pd.DataFrame(preds, columns = ['test_prob'])#.head(1000)\n",
    "# sample['bad_predict'] = (sample['test_prob'].values > 0.5)*1\n",
    "# sample['test_prob'] = sample['test_prob'].round(3)\n",
    "\n",
    "# Открываем датасет\n",
    "sample = pd.read_csv('https://stepik.org/media/attachments/lesson/868367/hw4_submission.csv')\n",
    "preds = sample['test_prob']\n",
    "\n",
    "# Отправляем и узнаем процент нулей\n",
    "sample['best_predict'] = np.zeros(preds.shape[0])\n",
    "sample.to_csv('../tmp_data/hw4_zeros_submission.csv', index=False)\n",
    "zeros =  0.2494\n",
    "\n",
    "# Отправляем и узнаем процент единиц\n",
    "sample['best_predict'] = np.ones(preds.shape[0])\n",
    "sample.to_csv('../tmp_data/hw4_ones_submission.csv', index=False)\n",
    "ones = 0.7506\n",
    "\n",
    "# Вычисляем такой порог, чтоб у нас процент единиц был не больше, чем ones\n",
    "threshold = zeros / (zeros + ones)\n",
    "threshold = np.quantile(preds, q = threshold)\n",
    "\n",
    "# Делаем прогноз по порогу и побеждаем чемпионат\n",
    "sample['best_predict'] = (preds > threshold)*1\n",
    "sample.to_csv('../tmp_data/hw4_best_submission.csv', index=False)"
   ]
  },
  {
   "cell_type": "code",
   "execution_count": 291,
   "id": "92221b48-1aaa-4c16-ba48-bd5396829ce9",
   "metadata": {},
   "outputs": [
    {
     "data": {
      "text/html": [
       "<div>\n",
       "<style scoped>\n",
       "    .dataframe tbody tr th:only-of-type {\n",
       "        vertical-align: middle;\n",
       "    }\n",
       "\n",
       "    .dataframe tbody tr th {\n",
       "        vertical-align: top;\n",
       "    }\n",
       "\n",
       "    .dataframe thead th {\n",
       "        text-align: right;\n",
       "    }\n",
       "</style>\n",
       "<table border=\"1\" class=\"dataframe\">\n",
       "  <thead>\n",
       "    <tr style=\"text-align: right;\">\n",
       "      <th></th>\n",
       "      <th>test_prob</th>\n",
       "      <th>best_predict</th>\n",
       "    </tr>\n",
       "  </thead>\n",
       "  <tbody>\n",
       "    <tr>\n",
       "      <th>0</th>\n",
       "      <td>0.581</td>\n",
       "      <td>1</td>\n",
       "    </tr>\n",
       "    <tr>\n",
       "      <th>1</th>\n",
       "      <td>0.643</td>\n",
       "      <td>1</td>\n",
       "    </tr>\n",
       "    <tr>\n",
       "      <th>2</th>\n",
       "      <td>0.604</td>\n",
       "      <td>1</td>\n",
       "    </tr>\n",
       "    <tr>\n",
       "      <th>3</th>\n",
       "      <td>0.642</td>\n",
       "      <td>1</td>\n",
       "    </tr>\n",
       "    <tr>\n",
       "      <th>4</th>\n",
       "      <td>0.700</td>\n",
       "      <td>1</td>\n",
       "    </tr>\n",
       "  </tbody>\n",
       "</table>\n",
       "</div>"
      ],
      "text/plain": [
       "   test_prob  best_predict\n",
       "0      0.581             1\n",
       "1      0.643             1\n",
       "2      0.604             1\n",
       "3      0.642             1\n",
       "4      0.700             1"
      ]
     },
     "execution_count": 291,
     "metadata": {},
     "output_type": "execute_result"
    }
   ],
   "source": [
    "solution = pd.DataFrame(preds, columns = ['test_prob'])#.head(1000)\n",
    "solution['best_predict'] = train\n",
    "solution['test_prob'] = solution['test_prob'].round(3)\n",
    "\n",
    "solution.to_csv('../tmp_data/hw4_solution.csv', index=False)\n",
    "# solution[]\n",
    "# solution.to_csv('../tmp_data/hw4_solution.csv', index=False)\n",
    "solution.head()"
   ]
  },
  {
   "cell_type": "code",
   "execution_count": 287,
   "id": "bd9f9f02-546d-4afc-857c-643948bfda67",
   "metadata": {},
   "outputs": [
    {
     "data": {
      "text/plain": [
       "0.7028"
      ]
     },
     "execution_count": 287,
     "metadata": {},
     "output_type": "execute_result"
    }
   ],
   "source": [
    "accuracy_score(sample['bad_predict'], solution['target'])"
   ]
  },
  {
   "cell_type": "code",
   "execution_count": 282,
   "id": "eac54c9d-28d3-4c09-8cd3-c491b7dccc62",
   "metadata": {},
   "outputs": [
    {
     "data": {
      "text/plain": [
       "array([1, 1, 1, ..., 1, 0, 1])"
      ]
     },
     "execution_count": 282,
     "metadata": {},
     "output_type": "execute_result"
    }
   ],
   "source": [
    "# # , average = 'weighted'\n",
    "# best_predict = np.zeros(preds.shape[0])\n",
    "# zeros = roc_auc_score(train, best_predict)\n",
    "# print('true', roc_auc_score(train, best_predict))\n",
    "# best_predict = np.ones(preds.shape[0])\n",
    "# ones = roc_auc_score(train, best_predict)\n",
    "# print('true', roc_auc_score(train, best_predict))\n",
    "\n",
    "# print(zeros / (zeros + ones))\n"
   ]
  },
  {
   "cell_type": "code",
   "execution_count": 299,
   "id": "528030d6-059d-4573-ba95-74dff7be3c5d",
   "metadata": {},
   "outputs": [
    {
     "data": {
      "text/html": [
       "<div>\n",
       "<style scoped>\n",
       "    .dataframe tbody tr th:only-of-type {\n",
       "        vertical-align: middle;\n",
       "    }\n",
       "\n",
       "    .dataframe tbody tr th {\n",
       "        vertical-align: top;\n",
       "    }\n",
       "\n",
       "    .dataframe thead th {\n",
       "        text-align: right;\n",
       "    }\n",
       "</style>\n",
       "<table border=\"1\" class=\"dataframe\">\n",
       "  <thead>\n",
       "    <tr style=\"text-align: right;\">\n",
       "      <th></th>\n",
       "      <th>test_prob</th>\n",
       "      <th>best_predict</th>\n",
       "    </tr>\n",
       "  </thead>\n",
       "  <tbody>\n",
       "    <tr>\n",
       "      <th>0</th>\n",
       "      <td>0.581</td>\n",
       "      <td>1</td>\n",
       "    </tr>\n",
       "    <tr>\n",
       "      <th>1</th>\n",
       "      <td>0.643</td>\n",
       "      <td>1</td>\n",
       "    </tr>\n",
       "    <tr>\n",
       "      <th>2</th>\n",
       "      <td>0.604</td>\n",
       "      <td>1</td>\n",
       "    </tr>\n",
       "    <tr>\n",
       "      <th>3</th>\n",
       "      <td>0.642</td>\n",
       "      <td>1</td>\n",
       "    </tr>\n",
       "    <tr>\n",
       "      <th>4</th>\n",
       "      <td>0.700</td>\n",
       "      <td>1</td>\n",
       "    </tr>\n",
       "    <tr>\n",
       "      <th>...</th>\n",
       "      <td>...</td>\n",
       "      <td>...</td>\n",
       "    </tr>\n",
       "    <tr>\n",
       "      <th>4995</th>\n",
       "      <td>0.532</td>\n",
       "      <td>1</td>\n",
       "    </tr>\n",
       "    <tr>\n",
       "      <th>4996</th>\n",
       "      <td>0.549</td>\n",
       "      <td>1</td>\n",
       "    </tr>\n",
       "    <tr>\n",
       "      <th>4997</th>\n",
       "      <td>0.626</td>\n",
       "      <td>1</td>\n",
       "    </tr>\n",
       "    <tr>\n",
       "      <th>4998</th>\n",
       "      <td>0.377</td>\n",
       "      <td>0</td>\n",
       "    </tr>\n",
       "    <tr>\n",
       "      <th>4999</th>\n",
       "      <td>0.442</td>\n",
       "      <td>1</td>\n",
       "    </tr>\n",
       "  </tbody>\n",
       "</table>\n",
       "<p>5000 rows × 2 columns</p>\n",
       "</div>"
      ],
      "text/plain": [
       "      test_prob  best_predict\n",
       "0         0.581             1\n",
       "1         0.643             1\n",
       "2         0.604             1\n",
       "3         0.642             1\n",
       "4         0.700             1\n",
       "...         ...           ...\n",
       "4995      0.532             1\n",
       "4996      0.549             1\n",
       "4997      0.626             1\n",
       "4998      0.377             0\n",
       "4999      0.442             1\n",
       "\n",
       "[5000 rows x 2 columns]"
      ]
     },
     "execution_count": 299,
     "metadata": {},
     "output_type": "execute_result"
    }
   ],
   "source": [
    "pd.read_csv('https://stepik.org/media/attachments/lesson/868367/hw4__solution.csv')"
   ]
  },
  {
   "cell_type": "code",
   "execution_count": 307,
   "id": "eef53724-1097-4c40-b96b-9f36680a4961",
   "metadata": {},
   "outputs": [
    {
     "data": {
      "text/html": [
       "<div>\n",
       "<style scoped>\n",
       "    .dataframe tbody tr th:only-of-type {\n",
       "        vertical-align: middle;\n",
       "    }\n",
       "\n",
       "    .dataframe tbody tr th {\n",
       "        vertical-align: top;\n",
       "    }\n",
       "\n",
       "    .dataframe thead th {\n",
       "        text-align: right;\n",
       "    }\n",
       "</style>\n",
       "<table border=\"1\" class=\"dataframe\">\n",
       "  <thead>\n",
       "    <tr style=\"text-align: right;\">\n",
       "      <th></th>\n",
       "      <th>test_prob</th>\n",
       "      <th>bad_predict</th>\n",
       "    </tr>\n",
       "  </thead>\n",
       "  <tbody>\n",
       "    <tr>\n",
       "      <th>0</th>\n",
       "      <td>0.581</td>\n",
       "      <td>1</td>\n",
       "    </tr>\n",
       "    <tr>\n",
       "      <th>1</th>\n",
       "      <td>0.643</td>\n",
       "      <td>1</td>\n",
       "    </tr>\n",
       "    <tr>\n",
       "      <th>2</th>\n",
       "      <td>0.604</td>\n",
       "      <td>1</td>\n",
       "    </tr>\n",
       "    <tr>\n",
       "      <th>3</th>\n",
       "      <td>0.642</td>\n",
       "      <td>1</td>\n",
       "    </tr>\n",
       "    <tr>\n",
       "      <th>4</th>\n",
       "      <td>0.700</td>\n",
       "      <td>1</td>\n",
       "    </tr>\n",
       "    <tr>\n",
       "      <th>...</th>\n",
       "      <td>...</td>\n",
       "      <td>...</td>\n",
       "    </tr>\n",
       "    <tr>\n",
       "      <th>4995</th>\n",
       "      <td>0.532</td>\n",
       "      <td>1</td>\n",
       "    </tr>\n",
       "    <tr>\n",
       "      <th>4996</th>\n",
       "      <td>0.549</td>\n",
       "      <td>1</td>\n",
       "    </tr>\n",
       "    <tr>\n",
       "      <th>4997</th>\n",
       "      <td>0.626</td>\n",
       "      <td>1</td>\n",
       "    </tr>\n",
       "    <tr>\n",
       "      <th>4998</th>\n",
       "      <td>0.377</td>\n",
       "      <td>0</td>\n",
       "    </tr>\n",
       "    <tr>\n",
       "      <th>4999</th>\n",
       "      <td>0.442</td>\n",
       "      <td>0</td>\n",
       "    </tr>\n",
       "  </tbody>\n",
       "</table>\n",
       "<p>5000 rows × 2 columns</p>\n",
       "</div>"
      ],
      "text/plain": [
       "      test_prob  bad_predict\n",
       "0         0.581            1\n",
       "1         0.643            1\n",
       "2         0.604            1\n",
       "3         0.642            1\n",
       "4         0.700            1\n",
       "...         ...          ...\n",
       "4995      0.532            1\n",
       "4996      0.549            1\n",
       "4997      0.626            1\n",
       "4998      0.377            0\n",
       "4999      0.442            0\n",
       "\n",
       "[5000 rows x 2 columns]"
      ]
     },
     "execution_count": 307,
     "metadata": {},
     "output_type": "execute_result"
    }
   ],
   "source": [
    "pd.read_csv('https://stepik.org/media/attachments/lesson/868367/hw4_submission.csv')"
   ]
  },
  {
   "cell_type": "code",
   "execution_count": null,
   "id": "5d015117-f542-47d7-8e6c-8df97a2469b6",
   "metadata": {},
   "outputs": [],
   "source": []
  }
 ],
 "metadata": {
  "kernelspec": {
   "display_name": "Python 3 (ipykernel)",
   "language": "python",
   "name": "python3"
  },
  "language_info": {
   "codemirror_mode": {
    "name": "ipython",
    "version": 3
   },
   "file_extension": ".py",
   "mimetype": "text/x-python",
   "name": "python",
   "nbconvert_exporter": "python",
   "pygments_lexer": "ipython3",
   "version": "3.8.10"
  }
 },
 "nbformat": 4,
 "nbformat_minor": 5
}
