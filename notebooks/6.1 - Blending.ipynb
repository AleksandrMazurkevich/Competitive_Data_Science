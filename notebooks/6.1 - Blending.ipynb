{
 "cells": [
  {
   "cell_type": "markdown",
   "id": "6ef8c685-df19-4cd3-ba60-b81cc72064b5",
   "metadata": {},
   "source": [
    "# <center> ⚔️6.1 - Блендинг </center>"
   ]
  },
  {
   "cell_type": "markdown",
   "id": "444bb515-8444-4856-b896-99735bd580c8",
   "metadata": {},
   "source": [
    "<div class=\"alert alert-info\">\n",
    "\n",
    "Основная идея данной техники заключается в том, что взять от каждого алгоритма лучшее и совместить несколько разных ML моделей в одну. За счет такого объединения увеличивается обобщающая способность финальной модели и качество улучшается. Помимо этого ваша модель становится сильно более стабильной, что позволяет на слететь на приватном лидерборде. Особенно хорошо накидывает блендинг, если модели, которые совмещаете имеют разную природу: допустим, нейронные сети, kNN и решающие деревья, так как в этом случае они выучивают разные зависимости и хорошо дополняют друг друга."
   ]
  },
  {
   "cell_type": "markdown",
   "id": "0c672a9c-78ad-4239-9efa-0ae27e7f14c8",
   "metadata": {},
   "source": [
    "# <center> <img src = '../images/blending.jpg' width=750>"
   ]
  },
  {
   "cell_type": "markdown",
   "id": "89a1b589-4ea3-4275-bf30-b45fe679fcba",
   "metadata": {},
   "source": [
    "## Импортируем библиотеки"
   ]
  },
  {
   "cell_type": "code",
   "execution_count": 2,
   "id": "707ef068-e5f2-4410-972f-9c3e66495271",
   "metadata": {},
   "outputs": [],
   "source": [
    "import numpy as np\n",
    "import pandas as pd\n",
    "\n",
    "from sklearn.model_selection import train_test_split\n",
    "from sklearn.metrics import mean_squared_error\n",
    "\n",
    "import lightgbm as lgbm\n",
    "import xgboost as xgb\n",
    "from catboost import CatBoostClassifier, CatBoostRegressor"
   ]
  },
  {
   "cell_type": "markdown",
   "id": "d555ee92-99e4-4bb3-bde8-ad5f05fa334e",
   "metadata": {},
   "source": [
    "## Считываем данные"
   ]
  },
  {
   "cell_type": "code",
   "execution_count": 3,
   "id": "ca4a2e50-31be-451a-b553-85409afad843",
   "metadata": {},
   "outputs": [
    {
     "data": {
      "text/html": [
       "<div>\n",
       "<style scoped>\n",
       "    .dataframe tbody tr th:only-of-type {\n",
       "        vertical-align: middle;\n",
       "    }\n",
       "\n",
       "    .dataframe tbody tr th {\n",
       "        vertical-align: top;\n",
       "    }\n",
       "\n",
       "    .dataframe thead th {\n",
       "        text-align: right;\n",
       "    }\n",
       "</style>\n",
       "<table border=\"1\" class=\"dataframe\">\n",
       "  <thead>\n",
       "    <tr style=\"text-align: right;\">\n",
       "      <th></th>\n",
       "      <th>car_id</th>\n",
       "      <th>model</th>\n",
       "      <th>car_type</th>\n",
       "      <th>fuel_type</th>\n",
       "      <th>car_rating</th>\n",
       "      <th>year_to_start</th>\n",
       "      <th>riders</th>\n",
       "      <th>year_to_work</th>\n",
       "      <th>target_reg</th>\n",
       "      <th>target_class</th>\n",
       "    </tr>\n",
       "  </thead>\n",
       "  <tbody>\n",
       "    <tr>\n",
       "      <th>0</th>\n",
       "      <td>y13744087j</td>\n",
       "      <td>Kia Rio X-line</td>\n",
       "      <td>economy</td>\n",
       "      <td>petrol</td>\n",
       "      <td>3.78</td>\n",
       "      <td>2015</td>\n",
       "      <td>76163</td>\n",
       "      <td>2021</td>\n",
       "      <td>108.53</td>\n",
       "      <td>another_bug</td>\n",
       "    </tr>\n",
       "    <tr>\n",
       "      <th>1</th>\n",
       "      <td>O41613818T</td>\n",
       "      <td>VW Polo VI</td>\n",
       "      <td>economy</td>\n",
       "      <td>petrol</td>\n",
       "      <td>3.90</td>\n",
       "      <td>2015</td>\n",
       "      <td>78218</td>\n",
       "      <td>2021</td>\n",
       "      <td>35.20</td>\n",
       "      <td>electro_bug</td>\n",
       "    </tr>\n",
       "    <tr>\n",
       "      <th>2</th>\n",
       "      <td>d-2109686j</td>\n",
       "      <td>Renault Sandero</td>\n",
       "      <td>standart</td>\n",
       "      <td>petrol</td>\n",
       "      <td>6.30</td>\n",
       "      <td>2012</td>\n",
       "      <td>23340</td>\n",
       "      <td>2017</td>\n",
       "      <td>38.62</td>\n",
       "      <td>gear_stick</td>\n",
       "    </tr>\n",
       "    <tr>\n",
       "      <th>3</th>\n",
       "      <td>u29695600e</td>\n",
       "      <td>Mercedes-Benz GLC</td>\n",
       "      <td>business</td>\n",
       "      <td>petrol</td>\n",
       "      <td>4.04</td>\n",
       "      <td>2011</td>\n",
       "      <td>1263</td>\n",
       "      <td>2020</td>\n",
       "      <td>30.34</td>\n",
       "      <td>engine_fuel</td>\n",
       "    </tr>\n",
       "    <tr>\n",
       "      <th>4</th>\n",
       "      <td>N-8915870N</td>\n",
       "      <td>Renault Sandero</td>\n",
       "      <td>standart</td>\n",
       "      <td>petrol</td>\n",
       "      <td>4.70</td>\n",
       "      <td>2012</td>\n",
       "      <td>26428</td>\n",
       "      <td>2017</td>\n",
       "      <td>30.45</td>\n",
       "      <td>engine_fuel</td>\n",
       "    </tr>\n",
       "  </tbody>\n",
       "</table>\n",
       "</div>"
      ],
      "text/plain": [
       "       car_id              model  car_type fuel_type  car_rating  \\\n",
       "0  y13744087j     Kia Rio X-line   economy    petrol        3.78   \n",
       "1  O41613818T         VW Polo VI   economy    petrol        3.90   \n",
       "2  d-2109686j    Renault Sandero  standart    petrol        6.30   \n",
       "3  u29695600e  Mercedes-Benz GLC  business    petrol        4.04   \n",
       "4  N-8915870N    Renault Sandero  standart    petrol        4.70   \n",
       "\n",
       "   year_to_start  riders  year_to_work  target_reg target_class  \n",
       "0           2015   76163          2021      108.53  another_bug  \n",
       "1           2015   78218          2021       35.20  electro_bug  \n",
       "2           2012   23340          2017       38.62   gear_stick  \n",
       "3           2011    1263          2020       30.34  engine_fuel  \n",
       "4           2012   26428          2017       30.45  engine_fuel  "
      ]
     },
     "execution_count": 3,
     "metadata": {},
     "output_type": "execute_result"
    }
   ],
   "source": [
    "data = pd.read_csv('../data/car_train.csv')\n",
    "data.head()"
   ]
  },
  {
   "cell_type": "code",
   "execution_count": 4,
   "id": "ff6ad1db-a7ee-4f07-a0d1-82cf868393b8",
   "metadata": {},
   "outputs": [
    {
     "data": {
      "text/plain": [
       "2337"
      ]
     },
     "execution_count": 4,
     "metadata": {},
     "output_type": "execute_result"
    }
   ],
   "source": [
    "data['car_id'].nunique()"
   ]
  },
  {
   "cell_type": "code",
   "execution_count": 5,
   "id": "63edb198-6371-4b6d-a618-fefa5a5afe25",
   "metadata": {},
   "outputs": [
    {
     "data": {
      "text/plain": [
       "(2337, 10)"
      ]
     },
     "execution_count": 5,
     "metadata": {},
     "output_type": "execute_result"
    }
   ],
   "source": [
    "data.shape"
   ]
  },
  {
   "cell_type": "markdown",
   "id": "3d3dd48b-9702-47c5-a287-8395dcbfeeca",
   "metadata": {},
   "source": [
    "### Заменим категориальные признаки на числовые"
   ]
  },
  {
   "cell_type": "code",
   "execution_count": 6,
   "id": "d83d4ffb-ba01-4e15-99f9-dd309c38a5d3",
   "metadata": {},
   "outputs": [
    {
     "data": {
      "text/html": [
       "<div>\n",
       "<style scoped>\n",
       "    .dataframe tbody tr th:only-of-type {\n",
       "        vertical-align: middle;\n",
       "    }\n",
       "\n",
       "    .dataframe tbody tr th {\n",
       "        vertical-align: top;\n",
       "    }\n",
       "\n",
       "    .dataframe thead th {\n",
       "        text-align: right;\n",
       "    }\n",
       "</style>\n",
       "<table border=\"1\" class=\"dataframe\">\n",
       "  <thead>\n",
       "    <tr style=\"text-align: right;\">\n",
       "      <th></th>\n",
       "      <th>car_id</th>\n",
       "      <th>model</th>\n",
       "      <th>car_type</th>\n",
       "      <th>fuel_type</th>\n",
       "      <th>car_rating</th>\n",
       "      <th>year_to_start</th>\n",
       "      <th>riders</th>\n",
       "      <th>year_to_work</th>\n",
       "      <th>target_reg</th>\n",
       "      <th>target_class</th>\n",
       "    </tr>\n",
       "  </thead>\n",
       "  <tbody>\n",
       "    <tr>\n",
       "      <th>0</th>\n",
       "      <td>y13744087j</td>\n",
       "      <td>8</td>\n",
       "      <td>1</td>\n",
       "      <td>1</td>\n",
       "      <td>3.78</td>\n",
       "      <td>2015</td>\n",
       "      <td>76163</td>\n",
       "      <td>2021</td>\n",
       "      <td>108.53</td>\n",
       "      <td>another_bug</td>\n",
       "    </tr>\n",
       "    <tr>\n",
       "      <th>1</th>\n",
       "      <td>O41613818T</td>\n",
       "      <td>23</td>\n",
       "      <td>1</td>\n",
       "      <td>1</td>\n",
       "      <td>3.90</td>\n",
       "      <td>2015</td>\n",
       "      <td>78218</td>\n",
       "      <td>2021</td>\n",
       "      <td>35.20</td>\n",
       "      <td>electro_bug</td>\n",
       "    </tr>\n",
       "    <tr>\n",
       "      <th>2</th>\n",
       "      <td>d-2109686j</td>\n",
       "      <td>16</td>\n",
       "      <td>3</td>\n",
       "      <td>1</td>\n",
       "      <td>6.30</td>\n",
       "      <td>2012</td>\n",
       "      <td>23340</td>\n",
       "      <td>2017</td>\n",
       "      <td>38.62</td>\n",
       "      <td>gear_stick</td>\n",
       "    </tr>\n",
       "    <tr>\n",
       "      <th>3</th>\n",
       "      <td>u29695600e</td>\n",
       "      <td>12</td>\n",
       "      <td>0</td>\n",
       "      <td>1</td>\n",
       "      <td>4.04</td>\n",
       "      <td>2011</td>\n",
       "      <td>1263</td>\n",
       "      <td>2020</td>\n",
       "      <td>30.34</td>\n",
       "      <td>engine_fuel</td>\n",
       "    </tr>\n",
       "    <tr>\n",
       "      <th>4</th>\n",
       "      <td>N-8915870N</td>\n",
       "      <td>16</td>\n",
       "      <td>3</td>\n",
       "      <td>1</td>\n",
       "      <td>4.70</td>\n",
       "      <td>2012</td>\n",
       "      <td>26428</td>\n",
       "      <td>2017</td>\n",
       "      <td>30.45</td>\n",
       "      <td>engine_fuel</td>\n",
       "    </tr>\n",
       "  </tbody>\n",
       "</table>\n",
       "</div>"
      ],
      "text/plain": [
       "       car_id model car_type fuel_type  car_rating  year_to_start  riders  \\\n",
       "0  y13744087j     8        1         1        3.78           2015   76163   \n",
       "1  O41613818T    23        1         1        3.90           2015   78218   \n",
       "2  d-2109686j    16        3         1        6.30           2012   23340   \n",
       "3  u29695600e    12        0         1        4.04           2011    1263   \n",
       "4  N-8915870N    16        3         1        4.70           2012   26428   \n",
       "\n",
       "   year_to_work  target_reg target_class  \n",
       "0          2021      108.53  another_bug  \n",
       "1          2021       35.20  electro_bug  \n",
       "2          2017       38.62   gear_stick  \n",
       "3          2020       30.34  engine_fuel  \n",
       "4          2017       30.45  engine_fuel  "
      ]
     },
     "execution_count": 6,
     "metadata": {},
     "output_type": "execute_result"
    }
   ],
   "source": [
    "cat_cols = ['model', 'car_type', 'fuel_type']\n",
    "for col in cat_cols:\n",
    "    data[col] = data[col].replace(np.unique(data[col]),\n",
    "                             np.arange(data[col].nunique()))\n",
    "    data[col] = data[col].astype('category')\n",
    "data.head()"
   ]
  },
  {
   "cell_type": "markdown",
   "id": "d2e605e3-647a-448b-aafc-222e72109d83",
   "metadata": {},
   "source": [
    "### Разделим выборку на валидационную и обучающую"
   ]
  },
  {
   "cell_type": "code",
   "execution_count": 7,
   "id": "7c28629b-eabf-4eec-8e8f-445a5d29e7c0",
   "metadata": {},
   "outputs": [],
   "source": [
    "COLS_BEST = data.drop(columns=['car_id', 'target_reg', 'target_class']).columns"
   ]
  },
  {
   "cell_type": "code",
   "execution_count": 8,
   "id": "d8c2be00-f147-4595-bddd-df1876b74bd5",
   "metadata": {},
   "outputs": [
    {
     "data": {
      "text/plain": [
       "((1752, 7), (585, 7))"
      ]
     },
     "execution_count": 8,
     "metadata": {},
     "output_type": "execute_result"
    }
   ],
   "source": [
    "X_train, X_val, y_train, y_val = train_test_split(data.drop(['target_class'], axis=1)[COLS_BEST], \n",
    "                                                    data['target_reg'],\n",
    "                                                    test_size=.25,\n",
    "                                                    random_state=42)\n",
    "X_train.shape, X_val.shape"
   ]
  },
  {
   "cell_type": "markdown",
   "id": "c49d07b7-85e5-4b45-ace1-e327efe4bc73",
   "metadata": {},
   "source": [
    "## Обучаем CatBoost"
   ]
  },
  {
   "cell_type": "code",
   "execution_count": 347,
   "id": "39fc58a3-674c-4e8b-a280-950d67d1ba64",
   "metadata": {},
   "outputs": [],
   "source": [
    "text_cols = []"
   ]
  },
  {
   "cell_type": "code",
   "execution_count": 348,
   "id": "f1ba8556-5706-4eb9-9aa2-768638e79ea8",
   "metadata": {},
   "outputs": [],
   "source": [
    "params_cat = {'n_estimators' : 700,\n",
    "          'learning_rate': .03,\n",
    "          'depth' : 3,\n",
    "          'use_best_model': True,\n",
    "          'cat_features' : cat_cols,\n",
    "          'text_features': text_cols,\n",
    "          # 'train_dir' : '/home/jovyan/work/catboost',\n",
    "          # 'border_count' : 64,\n",
    "          # 'l2_leaf_reg' : 1,\n",
    "          # 'bagging_temperature' : 2,\n",
    "          # 'rsm' : .1,\n",
    "          # 'loss_function': 'MultiClass',\n",
    "          # 'auto_class_weights' : 'Balanced', #try not balanced\n",
    "          'random_state': 42,\n",
    "          # 'custom_metric' : ['AUC', 'MAP']\n",
    "         }\n",
    "\n",
    "cat_model = CatBoostRegressor(**params_cat)"
   ]
  },
  {
   "cell_type": "code",
   "execution_count": 349,
   "id": "dc04e22d-6c65-4522-b5c3-71959d3c5524",
   "metadata": {},
   "outputs": [
    {
     "name": "stdout",
     "output_type": "stream",
     "text": [
      "0:\tlearn: 17.6161100\ttest: 17.6550615\tbest: 17.6550615 (0)\ttotal: 3.22ms\tremaining: 2.25s\n",
      "100:\tlearn: 17.1615819\ttest: 17.1692060\tbest: 17.1682442 (99)\ttotal: 79.2ms\tremaining: 470ms\n",
      "200:\tlearn: 17.0286130\ttest: 17.1696516\tbest: 17.1593349 (113)\ttotal: 138ms\tremaining: 344ms\n",
      "Stopped by overfitting detector  (100 iterations wait)\n",
      "\n",
      "bestTest = 17.1593349\n",
      "bestIteration = 113\n",
      "\n",
      "Shrink model to first 114 iterations.\n"
     ]
    },
    {
     "data": {
      "text/plain": [
       "<catboost.core.CatBoostRegressor at 0x2949da200>"
      ]
     },
     "execution_count": 349,
     "metadata": {},
     "output_type": "execute_result"
    }
   ],
   "source": [
    "cat_model.fit(X_train, y_train, verbose=100, eval_set=(X_val, y_val), early_stopping_rounds=100)"
   ]
  },
  {
   "cell_type": "code",
   "execution_count": 350,
   "id": "31bb9148-1abf-4502-968b-3eae1e943149",
   "metadata": {},
   "outputs": [
    {
     "data": {
      "text/plain": [
       "294.44277076934935"
      ]
     },
     "execution_count": 350,
     "metadata": {},
     "output_type": "execute_result"
    }
   ],
   "source": [
    "mean_squared_error(cat_model.predict(X_val), y_val)"
   ]
  },
  {
   "cell_type": "code",
   "execution_count": 351,
   "id": "a81e8b26-8d9b-4f2e-99f5-14e8441f8016",
   "metadata": {},
   "outputs": [
    {
     "data": {
      "text/plain": [
       "312.2798719631821"
      ]
     },
     "execution_count": 351,
     "metadata": {},
     "output_type": "execute_result"
    }
   ],
   "source": [
    "mean_squared_error(np.ones(len(y_val)) * y_val.mean(), y_val)"
   ]
  },
  {
   "cell_type": "code",
   "execution_count": 352,
   "id": "e1cd5231-106a-4cf0-8409-988ac723e135",
   "metadata": {},
   "outputs": [
    {
     "data": {
      "text/html": [
       "<div>\n",
       "<style scoped>\n",
       "    .dataframe tbody tr th:only-of-type {\n",
       "        vertical-align: middle;\n",
       "    }\n",
       "\n",
       "    .dataframe tbody tr th {\n",
       "        vertical-align: top;\n",
       "    }\n",
       "\n",
       "    .dataframe thead th {\n",
       "        text-align: right;\n",
       "    }\n",
       "</style>\n",
       "<table border=\"1\" class=\"dataframe\">\n",
       "  <thead>\n",
       "    <tr style=\"text-align: right;\">\n",
       "      <th></th>\n",
       "      <th>target</th>\n",
       "    </tr>\n",
       "  </thead>\n",
       "  <tbody>\n",
       "    <tr>\n",
       "      <th>0</th>\n",
       "      <td>65.927922</td>\n",
       "    </tr>\n",
       "    <tr>\n",
       "      <th>1</th>\n",
       "      <td>44.248116</td>\n",
       "    </tr>\n",
       "    <tr>\n",
       "      <th>2</th>\n",
       "      <td>43.807966</td>\n",
       "    </tr>\n",
       "    <tr>\n",
       "      <th>3</th>\n",
       "      <td>45.661121</td>\n",
       "    </tr>\n",
       "    <tr>\n",
       "      <th>4</th>\n",
       "      <td>43.653036</td>\n",
       "    </tr>\n",
       "  </tbody>\n",
       "</table>\n",
       "</div>"
      ],
      "text/plain": [
       "      target\n",
       "0  65.927922\n",
       "1  44.248116\n",
       "2  43.807966\n",
       "3  45.661121\n",
       "4  43.653036"
      ]
     },
     "execution_count": 352,
     "metadata": {},
     "output_type": "execute_result"
    }
   ],
   "source": [
    "submit = pd.DataFrame({'target': cat_model.predict(X_val).reshape(-1)})\n",
    "submit.to_csv('../data/blending/regression/catboost_preds.csv', index=False)\n",
    "submit.head()"
   ]
  },
  {
   "cell_type": "code",
   "execution_count": 353,
   "id": "7326f67b-150d-4d64-9382-bdffacd40e61",
   "metadata": {},
   "outputs": [
    {
     "data": {
      "text/plain": [
       "(585, 1)"
      ]
     },
     "execution_count": 353,
     "metadata": {},
     "output_type": "execute_result"
    }
   ],
   "source": [
    "submit.shape"
   ]
  },
  {
   "cell_type": "markdown",
   "id": "c76c86bb-50bf-4786-b311-0427e7561a85",
   "metadata": {},
   "source": [
    "## Обучаем LightGbm"
   ]
  },
  {
   "cell_type": "code",
   "execution_count": 354,
   "id": "2d923913-c970-40b9-aaf7-e8bd09986c91",
   "metadata": {},
   "outputs": [],
   "source": [
    "import warnings\n",
    "warnings.filterwarnings(\"ignore\")"
   ]
  },
  {
   "cell_type": "code",
   "execution_count": 355,
   "id": "8f46c558-efb6-44cf-9f5a-0b0bf8beab19",
   "metadata": {},
   "outputs": [],
   "source": [
    "params_lgbm = {'num_leaves': 887,\n",
    "               'n_estimators': 480,\n",
    "               'max_depth': 7,\n",
    "               'min_child_samples': 1073,\n",
    "               'learning_rate': 0.05348257149091985,\n",
    "               'min_data_in_leaf': 2,\n",
    "               'feature_fraction': 0.9529134909800754,\n",
    "               'categorical_feature': cat_cols\n",
    "              }"
   ]
  },
  {
   "cell_type": "code",
   "execution_count": 356,
   "id": "289b6935-9677-42ae-86b1-93db0ea400b3",
   "metadata": {},
   "outputs": [],
   "source": [
    "lgbm_model = lgbm.LGBMRegressor(**params_lgbm)"
   ]
  },
  {
   "cell_type": "code",
   "execution_count": 357,
   "id": "c672b2e6-715c-4302-be13-84cc2bcde762",
   "metadata": {},
   "outputs": [
    {
     "name": "stdout",
     "output_type": "stream",
     "text": [
      "[LightGBM] [Warning] min_data_in_leaf is set=2, min_child_samples=1073 will be ignored. Current value: min_data_in_leaf=2\n",
      "[LightGBM] [Warning] feature_fraction is set=0.9529134909800754, colsample_bytree=1.0 will be ignored. Current value: feature_fraction=0.9529134909800754\n",
      "[25]\tvalid_0's l2: 308.382\n",
      "[50]\tvalid_0's l2: 315.925\n",
      "[75]\tvalid_0's l2: 325.238\n",
      "[100]\tvalid_0's l2: 329.397\n"
     ]
    },
    {
     "data": {
      "text/html": [
       "<style>#sk-container-id-16 {color: black;background-color: white;}#sk-container-id-16 pre{padding: 0;}#sk-container-id-16 div.sk-toggleable {background-color: white;}#sk-container-id-16 label.sk-toggleable__label {cursor: pointer;display: block;width: 100%;margin-bottom: 0;padding: 0.3em;box-sizing: border-box;text-align: center;}#sk-container-id-16 label.sk-toggleable__label-arrow:before {content: \"▸\";float: left;margin-right: 0.25em;color: #696969;}#sk-container-id-16 label.sk-toggleable__label-arrow:hover:before {color: black;}#sk-container-id-16 div.sk-estimator:hover label.sk-toggleable__label-arrow:before {color: black;}#sk-container-id-16 div.sk-toggleable__content {max-height: 0;max-width: 0;overflow: hidden;text-align: left;background-color: #f0f8ff;}#sk-container-id-16 div.sk-toggleable__content pre {margin: 0.2em;color: black;border-radius: 0.25em;background-color: #f0f8ff;}#sk-container-id-16 input.sk-toggleable__control:checked~div.sk-toggleable__content {max-height: 200px;max-width: 100%;overflow: auto;}#sk-container-id-16 input.sk-toggleable__control:checked~label.sk-toggleable__label-arrow:before {content: \"▾\";}#sk-container-id-16 div.sk-estimator input.sk-toggleable__control:checked~label.sk-toggleable__label {background-color: #d4ebff;}#sk-container-id-16 div.sk-label input.sk-toggleable__control:checked~label.sk-toggleable__label {background-color: #d4ebff;}#sk-container-id-16 input.sk-hidden--visually {border: 0;clip: rect(1px 1px 1px 1px);clip: rect(1px, 1px, 1px, 1px);height: 1px;margin: -1px;overflow: hidden;padding: 0;position: absolute;width: 1px;}#sk-container-id-16 div.sk-estimator {font-family: monospace;background-color: #f0f8ff;border: 1px dotted black;border-radius: 0.25em;box-sizing: border-box;margin-bottom: 0.5em;}#sk-container-id-16 div.sk-estimator:hover {background-color: #d4ebff;}#sk-container-id-16 div.sk-parallel-item::after {content: \"\";width: 100%;border-bottom: 1px solid gray;flex-grow: 1;}#sk-container-id-16 div.sk-label:hover label.sk-toggleable__label {background-color: #d4ebff;}#sk-container-id-16 div.sk-serial::before {content: \"\";position: absolute;border-left: 1px solid gray;box-sizing: border-box;top: 0;bottom: 0;left: 50%;z-index: 0;}#sk-container-id-16 div.sk-serial {display: flex;flex-direction: column;align-items: center;background-color: white;padding-right: 0.2em;padding-left: 0.2em;position: relative;}#sk-container-id-16 div.sk-item {position: relative;z-index: 1;}#sk-container-id-16 div.sk-parallel {display: flex;align-items: stretch;justify-content: center;background-color: white;position: relative;}#sk-container-id-16 div.sk-item::before, #sk-container-id-16 div.sk-parallel-item::before {content: \"\";position: absolute;border-left: 1px solid gray;box-sizing: border-box;top: 0;bottom: 0;left: 50%;z-index: -1;}#sk-container-id-16 div.sk-parallel-item {display: flex;flex-direction: column;z-index: 1;position: relative;background-color: white;}#sk-container-id-16 div.sk-parallel-item:first-child::after {align-self: flex-end;width: 50%;}#sk-container-id-16 div.sk-parallel-item:last-child::after {align-self: flex-start;width: 50%;}#sk-container-id-16 div.sk-parallel-item:only-child::after {width: 0;}#sk-container-id-16 div.sk-dashed-wrapped {border: 1px dashed gray;margin: 0 0.4em 0.5em 0.4em;box-sizing: border-box;padding-bottom: 0.4em;background-color: white;}#sk-container-id-16 div.sk-label label {font-family: monospace;font-weight: bold;display: inline-block;line-height: 1.2em;}#sk-container-id-16 div.sk-label-container {text-align: center;}#sk-container-id-16 div.sk-container {/* jupyter's `normalize.less` sets `[hidden] { display: none; }` but bootstrap.min.css set `[hidden] { display: none !important; }` so we also need the `!important` here to be able to override the default hidden behavior on the sphinx rendered scikit-learn.org. See: https://github.com/scikit-learn/scikit-learn/issues/21755 */display: inline-block !important;position: relative;}#sk-container-id-16 div.sk-text-repr-fallback {display: none;}</style><div id=\"sk-container-id-16\" class=\"sk-top-container\"><div class=\"sk-text-repr-fallback\"><pre>LGBMRegressor(categorical_feature=[&#x27;model&#x27;, &#x27;car_type&#x27;, &#x27;fuel_type&#x27;],\n",
       "              feature_fraction=0.9529134909800754,\n",
       "              learning_rate=0.05348257149091985, max_depth=7,\n",
       "              min_child_samples=1073, min_data_in_leaf=2, n_estimators=480,\n",
       "              num_leaves=887)</pre><b>In a Jupyter environment, please rerun this cell to show the HTML representation or trust the notebook. <br />On GitHub, the HTML representation is unable to render, please try loading this page with nbviewer.org.</b></div><div class=\"sk-container\" hidden><div class=\"sk-item\"><div class=\"sk-estimator sk-toggleable\"><input class=\"sk-toggleable__control sk-hidden--visually\" id=\"sk-estimator-id-16\" type=\"checkbox\" checked><label for=\"sk-estimator-id-16\" class=\"sk-toggleable__label sk-toggleable__label-arrow\">LGBMRegressor</label><div class=\"sk-toggleable__content\"><pre>LGBMRegressor(categorical_feature=[&#x27;model&#x27;, &#x27;car_type&#x27;, &#x27;fuel_type&#x27;],\n",
       "              feature_fraction=0.9529134909800754,\n",
       "              learning_rate=0.05348257149091985, max_depth=7,\n",
       "              min_child_samples=1073, min_data_in_leaf=2, n_estimators=480,\n",
       "              num_leaves=887)</pre></div></div></div></div></div>"
      ],
      "text/plain": [
       "LGBMRegressor(categorical_feature=['model', 'car_type', 'fuel_type'],\n",
       "              feature_fraction=0.9529134909800754,\n",
       "              learning_rate=0.05348257149091985, max_depth=7,\n",
       "              min_child_samples=1073, min_data_in_leaf=2, n_estimators=480,\n",
       "              num_leaves=887)"
      ]
     },
     "execution_count": 357,
     "metadata": {},
     "output_type": "execute_result"
    }
   ],
   "source": [
    "lgbm_model.fit(X_train, y_train, eval_set=(X_val, y_val), early_stopping_rounds=100, verbose=25)"
   ]
  },
  {
   "cell_type": "code",
   "execution_count": 358,
   "id": "6a6be5d5-0aca-49bc-84db-4d0b7544c820",
   "metadata": {},
   "outputs": [
    {
     "data": {
      "text/plain": [
       "304.4219582188492"
      ]
     },
     "execution_count": 358,
     "metadata": {},
     "output_type": "execute_result"
    }
   ],
   "source": [
    "mean_squared_error(lgbm_model.predict(X_val), y_val)"
   ]
  },
  {
   "cell_type": "code",
   "execution_count": 359,
   "id": "e5248d82-4064-4a18-8dff-e547f2671815",
   "metadata": {},
   "outputs": [
    {
     "data": {
      "text/html": [
       "<div>\n",
       "<style scoped>\n",
       "    .dataframe tbody tr th:only-of-type {\n",
       "        vertical-align: middle;\n",
       "    }\n",
       "\n",
       "    .dataframe tbody tr th {\n",
       "        vertical-align: top;\n",
       "    }\n",
       "\n",
       "    .dataframe thead th {\n",
       "        text-align: right;\n",
       "    }\n",
       "</style>\n",
       "<table border=\"1\" class=\"dataframe\">\n",
       "  <thead>\n",
       "    <tr style=\"text-align: right;\">\n",
       "      <th></th>\n",
       "      <th>target</th>\n",
       "    </tr>\n",
       "  </thead>\n",
       "  <tbody>\n",
       "    <tr>\n",
       "      <th>0</th>\n",
       "      <td>49.622930</td>\n",
       "    </tr>\n",
       "    <tr>\n",
       "      <th>1</th>\n",
       "      <td>43.244205</td>\n",
       "    </tr>\n",
       "    <tr>\n",
       "      <th>2</th>\n",
       "      <td>45.389293</td>\n",
       "    </tr>\n",
       "    <tr>\n",
       "      <th>3</th>\n",
       "      <td>44.769051</td>\n",
       "    </tr>\n",
       "    <tr>\n",
       "      <th>4</th>\n",
       "      <td>40.462658</td>\n",
       "    </tr>\n",
       "  </tbody>\n",
       "</table>\n",
       "</div>"
      ],
      "text/plain": [
       "      target\n",
       "0  49.622930\n",
       "1  43.244205\n",
       "2  45.389293\n",
       "3  44.769051\n",
       "4  40.462658"
      ]
     },
     "execution_count": 359,
     "metadata": {},
     "output_type": "execute_result"
    }
   ],
   "source": [
    "submit = pd.DataFrame({'target': lgbm_model.predict(X_val).reshape(-1)})\n",
    "submit.to_csv('../data/blending/regression/lgbm_preds.csv', index=False)\n",
    "submit.head()"
   ]
  },
  {
   "cell_type": "markdown",
   "id": "6370fc7b-b5af-4256-81c3-f028a77f8497",
   "metadata": {},
   "source": [
    "## Обучаем XGBoost"
   ]
  },
  {
   "cell_type": "code",
   "execution_count": 361,
   "id": "6a7689d1-50cc-42a9-972e-f96349fa4319",
   "metadata": {},
   "outputs": [
    {
     "data": {
      "text/plain": [
       "(1752, 36)"
      ]
     },
     "execution_count": 361,
     "metadata": {},
     "output_type": "execute_result"
    }
   ],
   "source": [
    "# xgboost не умеет работать с категориальными признаками, так что нужно сделать ohe\n",
    "X_train = pd.get_dummies(X_train, columns=['car_type', 'fuel_type', 'model'])\n",
    "X_val = pd.get_dummies(X_val, columns=['car_type', 'fuel_type', 'model'])\n",
    "X_train.shape"
   ]
  },
  {
   "cell_type": "code",
   "execution_count": 363,
   "id": "d58ff124-12d2-4cc9-b699-c3c227d330fb",
   "metadata": {},
   "outputs": [],
   "source": [
    "params_xgb = {\n",
    "    'eta': 0.05,\n",
    "    'max_depth': 5,\n",
    "    'subsample': 0.7,\n",
    "    'colsample_bytree': 0.7,\n",
    "    # 'objective': 'reg:linear',\n",
    "    # 'eval_metric': 'accuracy'\n",
    "}"
   ]
  },
  {
   "cell_type": "code",
   "execution_count": 298,
   "id": "49d73acf-a960-4e0f-9b09-eeda0ac2d96d",
   "metadata": {},
   "outputs": [],
   "source": [
    "xgb_model = xgb.XGBRegressor(**params_xgb)"
   ]
  },
  {
   "cell_type": "code",
   "execution_count": 299,
   "id": "7fb8888f-0cf9-4414-8934-9c1974aad1c2",
   "metadata": {},
   "outputs": [
    {
     "name": "stdout",
     "output_type": "stream",
     "text": [
      "[0]\tvalidation_0-rmse:45.80347\tvalidation_1-rmse:45.66103\n",
      "[25]\tvalidation_0-rmse:20.51602\tvalidation_1-rmse:20.99963\n",
      "[50]\tvalidation_0-rmse:16.35869\tvalidation_1-rmse:17.68202\n",
      "[75]\tvalidation_0-rmse:15.41028\tvalidation_1-rmse:17.39982\n",
      "[99]\tvalidation_0-rmse:14.82798\tvalidation_1-rmse:17.42334\n"
     ]
    },
    {
     "data": {
      "text/html": [
       "<style>#sk-container-id-15 {color: black;background-color: white;}#sk-container-id-15 pre{padding: 0;}#sk-container-id-15 div.sk-toggleable {background-color: white;}#sk-container-id-15 label.sk-toggleable__label {cursor: pointer;display: block;width: 100%;margin-bottom: 0;padding: 0.3em;box-sizing: border-box;text-align: center;}#sk-container-id-15 label.sk-toggleable__label-arrow:before {content: \"▸\";float: left;margin-right: 0.25em;color: #696969;}#sk-container-id-15 label.sk-toggleable__label-arrow:hover:before {color: black;}#sk-container-id-15 div.sk-estimator:hover label.sk-toggleable__label-arrow:before {color: black;}#sk-container-id-15 div.sk-toggleable__content {max-height: 0;max-width: 0;overflow: hidden;text-align: left;background-color: #f0f8ff;}#sk-container-id-15 div.sk-toggleable__content pre {margin: 0.2em;color: black;border-radius: 0.25em;background-color: #f0f8ff;}#sk-container-id-15 input.sk-toggleable__control:checked~div.sk-toggleable__content {max-height: 200px;max-width: 100%;overflow: auto;}#sk-container-id-15 input.sk-toggleable__control:checked~label.sk-toggleable__label-arrow:before {content: \"▾\";}#sk-container-id-15 div.sk-estimator input.sk-toggleable__control:checked~label.sk-toggleable__label {background-color: #d4ebff;}#sk-container-id-15 div.sk-label input.sk-toggleable__control:checked~label.sk-toggleable__label {background-color: #d4ebff;}#sk-container-id-15 input.sk-hidden--visually {border: 0;clip: rect(1px 1px 1px 1px);clip: rect(1px, 1px, 1px, 1px);height: 1px;margin: -1px;overflow: hidden;padding: 0;position: absolute;width: 1px;}#sk-container-id-15 div.sk-estimator {font-family: monospace;background-color: #f0f8ff;border: 1px dotted black;border-radius: 0.25em;box-sizing: border-box;margin-bottom: 0.5em;}#sk-container-id-15 div.sk-estimator:hover {background-color: #d4ebff;}#sk-container-id-15 div.sk-parallel-item::after {content: \"\";width: 100%;border-bottom: 1px solid gray;flex-grow: 1;}#sk-container-id-15 div.sk-label:hover label.sk-toggleable__label {background-color: #d4ebff;}#sk-container-id-15 div.sk-serial::before {content: \"\";position: absolute;border-left: 1px solid gray;box-sizing: border-box;top: 0;bottom: 0;left: 50%;z-index: 0;}#sk-container-id-15 div.sk-serial {display: flex;flex-direction: column;align-items: center;background-color: white;padding-right: 0.2em;padding-left: 0.2em;position: relative;}#sk-container-id-15 div.sk-item {position: relative;z-index: 1;}#sk-container-id-15 div.sk-parallel {display: flex;align-items: stretch;justify-content: center;background-color: white;position: relative;}#sk-container-id-15 div.sk-item::before, #sk-container-id-15 div.sk-parallel-item::before {content: \"\";position: absolute;border-left: 1px solid gray;box-sizing: border-box;top: 0;bottom: 0;left: 50%;z-index: -1;}#sk-container-id-15 div.sk-parallel-item {display: flex;flex-direction: column;z-index: 1;position: relative;background-color: white;}#sk-container-id-15 div.sk-parallel-item:first-child::after {align-self: flex-end;width: 50%;}#sk-container-id-15 div.sk-parallel-item:last-child::after {align-self: flex-start;width: 50%;}#sk-container-id-15 div.sk-parallel-item:only-child::after {width: 0;}#sk-container-id-15 div.sk-dashed-wrapped {border: 1px dashed gray;margin: 0 0.4em 0.5em 0.4em;box-sizing: border-box;padding-bottom: 0.4em;background-color: white;}#sk-container-id-15 div.sk-label label {font-family: monospace;font-weight: bold;display: inline-block;line-height: 1.2em;}#sk-container-id-15 div.sk-label-container {text-align: center;}#sk-container-id-15 div.sk-container {/* jupyter's `normalize.less` sets `[hidden] { display: none; }` but bootstrap.min.css set `[hidden] { display: none !important; }` so we also need the `!important` here to be able to override the default hidden behavior on the sphinx rendered scikit-learn.org. See: https://github.com/scikit-learn/scikit-learn/issues/21755 */display: inline-block !important;position: relative;}#sk-container-id-15 div.sk-text-repr-fallback {display: none;}</style><div id=\"sk-container-id-15\" class=\"sk-top-container\"><div class=\"sk-text-repr-fallback\"><pre>XGBRegressor(base_score=None, booster=None, callbacks=None,\n",
       "             colsample_bylevel=None, colsample_bynode=None,\n",
       "             colsample_bytree=0.7, early_stopping_rounds=None,\n",
       "             enable_categorical=False, eta=0.05, eval_metric=None,\n",
       "             feature_types=None, gamma=None, gpu_id=None, grow_policy=None,\n",
       "             importance_type=None, interaction_constraints=None,\n",
       "             learning_rate=None, max_bin=None, max_cat_threshold=None,\n",
       "             max_cat_to_onehot=None, max_delta_step=None, max_depth=5,\n",
       "             max_leaves=None, min_child_weight=None, missing=nan,\n",
       "             monotone_constraints=None, n_estimators=100, n_jobs=None,\n",
       "             num_parallel_tree=None, predictor=None, ...)</pre><b>In a Jupyter environment, please rerun this cell to show the HTML representation or trust the notebook. <br />On GitHub, the HTML representation is unable to render, please try loading this page with nbviewer.org.</b></div><div class=\"sk-container\" hidden><div class=\"sk-item\"><div class=\"sk-estimator sk-toggleable\"><input class=\"sk-toggleable__control sk-hidden--visually\" id=\"sk-estimator-id-15\" type=\"checkbox\" checked><label for=\"sk-estimator-id-15\" class=\"sk-toggleable__label sk-toggleable__label-arrow\">XGBRegressor</label><div class=\"sk-toggleable__content\"><pre>XGBRegressor(base_score=None, booster=None, callbacks=None,\n",
       "             colsample_bylevel=None, colsample_bynode=None,\n",
       "             colsample_bytree=0.7, early_stopping_rounds=None,\n",
       "             enable_categorical=False, eta=0.05, eval_metric=None,\n",
       "             feature_types=None, gamma=None, gpu_id=None, grow_policy=None,\n",
       "             importance_type=None, interaction_constraints=None,\n",
       "             learning_rate=None, max_bin=None, max_cat_threshold=None,\n",
       "             max_cat_to_onehot=None, max_delta_step=None, max_depth=5,\n",
       "             max_leaves=None, min_child_weight=None, missing=nan,\n",
       "             monotone_constraints=None, n_estimators=100, n_jobs=None,\n",
       "             num_parallel_tree=None, predictor=None, ...)</pre></div></div></div></div></div>"
      ],
      "text/plain": [
       "XGBRegressor(base_score=None, booster=None, callbacks=None,\n",
       "             colsample_bylevel=None, colsample_bynode=None,\n",
       "             colsample_bytree=0.7, early_stopping_rounds=None,\n",
       "             enable_categorical=False, eta=0.05, eval_metric=None,\n",
       "             feature_types=None, gamma=None, gpu_id=None, grow_policy=None,\n",
       "             importance_type=None, interaction_constraints=None,\n",
       "             learning_rate=None, max_bin=None, max_cat_threshold=None,\n",
       "             max_cat_to_onehot=None, max_delta_step=None, max_depth=5,\n",
       "             max_leaves=None, min_child_weight=None, missing=nan,\n",
       "             monotone_constraints=None, n_estimators=100, n_jobs=None,\n",
       "             num_parallel_tree=None, predictor=None, ...)"
      ]
     },
     "execution_count": 299,
     "metadata": {},
     "output_type": "execute_result"
    }
   ],
   "source": [
    "xgb_model.fit(X_train, y_train, eval_set=[(X_train, y_train), (X_val, y_val)], early_stopping_rounds=100, verbose=25)"
   ]
  },
  {
   "cell_type": "code",
   "execution_count": 301,
   "id": "d98aa841-3780-46a0-ae6e-b595cb135312",
   "metadata": {},
   "outputs": [
    {
     "data": {
      "text/plain": [
       "80"
      ]
     },
     "execution_count": 301,
     "metadata": {},
     "output_type": "execute_result"
    }
   ],
   "source": [
    "xgb_model.best_iteration"
   ]
  },
  {
   "cell_type": "code",
   "execution_count": 302,
   "id": "7c8b6afe-6f85-4e91-b627-cdf2aa69141e",
   "metadata": {},
   "outputs": [
    {
     "data": {
      "text/plain": [
       "302.1528549432632"
      ]
     },
     "execution_count": 302,
     "metadata": {},
     "output_type": "execute_result"
    }
   ],
   "source": [
    "mean_squared_error(xgb_model.predict(X_val), y_val)"
   ]
  },
  {
   "cell_type": "code",
   "execution_count": 303,
   "id": "b7a09df2-85f2-40f8-97ff-883b902542e1",
   "metadata": {},
   "outputs": [
    {
     "data": {
      "text/html": [
       "<div>\n",
       "<style scoped>\n",
       "    .dataframe tbody tr th:only-of-type {\n",
       "        vertical-align: middle;\n",
       "    }\n",
       "\n",
       "    .dataframe tbody tr th {\n",
       "        vertical-align: top;\n",
       "    }\n",
       "\n",
       "    .dataframe thead th {\n",
       "        text-align: right;\n",
       "    }\n",
       "</style>\n",
       "<table border=\"1\" class=\"dataframe\">\n",
       "  <thead>\n",
       "    <tr style=\"text-align: right;\">\n",
       "      <th></th>\n",
       "      <th>target</th>\n",
       "    </tr>\n",
       "  </thead>\n",
       "  <tbody>\n",
       "    <tr>\n",
       "      <th>0</th>\n",
       "      <td>55.741352</td>\n",
       "    </tr>\n",
       "    <tr>\n",
       "      <th>1</th>\n",
       "      <td>42.661655</td>\n",
       "    </tr>\n",
       "    <tr>\n",
       "      <th>2</th>\n",
       "      <td>42.217468</td>\n",
       "    </tr>\n",
       "    <tr>\n",
       "      <th>3</th>\n",
       "      <td>40.969734</td>\n",
       "    </tr>\n",
       "    <tr>\n",
       "      <th>4</th>\n",
       "      <td>38.243038</td>\n",
       "    </tr>\n",
       "  </tbody>\n",
       "</table>\n",
       "</div>"
      ],
      "text/plain": [
       "      target\n",
       "0  55.741352\n",
       "1  42.661655\n",
       "2  42.217468\n",
       "3  40.969734\n",
       "4  38.243038"
      ]
     },
     "execution_count": 303,
     "metadata": {},
     "output_type": "execute_result"
    }
   ],
   "source": [
    "submit = pd.DataFrame({'target': xgb_model.predict(X_val).reshape(-1)})\n",
    "submit.to_csv('../data/blending/regression/xgb_preds.csv', index=False)\n",
    "submit.head()"
   ]
  },
  {
   "cell_type": "markdown",
   "id": "eb6df72a-b992-4182-b029-910c07b7c0ea",
   "metadata": {},
   "source": [
    "## Блендим модели"
   ]
  },
  {
   "cell_type": "markdown",
   "id": "1fe2b7e8-7e7f-49ca-a503-0a2d063c30d2",
   "metadata": {},
   "source": [
    "### Быстрый и простой способ сбледнить"
   ]
  },
  {
   "cell_type": "code",
   "execution_count": 9,
   "id": "a389a5c4-4af0-45d3-b4b5-599c9eea2550",
   "metadata": {},
   "outputs": [
    {
     "data": {
      "text/plain": [
       "297.04590842596497"
      ]
     },
     "execution_count": 9,
     "metadata": {},
     "output_type": "execute_result"
    }
   ],
   "source": [
    "# \n",
    "ensemble = pd.read_csv('../data/blending/regression/catboost_preds.csv')['target'] * 0.5 + \\\n",
    "           pd.read_csv('../data/blending/regression/xgb_preds.csv')['target'] * 0.25 + \\\n",
    "           pd.read_csv('../data/blending/regression/lgbm_preds.csv')['target'] * 0.25\n",
    "mean_squared_error(ensemble, y_val)"
   ]
  },
  {
   "cell_type": "markdown",
   "id": "e2e04696-bd58-4150-b116-ff1bb352bd6e",
   "metadata": {},
   "source": [
    "### Более элегантный и универсальный способ"
   ]
  },
  {
   "cell_type": "code",
   "execution_count": 12,
   "id": "f1717baf-51e8-4b99-99c6-52b1bdf58213",
   "metadata": {},
   "outputs": [],
   "source": [
    "import os"
   ]
  },
  {
   "cell_type": "code",
   "execution_count": 10,
   "id": "76f8aa3d-1902-454e-bb63-14cf67d6d078",
   "metadata": {},
   "outputs": [],
   "source": [
    "weights = {'catboost': 0.5,\n",
    "           'lgbm': 0.25,\n",
    "           'xgb': 0.25}"
   ]
  },
  {
   "cell_type": "code",
   "execution_count": 18,
   "id": "8fcbcc9d-3ae2-491b-9ad5-423f8b00cc50",
   "metadata": {},
   "outputs": [
    {
     "data": {
      "text/html": [
       "<div>\n",
       "<style scoped>\n",
       "    .dataframe tbody tr th:only-of-type {\n",
       "        vertical-align: middle;\n",
       "    }\n",
       "\n",
       "    .dataframe tbody tr th {\n",
       "        vertical-align: top;\n",
       "    }\n",
       "\n",
       "    .dataframe thead th {\n",
       "        text-align: right;\n",
       "    }\n",
       "</style>\n",
       "<table border=\"1\" class=\"dataframe\">\n",
       "  <thead>\n",
       "    <tr style=\"text-align: right;\">\n",
       "      <th></th>\n",
       "      <th>index</th>\n",
       "      <th>target</th>\n",
       "      <th>model</th>\n",
       "    </tr>\n",
       "  </thead>\n",
       "  <tbody>\n",
       "    <tr>\n",
       "      <th>0</th>\n",
       "      <td>0</td>\n",
       "      <td>32.963961</td>\n",
       "      <td>catboost</td>\n",
       "    </tr>\n",
       "    <tr>\n",
       "      <th>1</th>\n",
       "      <td>1</td>\n",
       "      <td>22.124058</td>\n",
       "      <td>catboost</td>\n",
       "    </tr>\n",
       "    <tr>\n",
       "      <th>2</th>\n",
       "      <td>2</td>\n",
       "      <td>21.903983</td>\n",
       "      <td>catboost</td>\n",
       "    </tr>\n",
       "    <tr>\n",
       "      <th>3</th>\n",
       "      <td>3</td>\n",
       "      <td>22.830561</td>\n",
       "      <td>catboost</td>\n",
       "    </tr>\n",
       "    <tr>\n",
       "      <th>4</th>\n",
       "      <td>4</td>\n",
       "      <td>21.826518</td>\n",
       "      <td>catboost</td>\n",
       "    </tr>\n",
       "  </tbody>\n",
       "</table>\n",
       "</div>"
      ],
      "text/plain": [
       "   index     target     model\n",
       "0      0  32.963961  catboost\n",
       "1      1  22.124058  catboost\n",
       "2      2  21.903983  catboost\n",
       "3      3  22.830561  catboost\n",
       "4      4  21.826518  catboost"
      ]
     },
     "execution_count": 18,
     "metadata": {},
     "output_type": "execute_result"
    }
   ],
   "source": [
    "preds = pd.DataFrame()\n",
    "\n",
    "# соберем единый датафрейм из наших предсказаний\n",
    "for model_name in ['catboost', 'lgbm', 'xgb']:\n",
    "    now = pd.read_csv(os.path.join('../data/blending/regression', f'{model_name}_preds.csv')).reset_index()\n",
    "    now['model'] = model_name\n",
    "    now['target'] *= weights[model_name]\n",
    "    preds = pd.concat([preds, now])\n",
    "    \n",
    "preds.head()"
   ]
  },
  {
   "cell_type": "code",
   "execution_count": 19,
   "id": "22e60963-af72-49cd-8113-fc12ef0104f3",
   "metadata": {},
   "outputs": [
    {
     "data": {
      "text/plain": [
       "array(['catboost', 'lgbm', 'xgb'], dtype=object)"
      ]
     },
     "execution_count": 19,
     "metadata": {},
     "output_type": "execute_result"
    }
   ],
   "source": [
    "preds['model'].unique()"
   ]
  },
  {
   "cell_type": "code",
   "execution_count": 20,
   "id": "ea7fe925-ad4f-483e-91bf-208763e419ad",
   "metadata": {},
   "outputs": [
    {
     "data": {
      "text/plain": [
       "297.04590842596497"
      ]
     },
     "execution_count": 20,
     "metadata": {},
     "output_type": "execute_result"
    }
   ],
   "source": [
    "ensemble = preds.groupby('index')['target'].agg('sum')\n",
    "mean_squared_error(ensemble, y_val)"
   ]
  },
  {
   "cell_type": "markdown",
   "id": "5d2151d1-c003-41ee-b670-5edc1f3af152",
   "metadata": {},
   "source": [
    "## Выводы"
   ]
  },
  {
   "cell_type": "markdown",
   "id": "ad899471-e715-4557-b7fe-db553a048ea0",
   "metadata": {},
   "source": [
    "<div class=\"alert alert-info\">\n",
    "\n",
    "Блендинг это сильный инструмент, который зачастую неплохо поднимаем качество моделей. При этом само сблендивание провести можно вообще в одну строчку, просто взяв среднее моделей."
   ]
  },
  {
   "cell_type": "code",
   "execution_count": null,
   "id": "aafc9e8c-b27a-4aa5-aac8-87869d21ae28",
   "metadata": {},
   "outputs": [],
   "source": []
  }
 ],
 "metadata": {
  "kernelspec": {
   "display_name": "Python 3 (ipykernel)",
   "language": "python",
   "name": "python3"
  },
  "language_info": {
   "codemirror_mode": {
    "name": "ipython",
    "version": 3
   },
   "file_extension": ".py",
   "mimetype": "text/x-python",
   "name": "python",
   "nbconvert_exporter": "python",
   "pygments_lexer": "ipython3",
   "version": "3.10.8"
  }
 },
 "nbformat": 4,
 "nbformat_minor": 5
}
