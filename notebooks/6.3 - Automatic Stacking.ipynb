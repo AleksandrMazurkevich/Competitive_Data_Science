{
 "cells": [
  {
   "cell_type": "code",
   "execution_count": 1,
   "id": "56d5f730-6c7c-46e0-b035-6d9bc99727dc",
   "metadata": {},
   "outputs": [],
   "source": [
    "# нужные библиотеки\n",
    "import numpy as np\n",
    "import pandas as pd\n",
    "import gc\n",
    "import random\n",
    "import re\n",
    "import typing\n",
    "import numpy as np\n",
    "\n",
    "from sklearn.model_selection import KFold\n",
    "from sklearn.model_selection import cross_val_score\n",
    "from sklearn.model_selection import train_test_split\n",
    "from sklearn.preprocessing import PolynomialFeatures\n",
    "from sklearn.metrics import mean_absolute_percentage_error, r2_score, mean_squared_error, accuracy_score\n",
    "\n",
    "import lightgbm\n",
    "import xgboost\n",
    "import catboost"
   ]
  },
  {
   "cell_type": "code",
   "execution_count": 2,
   "id": "0e230ddd-f5ff-4d17-8f67-a48bf4d6bd1a",
   "metadata": {},
   "outputs": [],
   "source": [
    "import warnings\n",
    "warnings.filterwarnings(\"ignore\")"
   ]
  },
  {
   "cell_type": "code",
   "execution_count": 4,
   "id": "bd8eed20-8cdb-40f9-bba8-96191263a1bc",
   "metadata": {},
   "outputs": [],
   "source": [
    "import sklearn\n",
    "from sklearn.pipeline import Pipeline, make_pipeline, FeatureUnion\n",
    "from sklearn.compose import ColumnTransformer, make_column_selector\n",
    "\n",
    "from sklearn.svm import LinearSVC\n",
    "from sklearn.ensemble import RandomForestClassifier, StackingClassifier\n",
    "from sklearn.linear_model import LogisticRegression\n",
    "\n",
    "from sklearn.impute import SimpleImputer, KNNImputer\n",
    "from sklearn.feature_selection import SelectKBest, chi2, f_classif\n",
    "from sklearn.preprocessing import StandardScaler, RobustScaler, LabelEncoder, OneHotEncoder, MinMaxScaler\n",
    "from sklearn.metrics import classification_report, confusion_matrix, f1_score, make_scorer\n",
    "\n",
    "sklearn.set_config(display='diagram')"
   ]
  },
  {
   "cell_type": "markdown",
   "id": "148738ed-3394-4afd-8290-abbcaaa48d35",
   "metadata": {},
   "source": [
    "## Read Data"
   ]
  },
  {
   "cell_type": "code",
   "execution_count": 5,
   "id": "c9f7c9a1-a7d1-4548-b9fd-0a8456db88b9",
   "metadata": {},
   "outputs": [
    {
     "data": {
      "text/html": [
       "<div>\n",
       "<style scoped>\n",
       "    .dataframe tbody tr th:only-of-type {\n",
       "        vertical-align: middle;\n",
       "    }\n",
       "\n",
       "    .dataframe tbody tr th {\n",
       "        vertical-align: top;\n",
       "    }\n",
       "\n",
       "    .dataframe thead th {\n",
       "        text-align: right;\n",
       "    }\n",
       "</style>\n",
       "<table border=\"1\" class=\"dataframe\">\n",
       "  <thead>\n",
       "    <tr style=\"text-align: right;\">\n",
       "      <th></th>\n",
       "      <th>car_id</th>\n",
       "      <th>model</th>\n",
       "      <th>car_type</th>\n",
       "      <th>fuel_type</th>\n",
       "      <th>car_rating</th>\n",
       "      <th>year_to_start</th>\n",
       "      <th>riders</th>\n",
       "      <th>year_to_work</th>\n",
       "      <th>target_reg</th>\n",
       "      <th>target_class</th>\n",
       "    </tr>\n",
       "  </thead>\n",
       "  <tbody>\n",
       "    <tr>\n",
       "      <th>0</th>\n",
       "      <td>y13744087j</td>\n",
       "      <td>Kia Rio X-line</td>\n",
       "      <td>economy</td>\n",
       "      <td>petrol</td>\n",
       "      <td>3.78</td>\n",
       "      <td>2015</td>\n",
       "      <td>76163</td>\n",
       "      <td>2021</td>\n",
       "      <td>109.99</td>\n",
       "      <td>another_bug</td>\n",
       "    </tr>\n",
       "    <tr>\n",
       "      <th>1</th>\n",
       "      <td>O41613818T</td>\n",
       "      <td>VW Polo VI</td>\n",
       "      <td>economy</td>\n",
       "      <td>petrol</td>\n",
       "      <td>3.90</td>\n",
       "      <td>2015</td>\n",
       "      <td>78218</td>\n",
       "      <td>2021</td>\n",
       "      <td>34.48</td>\n",
       "      <td>electro_bug</td>\n",
       "    </tr>\n",
       "    <tr>\n",
       "      <th>2</th>\n",
       "      <td>d-2109686j</td>\n",
       "      <td>Renault Sandero</td>\n",
       "      <td>standart</td>\n",
       "      <td>petrol</td>\n",
       "      <td>6.30</td>\n",
       "      <td>2012</td>\n",
       "      <td>23340</td>\n",
       "      <td>2017</td>\n",
       "      <td>34.93</td>\n",
       "      <td>gear_stick</td>\n",
       "    </tr>\n",
       "    <tr>\n",
       "      <th>3</th>\n",
       "      <td>u29695600e</td>\n",
       "      <td>Mercedes-Benz GLC</td>\n",
       "      <td>business</td>\n",
       "      <td>petrol</td>\n",
       "      <td>4.04</td>\n",
       "      <td>2011</td>\n",
       "      <td>1263</td>\n",
       "      <td>2020</td>\n",
       "      <td>32.22</td>\n",
       "      <td>engine_fuel</td>\n",
       "    </tr>\n",
       "    <tr>\n",
       "      <th>4</th>\n",
       "      <td>N-8915870N</td>\n",
       "      <td>Renault Sandero</td>\n",
       "      <td>standart</td>\n",
       "      <td>petrol</td>\n",
       "      <td>4.70</td>\n",
       "      <td>2012</td>\n",
       "      <td>26428</td>\n",
       "      <td>2017</td>\n",
       "      <td>27.51</td>\n",
       "      <td>engine_fuel</td>\n",
       "    </tr>\n",
       "  </tbody>\n",
       "</table>\n",
       "</div>"
      ],
      "text/plain": [
       "       car_id              model  car_type fuel_type  car_rating  \\\n",
       "0  y13744087j     Kia Rio X-line   economy    petrol        3.78   \n",
       "1  O41613818T         VW Polo VI   economy    petrol        3.90   \n",
       "2  d-2109686j    Renault Sandero  standart    petrol        6.30   \n",
       "3  u29695600e  Mercedes-Benz GLC  business    petrol        4.04   \n",
       "4  N-8915870N    Renault Sandero  standart    petrol        4.70   \n",
       "\n",
       "   year_to_start  riders  year_to_work  target_reg target_class  \n",
       "0           2015   76163          2021      109.99  another_bug  \n",
       "1           2015   78218          2021       34.48  electro_bug  \n",
       "2           2012   23340          2017       34.93   gear_stick  \n",
       "3           2011    1263          2020       32.22  engine_fuel  \n",
       "4           2012   26428          2017       27.51  engine_fuel  "
      ]
     },
     "execution_count": 5,
     "metadata": {},
     "output_type": "execute_result"
    }
   ],
   "source": [
    "data = pd.read_csv('../data/car_train.csv')\n",
    "data.head()"
   ]
  },
  {
   "cell_type": "code",
   "execution_count": 6,
   "id": "0a10cf2e-9264-4034-91d9-498a61fe17e9",
   "metadata": {},
   "outputs": [
    {
     "data": {
      "text/plain": [
       "2337"
      ]
     },
     "execution_count": 6,
     "metadata": {},
     "output_type": "execute_result"
    }
   ],
   "source": [
    "data['car_id'].nunique()"
   ]
  },
  {
   "cell_type": "code",
   "execution_count": 7,
   "id": "d26c1b0f-b0ed-45c1-b346-f087f752cd7c",
   "metadata": {},
   "outputs": [
    {
     "data": {
      "text/plain": [
       "(2337, 10)"
      ]
     },
     "execution_count": 7,
     "metadata": {},
     "output_type": "execute_result"
    }
   ],
   "source": [
    "data.shape"
   ]
  },
  {
   "cell_type": "markdown",
   "id": "48b6ad9e-6ce1-40b8-86b7-b3f5a78e8829",
   "metadata": {},
   "source": [
    "### Split into train and val subset"
   ]
  },
  {
   "cell_type": "code",
   "execution_count": 8,
   "id": "e0c56c6f-7d89-422a-bb23-361e44a66ef2",
   "metadata": {},
   "outputs": [],
   "source": [
    "class_names = np.unique(data['target_class'])\n",
    "data['target_class'] = data['target_class'].replace(class_names, np.arange(data['target_class'].nunique()))"
   ]
  },
  {
   "cell_type": "code",
   "execution_count": 9,
   "id": "5ebe0263-46e8-461a-a765-379912842f58",
   "metadata": {},
   "outputs": [],
   "source": [
    "COLS_BEST = data.drop(columns=['car_id', 'target_reg', 'target_class']).columns"
   ]
  },
  {
   "cell_type": "code",
   "execution_count": 10,
   "id": "17be1469-9804-4ca0-88f5-ff887a6fbf55",
   "metadata": {},
   "outputs": [
    {
     "data": {
      "text/plain": [
       "((1752, 7), (585, 7))"
      ]
     },
     "execution_count": 10,
     "metadata": {},
     "output_type": "execute_result"
    }
   ],
   "source": [
    "X_train, X_val, y_train, y_val = train_test_split(data.drop(['target_class'], axis=1)[COLS_BEST], \n",
    "                                                    data['target_class'],\n",
    "                                                    test_size=.25,\n",
    "                                                    stratify=data['target_class'],\n",
    "                                                    random_state=42)\n",
    "X_train.shape, X_val.shape"
   ]
  },
  {
   "cell_type": "markdown",
   "id": "19b10ebc-c0a4-4811-ab78-b636cfbf982f",
   "metadata": {},
   "source": [
    "## Define models"
   ]
  },
  {
   "cell_type": "markdown",
   "id": "43e5c617-ddaf-485e-a433-889dd40164b7",
   "metadata": {},
   "source": [
    "### Train catboost"
   ]
  },
  {
   "cell_type": "code",
   "execution_count": 75,
   "id": "846a6799-4252-4f32-8e36-0e7fdedcb986",
   "metadata": {},
   "outputs": [],
   "source": [
    "params_cat = {'n_estimators' : 100,\n",
    "          'learning_rate': .03,\n",
    "          'depth' : 3,\n",
    "          'verbose': False,\n",
    "          # 'use_best_model': True,\n",
    "          # 'cat_features' : cat_cols,\n",
    "          'text_features': [],\n",
    "          # 'train_dir' : '/home/jovyan/work/catboost',\n",
    "          # 'border_count' : 64,\n",
    "          # 'l2_leaf_reg' : 1,\n",
    "          # 'bagging_temperature' : 2,\n",
    "          # 'rsm' : .1,\n",
    "          'loss_function': 'MultiClass',\n",
    "          # 'auto_class_weights' : 'Balanced', #try not balanced\n",
    "          'random_state': 42,\n",
    "          'use_best_model': False,\n",
    "          # 'custom_metric' : ['AUC', 'MAP']\n",
    "         }\n",
    "\n",
    "cat_model = catboost.CatBoostClassifier(**params_cat)"
   ]
  },
  {
   "cell_type": "markdown",
   "id": "611fd034-c5fe-4633-b3fd-44a39c35fd21",
   "metadata": {},
   "source": [
    "### LightGbm"
   ]
  },
  {
   "cell_type": "code",
   "execution_count": 44,
   "id": "6c49c0d9-53b7-4c41-b3c5-f50cc7fa275b",
   "metadata": {},
   "outputs": [],
   "source": [
    "params_lgbm = {'num_leaves': 887,\n",
    "               'n_estimators': 480,\n",
    "               'max_depth': 7,\n",
    "               # 'min_child_samples': 1073,\n",
    "               'learning_rate': 0.05348257149091985,\n",
    "               # 'min_data_in_leaf': 2,\n",
    "               # 'feature_fraction': 0.9529134909800754,\n",
    "               # 'categorical_feature': cat_cols\n",
    "              }"
   ]
  },
  {
   "cell_type": "code",
   "execution_count": 45,
   "id": "484fccef-a7d1-4350-ae91-920b782373e5",
   "metadata": {},
   "outputs": [],
   "source": [
    "lgbm_model = lightgbm.LGBMClassifier(**params_lgbm)"
   ]
  },
  {
   "cell_type": "markdown",
   "id": "8bcc52be-b1cd-4743-bcf3-c64cf652af0e",
   "metadata": {},
   "source": [
    "### Xgboost"
   ]
  },
  {
   "cell_type": "code",
   "execution_count": 14,
   "id": "cff8fe72-5f05-470d-b42f-82968dc4391d",
   "metadata": {},
   "outputs": [],
   "source": [
    "params_xgb = {\n",
    "    'eta': 0.05,\n",
    "    'max_depth': 5,\n",
    "    'subsample': 0.7,\n",
    "    'colsample_bytree': 0.7,\n",
    "    # 'objective': 'reg:linear',\n",
    "    # 'eval_metric': 'accuracy'\n",
    "}"
   ]
  },
  {
   "cell_type": "code",
   "execution_count": 15,
   "id": "cb55a14d-deab-4c0c-9311-e56bf800293a",
   "metadata": {},
   "outputs": [],
   "source": [
    "xgb_model = xgboost.XGBClassifier(**params_xgb)"
   ]
  },
  {
   "cell_type": "markdown",
   "id": "dd718a7f-85d0-4ed3-b430-30578ea03705",
   "metadata": {},
   "source": [
    "## Make pipeline"
   ]
  },
  {
   "cell_type": "markdown",
   "id": "03c8b2d2-479c-4077-94c9-22b4bfa4b8e7",
   "metadata": {},
   "source": [
    "### Features preprocessing"
   ]
  },
  {
   "cell_type": "code",
   "execution_count": 16,
   "id": "881b6c95-aab6-467e-a40f-742e19d7f421",
   "metadata": {},
   "outputs": [],
   "source": [
    "categorical_features = ['model', 'car_type', 'fuel_type']\n",
    "numerical_features = ['car_rating', 'year_to_start', 'riders', 'year_to_work']"
   ]
  },
  {
   "cell_type": "code",
   "execution_count": 17,
   "id": "4cdc124c-9dfc-4fc3-b8e3-7c0c01506bc6",
   "metadata": {},
   "outputs": [],
   "source": [
    "categorical_transformer = Pipeline(steps=[\n",
    "    (\"imputer\", SimpleImputer(strategy='most_frequent')),\n",
    "    (\"onehot\", OneHotEncoder(handle_unknown=\"ignore\"))])"
   ]
  },
  {
   "cell_type": "code",
   "execution_count": 18,
   "id": "295c53bb-13aa-4bc5-a9e8-0654a501b75d",
   "metadata": {},
   "outputs": [],
   "source": [
    "numerical_transformer = Pipeline(steps=[\n",
    "    (\"imputer\", SimpleImputer()),\n",
    "    (\"scaler\", StandardScaler()),\n",
    "    # (\"feature_selector\", SelectKBest(score_func=f_classif, k=\"all\"))\n",
    "])"
   ]
  },
  {
   "cell_type": "code",
   "execution_count": 19,
   "id": "c25f4116-5682-4b12-9200-d24a21d8af88",
   "metadata": {},
   "outputs": [],
   "source": [
    "data_transformer = ColumnTransformer(transformers=[\n",
    "    (\"numerical\", numerical_transformer, numerical_features),\n",
    "    (\"categorical\", categorical_transformer, categorical_features)])\n",
    "\n",
    "# preprocessor = Pipeline(steps=[(\"data_transformer\", data_transformer)])\n",
    "preprocessor = data_transformer"
   ]
  },
  {
   "cell_type": "code",
   "execution_count": 20,
   "id": "2881c72c-c796-4def-8749-3a4adfa5f56c",
   "metadata": {},
   "outputs": [
    {
     "data": {
      "text/plain": [
       "('numerical',\n",
       " Pipeline(steps=[('imputer', SimpleImputer()), ('scaler', StandardScaler())]),\n",
       " ['car_rating', 'year_to_start', 'riders', 'year_to_work'])"
      ]
     },
     "execution_count": 20,
     "metadata": {},
     "output_type": "execute_result"
    }
   ],
   "source": [
    "data_transformer.transformers[0]"
   ]
  },
  {
   "cell_type": "markdown",
   "id": "e77de579-4c28-4d90-b2a3-f1509c17c490",
   "metadata": {},
   "source": [
    "### Train stacker"
   ]
  },
  {
   "cell_type": "code",
   "execution_count": 76,
   "id": "bd673c24-1c8f-4260-b883-9ff6a644dc8e",
   "metadata": {},
   "outputs": [],
   "source": [
    "estimators = [\n",
    "    (\"svm\", make_pipeline(preprocessor, LinearSVC(verbose=False))),\n",
    "    (\"random_forest\", make_pipeline(preprocessor, RandomForestClassifier(n_jobs=-1, verbose=False))),\n",
    "    (\"xgboost\", make_pipeline(preprocessor, xgb_model)),\n",
    "    (\"lightgbm\", make_pipeline(preprocessor, lgbm_model)),\n",
    "    (\"catboost\", make_pipeline(preprocessor, cat_model)),\n",
    "]\n",
    "\n",
    "stacking_classifier = StackingClassifier(\n",
    "    estimators=estimators,\n",
    "    final_estimator=LogisticRegression(verbose=False),\n",
    "    n_jobs=-1,\n",
    "    verbose=False,\n",
    ")"
   ]
  },
  {
   "cell_type": "code",
   "execution_count": 77,
   "id": "70aa214e-d6c6-4032-bc27-d3e53e3e2442",
   "metadata": {},
   "outputs": [
    {
     "name": "stderr",
     "output_type": "stream",
     "text": [
      "/Users/sergak/miniconda3/lib/python3.10/site-packages/sklearn/utils/extmath.py:1083: RuntimeWarning: invalid value encountered in divide\n",
      "  * (last_sum / last_over_new_count - new_sum) ** 2\n",
      "/Users/sergak/miniconda3/lib/python3.10/site-packages/sklearn/utils/extmath.py:1083: RuntimeWarning: invalid value encountered in divide\n",
      "  * (last_sum / last_over_new_count - new_sum) ** 2\n"
     ]
    },
    {
     "data": {
      "text/html": [
       "<style>#sk-container-id-7 {color: black;background-color: white;}#sk-container-id-7 pre{padding: 0;}#sk-container-id-7 div.sk-toggleable {background-color: white;}#sk-container-id-7 label.sk-toggleable__label {cursor: pointer;display: block;width: 100%;margin-bottom: 0;padding: 0.3em;box-sizing: border-box;text-align: center;}#sk-container-id-7 label.sk-toggleable__label-arrow:before {content: \"▸\";float: left;margin-right: 0.25em;color: #696969;}#sk-container-id-7 label.sk-toggleable__label-arrow:hover:before {color: black;}#sk-container-id-7 div.sk-estimator:hover label.sk-toggleable__label-arrow:before {color: black;}#sk-container-id-7 div.sk-toggleable__content {max-height: 0;max-width: 0;overflow: hidden;text-align: left;background-color: #f0f8ff;}#sk-container-id-7 div.sk-toggleable__content pre {margin: 0.2em;color: black;border-radius: 0.25em;background-color: #f0f8ff;}#sk-container-id-7 input.sk-toggleable__control:checked~div.sk-toggleable__content {max-height: 200px;max-width: 100%;overflow: auto;}#sk-container-id-7 input.sk-toggleable__control:checked~label.sk-toggleable__label-arrow:before {content: \"▾\";}#sk-container-id-7 div.sk-estimator input.sk-toggleable__control:checked~label.sk-toggleable__label {background-color: #d4ebff;}#sk-container-id-7 div.sk-label input.sk-toggleable__control:checked~label.sk-toggleable__label {background-color: #d4ebff;}#sk-container-id-7 input.sk-hidden--visually {border: 0;clip: rect(1px 1px 1px 1px);clip: rect(1px, 1px, 1px, 1px);height: 1px;margin: -1px;overflow: hidden;padding: 0;position: absolute;width: 1px;}#sk-container-id-7 div.sk-estimator {font-family: monospace;background-color: #f0f8ff;border: 1px dotted black;border-radius: 0.25em;box-sizing: border-box;margin-bottom: 0.5em;}#sk-container-id-7 div.sk-estimator:hover {background-color: #d4ebff;}#sk-container-id-7 div.sk-parallel-item::after {content: \"\";width: 100%;border-bottom: 1px solid gray;flex-grow: 1;}#sk-container-id-7 div.sk-label:hover label.sk-toggleable__label {background-color: #d4ebff;}#sk-container-id-7 div.sk-serial::before {content: \"\";position: absolute;border-left: 1px solid gray;box-sizing: border-box;top: 0;bottom: 0;left: 50%;z-index: 0;}#sk-container-id-7 div.sk-serial {display: flex;flex-direction: column;align-items: center;background-color: white;padding-right: 0.2em;padding-left: 0.2em;position: relative;}#sk-container-id-7 div.sk-item {position: relative;z-index: 1;}#sk-container-id-7 div.sk-parallel {display: flex;align-items: stretch;justify-content: center;background-color: white;position: relative;}#sk-container-id-7 div.sk-item::before, #sk-container-id-7 div.sk-parallel-item::before {content: \"\";position: absolute;border-left: 1px solid gray;box-sizing: border-box;top: 0;bottom: 0;left: 50%;z-index: -1;}#sk-container-id-7 div.sk-parallel-item {display: flex;flex-direction: column;z-index: 1;position: relative;background-color: white;}#sk-container-id-7 div.sk-parallel-item:first-child::after {align-self: flex-end;width: 50%;}#sk-container-id-7 div.sk-parallel-item:last-child::after {align-self: flex-start;width: 50%;}#sk-container-id-7 div.sk-parallel-item:only-child::after {width: 0;}#sk-container-id-7 div.sk-dashed-wrapped {border: 1px dashed gray;margin: 0 0.4em 0.5em 0.4em;box-sizing: border-box;padding-bottom: 0.4em;background-color: white;}#sk-container-id-7 div.sk-label label {font-family: monospace;font-weight: bold;display: inline-block;line-height: 1.2em;}#sk-container-id-7 div.sk-label-container {text-align: center;}#sk-container-id-7 div.sk-container {/* jupyter's `normalize.less` sets `[hidden] { display: none; }` but bootstrap.min.css set `[hidden] { display: none !important; }` so we also need the `!important` here to be able to override the default hidden behavior on the sphinx rendered scikit-learn.org. See: https://github.com/scikit-learn/scikit-learn/issues/21755 */display: inline-block !important;position: relative;}#sk-container-id-7 div.sk-text-repr-fallback {display: none;}</style><div id=\"sk-container-id-7\" class=\"sk-top-container\"><div class=\"sk-text-repr-fallback\"><pre>StackingClassifier(estimators=[(&#x27;svm&#x27;,\n",
       "                                Pipeline(steps=[(&#x27;columntransformer&#x27;,\n",
       "                                                 ColumnTransformer(transformers=[(&#x27;numerical&#x27;,\n",
       "                                                                                  Pipeline(steps=[(&#x27;imputer&#x27;,\n",
       "                                                                                                   SimpleImputer()),\n",
       "                                                                                                  (&#x27;scaler&#x27;,\n",
       "                                                                                                   StandardScaler())]),\n",
       "                                                                                  [&#x27;car_rating&#x27;,\n",
       "                                                                                   &#x27;year_to_start&#x27;,\n",
       "                                                                                   &#x27;riders&#x27;,\n",
       "                                                                                   &#x27;year_to_work&#x27;]),\n",
       "                                                                                 (&#x27;categorical&#x27;,\n",
       "                                                                                  Pipeline(steps=[(&#x27;imputer&#x27;,\n",
       "                                                                                                   SimpleImputer(strategy=&#x27;most_frequent&#x27;)),\n",
       "                                                                                                  (&#x27;onehot&#x27;,\n",
       "                                                                                                   OneHotE...\n",
       "                                                                                   &#x27;riders&#x27;,\n",
       "                                                                                   &#x27;year_to_work&#x27;]),\n",
       "                                                                                 (&#x27;categorical&#x27;,\n",
       "                                                                                  Pipeline(steps=[(&#x27;imputer&#x27;,\n",
       "                                                                                                   SimpleImputer(strategy=&#x27;most_frequent&#x27;)),\n",
       "                                                                                                  (&#x27;onehot&#x27;,\n",
       "                                                                                                   OneHotEncoder(handle_unknown=&#x27;ignore&#x27;))]),\n",
       "                                                                                  [&#x27;model&#x27;,\n",
       "                                                                                   &#x27;car_type&#x27;,\n",
       "                                                                                   &#x27;fuel_type&#x27;])])),\n",
       "                                                (&#x27;catboostclassifier&#x27;,\n",
       "                                                 &lt;catboost.core.CatBoostClassifier object at 0x10df69840&gt;)]))],\n",
       "                   final_estimator=LogisticRegression(verbose=False), n_jobs=-1,\n",
       "                   verbose=False)</pre><b>In a Jupyter environment, please rerun this cell to show the HTML representation or trust the notebook. <br />On GitHub, the HTML representation is unable to render, please try loading this page with nbviewer.org.</b></div><div class=\"sk-container\" hidden><div class=\"sk-item sk-dashed-wrapped\"><div class=\"sk-label-container\"><div class=\"sk-label sk-toggleable\"><input class=\"sk-toggleable__control sk-hidden--visually\" id=\"sk-estimator-id-229\" type=\"checkbox\" ><label for=\"sk-estimator-id-229\" class=\"sk-toggleable__label sk-toggleable__label-arrow\">StackingClassifier</label><div class=\"sk-toggleable__content\"><pre>StackingClassifier(estimators=[(&#x27;svm&#x27;,\n",
       "                                Pipeline(steps=[(&#x27;columntransformer&#x27;,\n",
       "                                                 ColumnTransformer(transformers=[(&#x27;numerical&#x27;,\n",
       "                                                                                  Pipeline(steps=[(&#x27;imputer&#x27;,\n",
       "                                                                                                   SimpleImputer()),\n",
       "                                                                                                  (&#x27;scaler&#x27;,\n",
       "                                                                                                   StandardScaler())]),\n",
       "                                                                                  [&#x27;car_rating&#x27;,\n",
       "                                                                                   &#x27;year_to_start&#x27;,\n",
       "                                                                                   &#x27;riders&#x27;,\n",
       "                                                                                   &#x27;year_to_work&#x27;]),\n",
       "                                                                                 (&#x27;categorical&#x27;,\n",
       "                                                                                  Pipeline(steps=[(&#x27;imputer&#x27;,\n",
       "                                                                                                   SimpleImputer(strategy=&#x27;most_frequent&#x27;)),\n",
       "                                                                                                  (&#x27;onehot&#x27;,\n",
       "                                                                                                   OneHotE...\n",
       "                                                                                   &#x27;riders&#x27;,\n",
       "                                                                                   &#x27;year_to_work&#x27;]),\n",
       "                                                                                 (&#x27;categorical&#x27;,\n",
       "                                                                                  Pipeline(steps=[(&#x27;imputer&#x27;,\n",
       "                                                                                                   SimpleImputer(strategy=&#x27;most_frequent&#x27;)),\n",
       "                                                                                                  (&#x27;onehot&#x27;,\n",
       "                                                                                                   OneHotEncoder(handle_unknown=&#x27;ignore&#x27;))]),\n",
       "                                                                                  [&#x27;model&#x27;,\n",
       "                                                                                   &#x27;car_type&#x27;,\n",
       "                                                                                   &#x27;fuel_type&#x27;])])),\n",
       "                                                (&#x27;catboostclassifier&#x27;,\n",
       "                                                 &lt;catboost.core.CatBoostClassifier object at 0x10df69840&gt;)]))],\n",
       "                   final_estimator=LogisticRegression(verbose=False), n_jobs=-1,\n",
       "                   verbose=False)</pre></div></div></div><div class=\"sk-serial\"><div class=\"sk-item\"><div class=\"sk-parallel\"><div class=\"sk-parallel-item\"><div class=\"sk-item\"><div class=\"sk-label-container\"><div class=\"sk-label sk-toggleable\"><label>svm</label></div></div><div class=\"sk-serial\"><div class=\"sk-item\"><div class=\"sk-serial\"><div class=\"sk-item sk-dashed-wrapped\"><div class=\"sk-label-container\"><div class=\"sk-label sk-toggleable\"><input class=\"sk-toggleable__control sk-hidden--visually\" id=\"sk-estimator-id-230\" type=\"checkbox\" ><label for=\"sk-estimator-id-230\" class=\"sk-toggleable__label sk-toggleable__label-arrow\">columntransformer: ColumnTransformer</label><div class=\"sk-toggleable__content\"><pre>ColumnTransformer(transformers=[(&#x27;numerical&#x27;,\n",
       "                                 Pipeline(steps=[(&#x27;imputer&#x27;, SimpleImputer()),\n",
       "                                                 (&#x27;scaler&#x27;, StandardScaler())]),\n",
       "                                 [&#x27;car_rating&#x27;, &#x27;year_to_start&#x27;, &#x27;riders&#x27;,\n",
       "                                  &#x27;year_to_work&#x27;]),\n",
       "                                (&#x27;categorical&#x27;,\n",
       "                                 Pipeline(steps=[(&#x27;imputer&#x27;,\n",
       "                                                  SimpleImputer(strategy=&#x27;most_frequent&#x27;)),\n",
       "                                                 (&#x27;onehot&#x27;,\n",
       "                                                  OneHotEncoder(handle_unknown=&#x27;ignore&#x27;))]),\n",
       "                                 [&#x27;model&#x27;, &#x27;car_type&#x27;, &#x27;fuel_type&#x27;])])</pre></div></div></div><div class=\"sk-parallel\"><div class=\"sk-parallel-item\"><div class=\"sk-item\"><div class=\"sk-label-container\"><div class=\"sk-label sk-toggleable\"><input class=\"sk-toggleable__control sk-hidden--visually\" id=\"sk-estimator-id-231\" type=\"checkbox\" ><label for=\"sk-estimator-id-231\" class=\"sk-toggleable__label sk-toggleable__label-arrow\">numerical</label><div class=\"sk-toggleable__content\"><pre>[&#x27;car_rating&#x27;, &#x27;year_to_start&#x27;, &#x27;riders&#x27;, &#x27;year_to_work&#x27;]</pre></div></div></div><div class=\"sk-serial\"><div class=\"sk-item\"><div class=\"sk-serial\"><div class=\"sk-item\"><div class=\"sk-estimator sk-toggleable\"><input class=\"sk-toggleable__control sk-hidden--visually\" id=\"sk-estimator-id-232\" type=\"checkbox\" ><label for=\"sk-estimator-id-232\" class=\"sk-toggleable__label sk-toggleable__label-arrow\">SimpleImputer</label><div class=\"sk-toggleable__content\"><pre>SimpleImputer()</pre></div></div></div><div class=\"sk-item\"><div class=\"sk-estimator sk-toggleable\"><input class=\"sk-toggleable__control sk-hidden--visually\" id=\"sk-estimator-id-233\" type=\"checkbox\" ><label for=\"sk-estimator-id-233\" class=\"sk-toggleable__label sk-toggleable__label-arrow\">StandardScaler</label><div class=\"sk-toggleable__content\"><pre>StandardScaler()</pre></div></div></div></div></div></div></div></div><div class=\"sk-parallel-item\"><div class=\"sk-item\"><div class=\"sk-label-container\"><div class=\"sk-label sk-toggleable\"><input class=\"sk-toggleable__control sk-hidden--visually\" id=\"sk-estimator-id-234\" type=\"checkbox\" ><label for=\"sk-estimator-id-234\" class=\"sk-toggleable__label sk-toggleable__label-arrow\">categorical</label><div class=\"sk-toggleable__content\"><pre>[&#x27;model&#x27;, &#x27;car_type&#x27;, &#x27;fuel_type&#x27;]</pre></div></div></div><div class=\"sk-serial\"><div class=\"sk-item\"><div class=\"sk-serial\"><div class=\"sk-item\"><div class=\"sk-estimator sk-toggleable\"><input class=\"sk-toggleable__control sk-hidden--visually\" id=\"sk-estimator-id-235\" type=\"checkbox\" ><label for=\"sk-estimator-id-235\" class=\"sk-toggleable__label sk-toggleable__label-arrow\">SimpleImputer</label><div class=\"sk-toggleable__content\"><pre>SimpleImputer(strategy=&#x27;most_frequent&#x27;)</pre></div></div></div><div class=\"sk-item\"><div class=\"sk-estimator sk-toggleable\"><input class=\"sk-toggleable__control sk-hidden--visually\" id=\"sk-estimator-id-236\" type=\"checkbox\" ><label for=\"sk-estimator-id-236\" class=\"sk-toggleable__label sk-toggleable__label-arrow\">OneHotEncoder</label><div class=\"sk-toggleable__content\"><pre>OneHotEncoder(handle_unknown=&#x27;ignore&#x27;)</pre></div></div></div></div></div></div></div></div></div></div><div class=\"sk-item\"><div class=\"sk-estimator sk-toggleable\"><input class=\"sk-toggleable__control sk-hidden--visually\" id=\"sk-estimator-id-237\" type=\"checkbox\" ><label for=\"sk-estimator-id-237\" class=\"sk-toggleable__label sk-toggleable__label-arrow\">LinearSVC</label><div class=\"sk-toggleable__content\"><pre>LinearSVC(verbose=False)</pre></div></div></div></div></div></div></div></div><div class=\"sk-parallel-item\"><div class=\"sk-item\"><div class=\"sk-label-container\"><div class=\"sk-label sk-toggleable\"><label>random_forest</label></div></div><div class=\"sk-serial\"><div class=\"sk-item\"><div class=\"sk-serial\"><div class=\"sk-item sk-dashed-wrapped\"><div class=\"sk-label-container\"><div class=\"sk-label sk-toggleable\"><input class=\"sk-toggleable__control sk-hidden--visually\" id=\"sk-estimator-id-238\" type=\"checkbox\" ><label for=\"sk-estimator-id-238\" class=\"sk-toggleable__label sk-toggleable__label-arrow\">columntransformer: ColumnTransformer</label><div class=\"sk-toggleable__content\"><pre>ColumnTransformer(transformers=[(&#x27;numerical&#x27;,\n",
       "                                 Pipeline(steps=[(&#x27;imputer&#x27;, SimpleImputer()),\n",
       "                                                 (&#x27;scaler&#x27;, StandardScaler())]),\n",
       "                                 [&#x27;car_rating&#x27;, &#x27;year_to_start&#x27;, &#x27;riders&#x27;,\n",
       "                                  &#x27;year_to_work&#x27;]),\n",
       "                                (&#x27;categorical&#x27;,\n",
       "                                 Pipeline(steps=[(&#x27;imputer&#x27;,\n",
       "                                                  SimpleImputer(strategy=&#x27;most_frequent&#x27;)),\n",
       "                                                 (&#x27;onehot&#x27;,\n",
       "                                                  OneHotEncoder(handle_unknown=&#x27;ignore&#x27;))]),\n",
       "                                 [&#x27;model&#x27;, &#x27;car_type&#x27;, &#x27;fuel_type&#x27;])])</pre></div></div></div><div class=\"sk-parallel\"><div class=\"sk-parallel-item\"><div class=\"sk-item\"><div class=\"sk-label-container\"><div class=\"sk-label sk-toggleable\"><input class=\"sk-toggleable__control sk-hidden--visually\" id=\"sk-estimator-id-239\" type=\"checkbox\" ><label for=\"sk-estimator-id-239\" class=\"sk-toggleable__label sk-toggleable__label-arrow\">numerical</label><div class=\"sk-toggleable__content\"><pre>[&#x27;car_rating&#x27;, &#x27;year_to_start&#x27;, &#x27;riders&#x27;, &#x27;year_to_work&#x27;]</pre></div></div></div><div class=\"sk-serial\"><div class=\"sk-item\"><div class=\"sk-serial\"><div class=\"sk-item\"><div class=\"sk-estimator sk-toggleable\"><input class=\"sk-toggleable__control sk-hidden--visually\" id=\"sk-estimator-id-240\" type=\"checkbox\" ><label for=\"sk-estimator-id-240\" class=\"sk-toggleable__label sk-toggleable__label-arrow\">SimpleImputer</label><div class=\"sk-toggleable__content\"><pre>SimpleImputer()</pre></div></div></div><div class=\"sk-item\"><div class=\"sk-estimator sk-toggleable\"><input class=\"sk-toggleable__control sk-hidden--visually\" id=\"sk-estimator-id-241\" type=\"checkbox\" ><label for=\"sk-estimator-id-241\" class=\"sk-toggleable__label sk-toggleable__label-arrow\">StandardScaler</label><div class=\"sk-toggleable__content\"><pre>StandardScaler()</pre></div></div></div></div></div></div></div></div><div class=\"sk-parallel-item\"><div class=\"sk-item\"><div class=\"sk-label-container\"><div class=\"sk-label sk-toggleable\"><input class=\"sk-toggleable__control sk-hidden--visually\" id=\"sk-estimator-id-242\" type=\"checkbox\" ><label for=\"sk-estimator-id-242\" class=\"sk-toggleable__label sk-toggleable__label-arrow\">categorical</label><div class=\"sk-toggleable__content\"><pre>[&#x27;model&#x27;, &#x27;car_type&#x27;, &#x27;fuel_type&#x27;]</pre></div></div></div><div class=\"sk-serial\"><div class=\"sk-item\"><div class=\"sk-serial\"><div class=\"sk-item\"><div class=\"sk-estimator sk-toggleable\"><input class=\"sk-toggleable__control sk-hidden--visually\" id=\"sk-estimator-id-243\" type=\"checkbox\" ><label for=\"sk-estimator-id-243\" class=\"sk-toggleable__label sk-toggleable__label-arrow\">SimpleImputer</label><div class=\"sk-toggleable__content\"><pre>SimpleImputer(strategy=&#x27;most_frequent&#x27;)</pre></div></div></div><div class=\"sk-item\"><div class=\"sk-estimator sk-toggleable\"><input class=\"sk-toggleable__control sk-hidden--visually\" id=\"sk-estimator-id-244\" type=\"checkbox\" ><label for=\"sk-estimator-id-244\" class=\"sk-toggleable__label sk-toggleable__label-arrow\">OneHotEncoder</label><div class=\"sk-toggleable__content\"><pre>OneHotEncoder(handle_unknown=&#x27;ignore&#x27;)</pre></div></div></div></div></div></div></div></div></div></div><div class=\"sk-item\"><div class=\"sk-estimator sk-toggleable\"><input class=\"sk-toggleable__control sk-hidden--visually\" id=\"sk-estimator-id-245\" type=\"checkbox\" ><label for=\"sk-estimator-id-245\" class=\"sk-toggleable__label sk-toggleable__label-arrow\">RandomForestClassifier</label><div class=\"sk-toggleable__content\"><pre>RandomForestClassifier(n_jobs=-1, verbose=False)</pre></div></div></div></div></div></div></div></div><div class=\"sk-parallel-item\"><div class=\"sk-item\"><div class=\"sk-label-container\"><div class=\"sk-label sk-toggleable\"><label>xgboost</label></div></div><div class=\"sk-serial\"><div class=\"sk-item\"><div class=\"sk-serial\"><div class=\"sk-item sk-dashed-wrapped\"><div class=\"sk-label-container\"><div class=\"sk-label sk-toggleable\"><input class=\"sk-toggleable__control sk-hidden--visually\" id=\"sk-estimator-id-246\" type=\"checkbox\" ><label for=\"sk-estimator-id-246\" class=\"sk-toggleable__label sk-toggleable__label-arrow\">columntransformer: ColumnTransformer</label><div class=\"sk-toggleable__content\"><pre>ColumnTransformer(transformers=[(&#x27;numerical&#x27;,\n",
       "                                 Pipeline(steps=[(&#x27;imputer&#x27;, SimpleImputer()),\n",
       "                                                 (&#x27;scaler&#x27;, StandardScaler())]),\n",
       "                                 [&#x27;car_rating&#x27;, &#x27;year_to_start&#x27;, &#x27;riders&#x27;,\n",
       "                                  &#x27;year_to_work&#x27;]),\n",
       "                                (&#x27;categorical&#x27;,\n",
       "                                 Pipeline(steps=[(&#x27;imputer&#x27;,\n",
       "                                                  SimpleImputer(strategy=&#x27;most_frequent&#x27;)),\n",
       "                                                 (&#x27;onehot&#x27;,\n",
       "                                                  OneHotEncoder(handle_unknown=&#x27;ignore&#x27;))]),\n",
       "                                 [&#x27;model&#x27;, &#x27;car_type&#x27;, &#x27;fuel_type&#x27;])])</pre></div></div></div><div class=\"sk-parallel\"><div class=\"sk-parallel-item\"><div class=\"sk-item\"><div class=\"sk-label-container\"><div class=\"sk-label sk-toggleable\"><input class=\"sk-toggleable__control sk-hidden--visually\" id=\"sk-estimator-id-247\" type=\"checkbox\" ><label for=\"sk-estimator-id-247\" class=\"sk-toggleable__label sk-toggleable__label-arrow\">numerical</label><div class=\"sk-toggleable__content\"><pre>[&#x27;car_rating&#x27;, &#x27;year_to_start&#x27;, &#x27;riders&#x27;, &#x27;year_to_work&#x27;]</pre></div></div></div><div class=\"sk-serial\"><div class=\"sk-item\"><div class=\"sk-serial\"><div class=\"sk-item\"><div class=\"sk-estimator sk-toggleable\"><input class=\"sk-toggleable__control sk-hidden--visually\" id=\"sk-estimator-id-248\" type=\"checkbox\" ><label for=\"sk-estimator-id-248\" class=\"sk-toggleable__label sk-toggleable__label-arrow\">SimpleImputer</label><div class=\"sk-toggleable__content\"><pre>SimpleImputer()</pre></div></div></div><div class=\"sk-item\"><div class=\"sk-estimator sk-toggleable\"><input class=\"sk-toggleable__control sk-hidden--visually\" id=\"sk-estimator-id-249\" type=\"checkbox\" ><label for=\"sk-estimator-id-249\" class=\"sk-toggleable__label sk-toggleable__label-arrow\">StandardScaler</label><div class=\"sk-toggleable__content\"><pre>StandardScaler()</pre></div></div></div></div></div></div></div></div><div class=\"sk-parallel-item\"><div class=\"sk-item\"><div class=\"sk-label-container\"><div class=\"sk-label sk-toggleable\"><input class=\"sk-toggleable__control sk-hidden--visually\" id=\"sk-estimator-id-250\" type=\"checkbox\" ><label for=\"sk-estimator-id-250\" class=\"sk-toggleable__label sk-toggleable__label-arrow\">categorical</label><div class=\"sk-toggleable__content\"><pre>[&#x27;model&#x27;, &#x27;car_type&#x27;, &#x27;fuel_type&#x27;]</pre></div></div></div><div class=\"sk-serial\"><div class=\"sk-item\"><div class=\"sk-serial\"><div class=\"sk-item\"><div class=\"sk-estimator sk-toggleable\"><input class=\"sk-toggleable__control sk-hidden--visually\" id=\"sk-estimator-id-251\" type=\"checkbox\" ><label for=\"sk-estimator-id-251\" class=\"sk-toggleable__label sk-toggleable__label-arrow\">SimpleImputer</label><div class=\"sk-toggleable__content\"><pre>SimpleImputer(strategy=&#x27;most_frequent&#x27;)</pre></div></div></div><div class=\"sk-item\"><div class=\"sk-estimator sk-toggleable\"><input class=\"sk-toggleable__control sk-hidden--visually\" id=\"sk-estimator-id-252\" type=\"checkbox\" ><label for=\"sk-estimator-id-252\" class=\"sk-toggleable__label sk-toggleable__label-arrow\">OneHotEncoder</label><div class=\"sk-toggleable__content\"><pre>OneHotEncoder(handle_unknown=&#x27;ignore&#x27;)</pre></div></div></div></div></div></div></div></div></div></div><div class=\"sk-item\"><div class=\"sk-estimator sk-toggleable\"><input class=\"sk-toggleable__control sk-hidden--visually\" id=\"sk-estimator-id-253\" type=\"checkbox\" ><label for=\"sk-estimator-id-253\" class=\"sk-toggleable__label sk-toggleable__label-arrow\">XGBClassifier</label><div class=\"sk-toggleable__content\"><pre>XGBClassifier(base_score=None, booster=None, callbacks=None,\n",
       "              colsample_bylevel=None, colsample_bynode=None,\n",
       "              colsample_bytree=0.7, early_stopping_rounds=None,\n",
       "              enable_categorical=False, eta=0.05, eval_metric=None,\n",
       "              feature_types=None, gamma=None, gpu_id=None, grow_policy=None,\n",
       "              importance_type=None, interaction_constraints=None,\n",
       "              learning_rate=None, max_bin=None, max_cat_threshold=None,\n",
       "              max_cat_to_onehot=None, max_delta_step=None, max_depth=5,\n",
       "              max_leaves=None, min_child_weight=None, missing=nan,\n",
       "              monotone_constraints=None, n_estimators=100, n_jobs=None,\n",
       "              num_parallel_tree=None, predictor=None, ...)</pre></div></div></div></div></div></div></div></div><div class=\"sk-parallel-item\"><div class=\"sk-item\"><div class=\"sk-label-container\"><div class=\"sk-label sk-toggleable\"><label>lightgbm</label></div></div><div class=\"sk-serial\"><div class=\"sk-item\"><div class=\"sk-serial\"><div class=\"sk-item sk-dashed-wrapped\"><div class=\"sk-label-container\"><div class=\"sk-label sk-toggleable\"><input class=\"sk-toggleable__control sk-hidden--visually\" id=\"sk-estimator-id-254\" type=\"checkbox\" ><label for=\"sk-estimator-id-254\" class=\"sk-toggleable__label sk-toggleable__label-arrow\">columntransformer: ColumnTransformer</label><div class=\"sk-toggleable__content\"><pre>ColumnTransformer(transformers=[(&#x27;numerical&#x27;,\n",
       "                                 Pipeline(steps=[(&#x27;imputer&#x27;, SimpleImputer()),\n",
       "                                                 (&#x27;scaler&#x27;, StandardScaler())]),\n",
       "                                 [&#x27;car_rating&#x27;, &#x27;year_to_start&#x27;, &#x27;riders&#x27;,\n",
       "                                  &#x27;year_to_work&#x27;]),\n",
       "                                (&#x27;categorical&#x27;,\n",
       "                                 Pipeline(steps=[(&#x27;imputer&#x27;,\n",
       "                                                  SimpleImputer(strategy=&#x27;most_frequent&#x27;)),\n",
       "                                                 (&#x27;onehot&#x27;,\n",
       "                                                  OneHotEncoder(handle_unknown=&#x27;ignore&#x27;))]),\n",
       "                                 [&#x27;model&#x27;, &#x27;car_type&#x27;, &#x27;fuel_type&#x27;])])</pre></div></div></div><div class=\"sk-parallel\"><div class=\"sk-parallel-item\"><div class=\"sk-item\"><div class=\"sk-label-container\"><div class=\"sk-label sk-toggleable\"><input class=\"sk-toggleable__control sk-hidden--visually\" id=\"sk-estimator-id-255\" type=\"checkbox\" ><label for=\"sk-estimator-id-255\" class=\"sk-toggleable__label sk-toggleable__label-arrow\">numerical</label><div class=\"sk-toggleable__content\"><pre>[&#x27;car_rating&#x27;, &#x27;year_to_start&#x27;, &#x27;riders&#x27;, &#x27;year_to_work&#x27;]</pre></div></div></div><div class=\"sk-serial\"><div class=\"sk-item\"><div class=\"sk-serial\"><div class=\"sk-item\"><div class=\"sk-estimator sk-toggleable\"><input class=\"sk-toggleable__control sk-hidden--visually\" id=\"sk-estimator-id-256\" type=\"checkbox\" ><label for=\"sk-estimator-id-256\" class=\"sk-toggleable__label sk-toggleable__label-arrow\">SimpleImputer</label><div class=\"sk-toggleable__content\"><pre>SimpleImputer()</pre></div></div></div><div class=\"sk-item\"><div class=\"sk-estimator sk-toggleable\"><input class=\"sk-toggleable__control sk-hidden--visually\" id=\"sk-estimator-id-257\" type=\"checkbox\" ><label for=\"sk-estimator-id-257\" class=\"sk-toggleable__label sk-toggleable__label-arrow\">StandardScaler</label><div class=\"sk-toggleable__content\"><pre>StandardScaler()</pre></div></div></div></div></div></div></div></div><div class=\"sk-parallel-item\"><div class=\"sk-item\"><div class=\"sk-label-container\"><div class=\"sk-label sk-toggleable\"><input class=\"sk-toggleable__control sk-hidden--visually\" id=\"sk-estimator-id-258\" type=\"checkbox\" ><label for=\"sk-estimator-id-258\" class=\"sk-toggleable__label sk-toggleable__label-arrow\">categorical</label><div class=\"sk-toggleable__content\"><pre>[&#x27;model&#x27;, &#x27;car_type&#x27;, &#x27;fuel_type&#x27;]</pre></div></div></div><div class=\"sk-serial\"><div class=\"sk-item\"><div class=\"sk-serial\"><div class=\"sk-item\"><div class=\"sk-estimator sk-toggleable\"><input class=\"sk-toggleable__control sk-hidden--visually\" id=\"sk-estimator-id-259\" type=\"checkbox\" ><label for=\"sk-estimator-id-259\" class=\"sk-toggleable__label sk-toggleable__label-arrow\">SimpleImputer</label><div class=\"sk-toggleable__content\"><pre>SimpleImputer(strategy=&#x27;most_frequent&#x27;)</pre></div></div></div><div class=\"sk-item\"><div class=\"sk-estimator sk-toggleable\"><input class=\"sk-toggleable__control sk-hidden--visually\" id=\"sk-estimator-id-260\" type=\"checkbox\" ><label for=\"sk-estimator-id-260\" class=\"sk-toggleable__label sk-toggleable__label-arrow\">OneHotEncoder</label><div class=\"sk-toggleable__content\"><pre>OneHotEncoder(handle_unknown=&#x27;ignore&#x27;)</pre></div></div></div></div></div></div></div></div></div></div><div class=\"sk-item\"><div class=\"sk-estimator sk-toggleable\"><input class=\"sk-toggleable__control sk-hidden--visually\" id=\"sk-estimator-id-261\" type=\"checkbox\" ><label for=\"sk-estimator-id-261\" class=\"sk-toggleable__label sk-toggleable__label-arrow\">LGBMClassifier</label><div class=\"sk-toggleable__content\"><pre>LGBMClassifier(learning_rate=0.05348257149091985, max_depth=7, n_estimators=480,\n",
       "               num_leaves=887)</pre></div></div></div></div></div></div></div></div><div class=\"sk-parallel-item\"><div class=\"sk-item\"><div class=\"sk-label-container\"><div class=\"sk-label sk-toggleable\"><label>catboost</label></div></div><div class=\"sk-serial\"><div class=\"sk-item\"><div class=\"sk-serial\"><div class=\"sk-item sk-dashed-wrapped\"><div class=\"sk-label-container\"><div class=\"sk-label sk-toggleable\"><input class=\"sk-toggleable__control sk-hidden--visually\" id=\"sk-estimator-id-262\" type=\"checkbox\" ><label for=\"sk-estimator-id-262\" class=\"sk-toggleable__label sk-toggleable__label-arrow\">columntransformer: ColumnTransformer</label><div class=\"sk-toggleable__content\"><pre>ColumnTransformer(transformers=[(&#x27;numerical&#x27;,\n",
       "                                 Pipeline(steps=[(&#x27;imputer&#x27;, SimpleImputer()),\n",
       "                                                 (&#x27;scaler&#x27;, StandardScaler())]),\n",
       "                                 [&#x27;car_rating&#x27;, &#x27;year_to_start&#x27;, &#x27;riders&#x27;,\n",
       "                                  &#x27;year_to_work&#x27;]),\n",
       "                                (&#x27;categorical&#x27;,\n",
       "                                 Pipeline(steps=[(&#x27;imputer&#x27;,\n",
       "                                                  SimpleImputer(strategy=&#x27;most_frequent&#x27;)),\n",
       "                                                 (&#x27;onehot&#x27;,\n",
       "                                                  OneHotEncoder(handle_unknown=&#x27;ignore&#x27;))]),\n",
       "                                 [&#x27;model&#x27;, &#x27;car_type&#x27;, &#x27;fuel_type&#x27;])])</pre></div></div></div><div class=\"sk-parallel\"><div class=\"sk-parallel-item\"><div class=\"sk-item\"><div class=\"sk-label-container\"><div class=\"sk-label sk-toggleable\"><input class=\"sk-toggleable__control sk-hidden--visually\" id=\"sk-estimator-id-263\" type=\"checkbox\" ><label for=\"sk-estimator-id-263\" class=\"sk-toggleable__label sk-toggleable__label-arrow\">numerical</label><div class=\"sk-toggleable__content\"><pre>[&#x27;car_rating&#x27;, &#x27;year_to_start&#x27;, &#x27;riders&#x27;, &#x27;year_to_work&#x27;]</pre></div></div></div><div class=\"sk-serial\"><div class=\"sk-item\"><div class=\"sk-serial\"><div class=\"sk-item\"><div class=\"sk-estimator sk-toggleable\"><input class=\"sk-toggleable__control sk-hidden--visually\" id=\"sk-estimator-id-264\" type=\"checkbox\" ><label for=\"sk-estimator-id-264\" class=\"sk-toggleable__label sk-toggleable__label-arrow\">SimpleImputer</label><div class=\"sk-toggleable__content\"><pre>SimpleImputer()</pre></div></div></div><div class=\"sk-item\"><div class=\"sk-estimator sk-toggleable\"><input class=\"sk-toggleable__control sk-hidden--visually\" id=\"sk-estimator-id-265\" type=\"checkbox\" ><label for=\"sk-estimator-id-265\" class=\"sk-toggleable__label sk-toggleable__label-arrow\">StandardScaler</label><div class=\"sk-toggleable__content\"><pre>StandardScaler()</pre></div></div></div></div></div></div></div></div><div class=\"sk-parallel-item\"><div class=\"sk-item\"><div class=\"sk-label-container\"><div class=\"sk-label sk-toggleable\"><input class=\"sk-toggleable__control sk-hidden--visually\" id=\"sk-estimator-id-266\" type=\"checkbox\" ><label for=\"sk-estimator-id-266\" class=\"sk-toggleable__label sk-toggleable__label-arrow\">categorical</label><div class=\"sk-toggleable__content\"><pre>[&#x27;model&#x27;, &#x27;car_type&#x27;, &#x27;fuel_type&#x27;]</pre></div></div></div><div class=\"sk-serial\"><div class=\"sk-item\"><div class=\"sk-serial\"><div class=\"sk-item\"><div class=\"sk-estimator sk-toggleable\"><input class=\"sk-toggleable__control sk-hidden--visually\" id=\"sk-estimator-id-267\" type=\"checkbox\" ><label for=\"sk-estimator-id-267\" class=\"sk-toggleable__label sk-toggleable__label-arrow\">SimpleImputer</label><div class=\"sk-toggleable__content\"><pre>SimpleImputer(strategy=&#x27;most_frequent&#x27;)</pre></div></div></div><div class=\"sk-item\"><div class=\"sk-estimator sk-toggleable\"><input class=\"sk-toggleable__control sk-hidden--visually\" id=\"sk-estimator-id-268\" type=\"checkbox\" ><label for=\"sk-estimator-id-268\" class=\"sk-toggleable__label sk-toggleable__label-arrow\">OneHotEncoder</label><div class=\"sk-toggleable__content\"><pre>OneHotEncoder(handle_unknown=&#x27;ignore&#x27;)</pre></div></div></div></div></div></div></div></div></div></div><div class=\"sk-item\"><div class=\"sk-estimator sk-toggleable\"><input class=\"sk-toggleable__control sk-hidden--visually\" id=\"sk-estimator-id-269\" type=\"checkbox\" ><label for=\"sk-estimator-id-269\" class=\"sk-toggleable__label sk-toggleable__label-arrow\">CatBoostClassifier</label><div class=\"sk-toggleable__content\"><pre>&lt;catboost.core.CatBoostClassifier object at 0x10df69840&gt;</pre></div></div></div></div></div></div></div></div></div></div><div class=\"sk-item\"><div class=\"sk-parallel\"><div class=\"sk-parallel-item\"><div class=\"sk-item\"><div class=\"sk-label-container\"><div class=\"sk-label sk-toggleable\"><label>final_estimator</label></div></div><div class=\"sk-serial\"><div class=\"sk-item\"><div class=\"sk-estimator sk-toggleable\"><input class=\"sk-toggleable__control sk-hidden--visually\" id=\"sk-estimator-id-270\" type=\"checkbox\" ><label for=\"sk-estimator-id-270\" class=\"sk-toggleable__label sk-toggleable__label-arrow\">LogisticRegression</label><div class=\"sk-toggleable__content\"><pre>LogisticRegression(verbose=False)</pre></div></div></div></div></div></div></div></div></div></div></div></div>"
      ],
      "text/plain": [
       "StackingClassifier(estimators=[('svm',\n",
       "                                Pipeline(steps=[('columntransformer',\n",
       "                                                 ColumnTransformer(transformers=[('numerical',\n",
       "                                                                                  Pipeline(steps=[('imputer',\n",
       "                                                                                                   SimpleImputer()),\n",
       "                                                                                                  ('scaler',\n",
       "                                                                                                   StandardScaler())]),\n",
       "                                                                                  ['car_rating',\n",
       "                                                                                   'year_to_start',\n",
       "                                                                                   'riders',\n",
       "                                                                                   'year_to_work']),\n",
       "                                                                                 ('categorical',\n",
       "                                                                                  Pipeline(steps=[('imputer',\n",
       "                                                                                                   SimpleImputer(strategy='most_frequent')),\n",
       "                                                                                                  ('onehot',\n",
       "                                                                                                   OneHotE...\n",
       "                                                                                   'riders',\n",
       "                                                                                   'year_to_work']),\n",
       "                                                                                 ('categorical',\n",
       "                                                                                  Pipeline(steps=[('imputer',\n",
       "                                                                                                   SimpleImputer(strategy='most_frequent')),\n",
       "                                                                                                  ('onehot',\n",
       "                                                                                                   OneHotEncoder(handle_unknown='ignore'))]),\n",
       "                                                                                  ['model',\n",
       "                                                                                   'car_type',\n",
       "                                                                                   'fuel_type'])])),\n",
       "                                                ('catboostclassifier',\n",
       "                                                 <catboost.core.CatBoostClassifier object at 0x10df69840>)]))],\n",
       "                   final_estimator=LogisticRegression(verbose=False), n_jobs=-1,\n",
       "                   verbose=False)"
      ]
     },
     "execution_count": 77,
     "metadata": {},
     "output_type": "execute_result"
    }
   ],
   "source": [
    "stacking_classifier.fit(X_train, y_train)"
   ]
  },
  {
   "cell_type": "code",
   "execution_count": 78,
   "id": "cf3cfb54-c3a2-49d8-b83b-2a529a2fe84c",
   "metadata": {},
   "outputs": [
    {
     "name": "stdout",
     "output_type": "stream",
     "text": [
      "svm accuracy:  0.1265\n",
      "random_forest accuracy:  0.1077\n",
      "xgboost accuracy:  0.1197\n",
      "lightgbm accuracy:  0.106\n",
      "catboost accuracy:  0.1214\n"
     ]
    }
   ],
   "source": [
    "for name, model in stacking_classifier.named_estimators_.items():\n",
    "    print(name, 'accuracy: ', round(accuracy_score(model.predict(X_val), y_val), 4))"
   ]
  },
  {
   "cell_type": "code",
   "execution_count": 79,
   "id": "b2683c31-d7f0-4f16-ad9f-67ece32f5d70",
   "metadata": {},
   "outputs": [
    {
     "name": "stdout",
     "output_type": "stream",
     "text": [
      "ensemble score: 0.135\n"
     ]
    }
   ],
   "source": [
    "print('ensemble score:', round(accuracy_score(stacking_classifier.predict(X_val), y_val), 4))\n",
    "# ensemble is beating the highest score of base model"
   ]
  },
  {
   "cell_type": "code",
   "execution_count": null,
   "id": "bd6e953f-6f2a-425c-b03c-bea678a5fa85",
   "metadata": {},
   "outputs": [],
   "source": []
  }
 ],
 "metadata": {
  "kernelspec": {
   "display_name": "Python 3 (ipykernel)",
   "language": "python",
   "name": "python3"
  },
  "language_info": {
   "codemirror_mode": {
    "name": "ipython",
    "version": 3
   },
   "file_extension": ".py",
   "mimetype": "text/x-python",
   "name": "python",
   "nbconvert_exporter": "python",
   "pygments_lexer": "ipython3",
   "version": "3.10.8"
  }
 },
 "nbformat": 4,
 "nbformat_minor": 5
}
