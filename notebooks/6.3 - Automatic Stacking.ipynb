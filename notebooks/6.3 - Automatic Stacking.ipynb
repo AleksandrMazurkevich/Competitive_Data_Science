{
 "cells": [
  {
   "cell_type": "markdown",
   "id": "2f9be3fc-9bbd-41c7-b03b-1131fcf5e02b",
   "metadata": {},
   "source": [
    "# <center>[🦏 Автоматический стэкинг и блендинг](https://stepik.org/lesson/872530/)</center>"
   ]
  },
  {
   "cell_type": "markdown",
   "id": "635e38f8-8b70-4b24-b08d-4bd6aa452371",
   "metadata": {},
   "source": [
    "### Оглавление ноутбука\n",
    "\n",
    "<img src='../images/pipelines.jpg' align=\"right\" width=\"600\" height=\"600\" />\n",
    "<br>\n",
    "\n",
    "<p><font size=\"3\" face=\"Arial\" font-size=\"large\"><ul type=\"square\">\n",
    "    \n",
    "<li><a href=\"#c1\">☘️ Три модели для блендинга </a></li>\n",
    "<li><a href=\"#look1\">🔧 Построение пайплана</a>\n",
    "<li><a href=\"#check1\"> 🎓🐊 Обучим ансамбль</a>\n",
    "<li><a href=\"#6\">🧸 Выводы и заключения</a>\n",
    "\n",
    "</li></ul></font></p>\n"
   ]
  },
  {
   "cell_type": "markdown",
   "id": "99f73d6e-7877-482b-8ebe-4dcaf91f493e",
   "metadata": {},
   "source": [
    "<div class=\"alert alert-info\">\n",
    "\n",
    "* Как вы уже могли заметить, чем больше моделей вы `стэкаете`, тем больше у вас разрастается код, а кол-во беспорядка в нем растет по экспоненте.\n",
    "* Но есть специальные инструменты, которые позволяют сделать это элегантно и даже более эффективно. Да еще и меньшим числом строк кода! \n",
    "* Не без ограничений и недостатков, увы.\n",
    "    "
   ]
  },
  {
   "cell_type": "markdown",
   "id": "90d55492-7092-4f78-8a77-7620170fd3bc",
   "metadata": {},
   "source": [
    "<div class=\"alert alert-info\">\n",
    "    \n",
    "Сегодня мы поговорим про `sklearn.Pipelines` - способ упаковать ваш процесс обучения и инференса от `Feature Engineering`а до стэкинга 10 моделей в один пайплайн."
   ]
  },
  {
   "cell_type": "markdown",
   "id": "4af7362f-d951-4dd9-8eef-ebe7caf3174e",
   "metadata": {},
   "source": [
    "## Импортируем библиотеки"
   ]
  },
  {
   "cell_type": "code",
   "execution_count": 1,
   "id": "56d5f730-6c7c-46e0-b035-6d9bc99727dc",
   "metadata": {},
   "outputs": [
    {
     "ename": "ModuleNotFoundError",
     "evalue": "No module named 'lightgbm'",
     "output_type": "error",
     "traceback": [
      "\u001b[0;31m---------------------------------------------------------------------------\u001b[0m",
      "\u001b[0;31mModuleNotFoundError\u001b[0m                       Traceback (most recent call last)",
      "Cell \u001b[0;32mIn[1], line 7\u001b[0m\n\u001b[1;32m      4\u001b[0m \u001b[38;5;28;01mfrom\u001b[39;00m \u001b[38;5;21;01msklearn\u001b[39;00m\u001b[38;5;21;01m.\u001b[39;00m\u001b[38;5;21;01mmodel_selection\u001b[39;00m \u001b[38;5;28;01mimport\u001b[39;00m train_test_split\n\u001b[1;32m      5\u001b[0m \u001b[38;5;28;01mfrom\u001b[39;00m \u001b[38;5;21;01msklearn\u001b[39;00m\u001b[38;5;21;01m.\u001b[39;00m\u001b[38;5;21;01mmetrics\u001b[39;00m \u001b[38;5;28;01mimport\u001b[39;00m accuracy_score\n\u001b[0;32m----> 7\u001b[0m \u001b[38;5;28;01mimport\u001b[39;00m \u001b[38;5;21;01mlightgbm\u001b[39;00m \u001b[38;5;28;01mas\u001b[39;00m \u001b[38;5;21;01mlgbm\u001b[39;00m\n\u001b[1;32m      8\u001b[0m \u001b[38;5;28;01mimport\u001b[39;00m \u001b[38;5;21;01mxgboost\u001b[39;00m \u001b[38;5;28;01mas\u001b[39;00m \u001b[38;5;21;01mxgb\u001b[39;00m\n\u001b[1;32m      9\u001b[0m \u001b[38;5;28;01mimport\u001b[39;00m \u001b[38;5;21;01mcatboost\u001b[39;00m \u001b[38;5;28;01mas\u001b[39;00m \u001b[38;5;21;01mcb\u001b[39;00m\n",
      "\u001b[0;31mModuleNotFoundError\u001b[0m: No module named 'lightgbm'"
     ]
    }
   ],
   "source": [
    "import numpy as np\n",
    "import pandas as pd\n",
    "\n",
    "from sklearn.model_selection import train_test_split\n",
    "from sklearn.metrics import accuracy_score\n",
    "\n",
    "import lightgbm as lgbm\n",
    "import xgboost as xgb\n",
    "import catboost as cb"
   ]
  },
  {
   "cell_type": "code",
   "execution_count": null,
   "id": "ab3f631d-798e-47fe-8a01-fedd61e9b473",
   "metadata": {},
   "outputs": [],
   "source": [
    "# pip install xgboost -U -q"
   ]
  },
  {
   "cell_type": "code",
   "execution_count": null,
   "id": "0e230ddd-f5ff-4d17-8f67-a48bf4d6bd1a",
   "metadata": {},
   "outputs": [],
   "source": [
    "import warnings\n",
    "warnings.filterwarnings(\"ignore\")"
   ]
  },
  {
   "cell_type": "markdown",
   "id": "148738ed-3394-4afd-8290-abbcaaa48d35",
   "metadata": {},
   "source": [
    "## Считываем данные"
   ]
  },
  {
   "cell_type": "code",
   "execution_count": null,
   "id": "badb38d4-fe4a-40bb-9557-3d58410e7284",
   "metadata": {},
   "outputs": [],
   "source": [
    "from sklearn import preprocessing\n",
    "data = pd.read_csv('../data/quickstart_train.csv')\n",
    "\n",
    "categorical_features = ['model', 'car_type', 'fuel_type']\n",
    "\n",
    "for cat in categorical_features:\n",
    "    lbl = preprocessing.LabelEncoder()\n",
    "    data[cat] = lbl.fit_transform(data[cat].astype(str))\n",
    "    data[cat] = data[cat].astype('category')\n",
    "    \n",
    "data.info()"
   ]
  },
  {
   "cell_type": "markdown",
   "id": "48b6ad9e-6ce1-40b8-86b7-b3f5a78e8829",
   "metadata": {},
   "source": [
    "### Разделим выборку на валидационную и обучающую"
   ]
  },
  {
   "cell_type": "code",
   "execution_count": null,
   "id": "e0c56c6f-7d89-422a-bb23-361e44a66ef2",
   "metadata": {},
   "outputs": [],
   "source": [
    "# значения таргета закодируем целыми числами\n",
    "class_names = np.unique(data['target_class'])\n",
    "data['target_class'] = data['target_class'].replace(class_names, np.arange(data['target_class'].nunique()))"
   ]
  },
  {
   "cell_type": "code",
   "execution_count": null,
   "id": "5ebe0263-46e8-461a-a765-379912842f58",
   "metadata": {},
   "outputs": [],
   "source": [
    "cols2drop = ['car_id', 'target_reg', 'target_class']\n",
    "categorical_features = ['model', 'car_type', 'fuel_type']\n",
    "numerical_features = [c for c in data.columns if c not in categorical_features and c not in cols2drop]"
   ]
  },
  {
   "cell_type": "code",
   "execution_count": null,
   "id": "17be1469-9804-4ca0-88f5-ff887a6fbf55",
   "metadata": {},
   "outputs": [],
   "source": [
    "X_train, X_val, y_train, y_val = train_test_split(data.drop(cols2drop, axis=1), \n",
    "                                                    data['target_class'],\n",
    "                                                    test_size=.25,\n",
    "                                                    stratify=data['target_class'],\n",
    "                                                    random_state=42)\n",
    "print(X_train.shape, X_val.shape)"
   ]
  },
  {
   "cell_type": "markdown",
   "id": "19b10ebc-c0a4-4811-ab78-b636cfbf982f",
   "metadata": {},
   "source": [
    "# <center> ☘️ Объявим 3 модели"
   ]
  },
  {
   "cell_type": "markdown",
   "id": "43e5c617-ddaf-485e-a433-889dd40164b7",
   "metadata": {},
   "source": [
    "#  😺🚀 Модель `CatBoost`"
   ]
  },
  {
   "cell_type": "code",
   "execution_count": null,
   "id": "230e9b67-b4ff-449a-bb3b-df63991b3980",
   "metadata": {},
   "outputs": [],
   "source": [
    "params_cat = {\n",
    "             'n_estimators' : 700,\n",
    "              # 'learning_rate': .03,\n",
    "              'depth' : 3,\n",
    "              'verbose': False,\n",
    "              'use_best_model': True,\n",
    "              'cat_features' : categorical_features,\n",
    "              'text_features': [],\n",
    "              # 'train_dir' : '/home/jovyan/work/catboost',\n",
    "              'border_count' : 64,\n",
    "              'l2_leaf_reg' : 1,\n",
    "              'bagging_temperature' : 2,\n",
    "              'rsm' : 0.51,\n",
    "              'loss_function': 'MultiClass',\n",
    "              'auto_class_weights' : 'Balanced', #try not balanced\n",
    "              'random_state': 42,\n",
    "              'use_best_model': False,\n",
    "              # 'custom_metric' : ['AUC', 'MAP'] # Не работает внутри Sklearn.Pipelines\n",
    "         }"
   ]
  },
  {
   "cell_type": "code",
   "execution_count": null,
   "id": "3df6e1c7-8970-42a9-90cb-7d050004b7f7",
   "metadata": {},
   "outputs": [],
   "source": [
    "cat_model = cb.CatBoostClassifier(**params_cat)"
   ]
  },
  {
   "cell_type": "markdown",
   "id": "611fd034-c5fe-4633-b3fd-44a39c35fd21",
   "metadata": {},
   "source": [
    "# 🦄🎳 Модель `LightGBM`"
   ]
  },
  {
   "cell_type": "code",
   "execution_count": null,
   "id": "6c49c0d9-53b7-4c41-b3c5-f50cc7fa275b",
   "metadata": {},
   "outputs": [],
   "source": [
    "categorical_features_index = [i for i in range(data.shape[1]) if data.columns[i] in categorical_features]\n",
    "params_lgbm = {\n",
    "    \"num_leaves\": 200,\n",
    "    \"n_estimators\": 1500,\n",
    "    # \"max_depth\": 7,\n",
    "    \"min_child_samples\": None,\n",
    "    \"learning_rate\": 0.001,\n",
    "    \"min_data_in_leaf\": 5,\n",
    "    \"feature_fraction\": 0.98,\n",
    "    # \"categorical_feature\": cat_cols,\n",
    "    'reg_alpha' : 3.0,\n",
    "    'reg_lambda' : 5.0,\n",
    "    'categorical_feature': categorical_features_index\n",
    "}"
   ]
  },
  {
   "cell_type": "code",
   "execution_count": null,
   "id": "484fccef-a7d1-4350-ae91-920b782373e5",
   "metadata": {},
   "outputs": [],
   "source": [
    "lgbm_model = lgbm.LGBMClassifier(**params_lgbm)"
   ]
  },
  {
   "cell_type": "markdown",
   "id": "8bcc52be-b1cd-4743-bcf3-c64cf652af0e",
   "metadata": {},
   "source": [
    "# 👽🔱 Модель `XGBoost`"
   ]
  },
  {
   "cell_type": "code",
   "execution_count": null,
   "id": "cb6014f5-bd8a-46b0-9d81-7d36429b544a",
   "metadata": {},
   "outputs": [],
   "source": [
    "params_xgb = {\n",
    "    \"eta\": 0.05,\n",
    "    'n_estimators' : 1500,\n",
    "    \"max_depth\": 6,\n",
    "    \"subsample\": 0.7,\n",
    "    # \"colsample_bytree\": 0.95,\n",
    "    'min_child_weight' : 0.1,\n",
    "    'gamma': .01,\n",
    "    'reg_lambda' : 0.1,\n",
    "    'reg_alpha' : 0.5,\n",
    "    \"objective\": \"reg:linear\",\n",
    "    \"eval_metric\": \"mae\",\n",
    "    'tree_method' : 'hist', # Supported tree methods for cat fs are `gpu_hist`, `approx`, and `hist`.\n",
    "    'enable_categorical' : True\n",
    "    \n",
    "}"
   ]
  },
  {
   "cell_type": "code",
   "execution_count": null,
   "id": "cbc64f71-ed56-4e26-8838-2ca1cb9ad633",
   "metadata": {},
   "outputs": [],
   "source": [
    "xgb_model = xgb.XGBClassifier(**params_xgb)"
   ]
  },
  {
   "cell_type": "markdown",
   "id": "dd718a7f-85d0-4ed3-b430-30578ea03705",
   "metadata": {},
   "source": [
    "# <center> 🥤 Построим пайплан"
   ]
  },
  {
   "cell_type": "code",
   "execution_count": null,
   "id": "b763492d-59c7-4822-aa0b-c2e51a2a66aa",
   "metadata": {},
   "outputs": [],
   "source": [
    "!pip3 install -U scikit-learn -q"
   ]
  },
  {
   "cell_type": "code",
   "execution_count": null,
   "id": "e593c803-32e0-4a0c-94a7-4f43c43762cd",
   "metadata": {},
   "outputs": [],
   "source": [
    "# Вспомогательные блоки организации для пайплайна\n",
    "from sklearn.pipeline import Pipeline, make_pipeline\n",
    "from sklearn.compose import ColumnTransformer, make_column_selector"
   ]
  },
  {
   "cell_type": "code",
   "execution_count": null,
   "id": "19537599-0ffb-408d-8036-973ef68d3a5e",
   "metadata": {},
   "outputs": [],
   "source": [
    "# Вспомогательные элементы для наполнения пайплайна\n",
    "from sklearn.impute import SimpleImputer, KNNImputer\n",
    "from sklearn.feature_selection import SelectKBest, f_classif\n",
    "from sklearn.preprocessing import StandardScaler, RobustScaler, LabelEncoder, OneHotEncoder, MinMaxScaler"
   ]
  },
  {
   "cell_type": "code",
   "execution_count": null,
   "id": "0694234e-5b75-4b9f-ae0f-aaf0a7122a30",
   "metadata": {},
   "outputs": [],
   "source": [
    "# Некоторые модели для построение ансамбля\n",
    "from sklearn.ensemble import ExtraTreesClassifier, RandomForestClassifier, StackingClassifier\n",
    "from sklearn.linear_model import LogisticRegression\n",
    "from sklearn.neural_network import MLPClassifier\n",
    "from sklearn.svm import LinearSVC"
   ]
  },
  {
   "cell_type": "code",
   "execution_count": null,
   "id": "9435953e-d5d7-457a-b4c9-2d0feb03f2bc",
   "metadata": {},
   "outputs": [],
   "source": [
    "# Добавим визуализации\n",
    "import sklearn\n",
    "sklearn.set_config(display='diagram')\n",
    "\n",
    "from warnings import simplefilter\n",
    "# ignore all future warnings\n",
    "simplefilter(action='ignore', category=FutureWarning)"
   ]
  },
  {
   "cell_type": "markdown",
   "id": "03c8b2d2-479c-4077-94c9-22b4bfa4b8e7",
   "metadata": {},
   "source": [
    "### Предобработаем данные\n",
    "Под каждый тип данных заводим свой трансформер"
   ]
  },
  {
   "cell_type": "code",
   "execution_count": null,
   "id": "4cdc124c-9dfc-4fc3-b8e3-7c0c01506bc6",
   "metadata": {},
   "outputs": [],
   "source": [
    "# заменяет пропуски самым частым значением и делает ohe\n",
    "categorical_transformer = Pipeline(steps=[\n",
    "    (\"imputer\", SimpleImputer(strategy='most_frequent')),\n",
    "    (\"onehot\", OneHotEncoder(handle_unknown=\"ignore\"))])"
   ]
  },
  {
   "cell_type": "code",
   "execution_count": null,
   "id": "295c53bb-13aa-4bc5-a9e8-0654a501b75d",
   "metadata": {},
   "outputs": [],
   "source": [
    "# заменяет пропуски средним значением и делает номрализацию\n",
    "numerical_transformer = Pipeline(steps=[\n",
    "    (\"imputer\", SimpleImputer()),\n",
    "    (\"scaler\", StandardScaler())\n",
    "])"
   ]
  },
  {
   "cell_type": "code",
   "execution_count": null,
   "id": "c25f4116-5682-4b12-9200-d24a21d8af88",
   "metadata": {},
   "outputs": [],
   "source": [
    "# соединим два предыдущих трансформера в один\n",
    "preprocessor = ColumnTransformer(transformers=[\n",
    "    (\"numerical\", numerical_transformer, numerical_features),\n",
    "    (\"categorical\", categorical_transformer, categorical_features)])\n",
    "\n",
    "preprocessor"
   ]
  },
  {
   "cell_type": "code",
   "execution_count": null,
   "id": "2881c72c-c796-4def-8749-3a4adfa5f56c",
   "metadata": {},
   "outputs": [],
   "source": [
    "preprocessor.transformers[0]"
   ]
  },
  {
   "cell_type": "markdown",
   "id": "e77de579-4c28-4d90-b2a3-f1509c17c490",
   "metadata": {},
   "source": [
    "# <center> 🎓🐊 Обучим ансамбль"
   ]
  },
  {
   "cell_type": "code",
   "execution_count": null,
   "id": "3ff3fd13-7cac-4b1d-85e5-fd8d93aeae18",
   "metadata": {},
   "outputs": [],
   "source": [
    " "
   ]
  },
  {
   "cell_type": "code",
   "execution_count": null,
   "id": "bd673c24-1c8f-4260-b883-9ff6a644dc8e",
   "metadata": {},
   "outputs": [],
   "source": [
    "# список базовых моделей\n",
    "estimators = [\n",
    "    \n",
    "    \n",
    "    (\"ExtraTrees\",  make_pipeline(preprocessor, ExtraTreesClassifier(n_estimators = 10_000, max_depth = 6, min_samples_leaf = 2, \n",
    "                                                              bootstrap = True, class_weight = 'balanced', # ccp_alpha = 0.001, \n",
    "                                                              random_state = 75, verbose=False, n_jobs=-1,))),\n",
    "    \n",
    "\n",
    "    (\"XGBoost\", xgb_model),\n",
    "    (\"LightGBM\", lgbm_model),\n",
    "    (\"CatBoost\", cat_model),\n",
    "    \n",
    "    # То, что не дало прироста в ансамбле\n",
    "    # (\"SVM\", make_pipeline(preprocessor, LinearSVC(verbose=False))),\n",
    "    # (\"MLP\", make_pipeline(preprocessor, MLPClassifier(verbose=False, hidden_layer_sizes=(100, 30, ), alpha=0.001,random_state=75, max_iter = 1300, ))),\n",
    "    (\"Random_forest\",  make_pipeline(preprocessor, RandomForestClassifier(n_estimators = 15_000, max_depth = 7, \n",
    "                                                              min_samples_leaf = 2,\n",
    "                                                              warm_start = True, n_jobs=-1,\n",
    "                                                              random_state = 75, verbose=False))),\n",
    "    \n",
    "    \n",
    "    \n",
    "]\n",
    "\n",
    "# в качестве мета-модели будем использовать LogisticRegression\n",
    "meta_model = StackingClassifier(\n",
    "    estimators=estimators,\n",
    "    final_estimator=LogisticRegression(verbose=False),\n",
    "    # final_estimator=RandomForestClassifier(n_estimators = 10_000, \n",
    "                                           # max_depth = 5,\n",
    "                                           # verbose=False),\n",
    "    n_jobs=-1,\n",
    "    verbose=False,\n",
    ")\n",
    "\n",
    "stacking_classifier = meta_model\n",
    "stacking_classifier"
   ]
  },
  {
   "cell_type": "code",
   "execution_count": null,
   "id": "70aa214e-d6c6-4032-bc27-d3e53e3e2442",
   "metadata": {},
   "outputs": [],
   "source": [
    "stacking_classifier.fit(X_train, y_train)"
   ]
  },
  {
   "cell_type": "code",
   "execution_count": null,
   "id": "59a98387-5485-434f-8463-fc3a21bdabb6",
   "metadata": {},
   "outputs": [],
   "source": [
    "# for i in stacking_classifier.estimators:\n",
    "#     print(i[0])"
   ]
  },
  {
   "cell_type": "code",
   "execution_count": null,
   "id": "b4d36607-bb9d-4dd7-bdda-841c11bb4203",
   "metadata": {},
   "outputs": [],
   "source": [
    "# dir(stacking_classifier)"
   ]
  },
  {
   "cell_type": "code",
   "execution_count": null,
   "id": "cf3cfb54-c3a2-49d8-b83b-2a529a2fe84c",
   "metadata": {},
   "outputs": [],
   "source": [
    "corr_df = pd.DataFrame()\n",
    "\n",
    "for model, (name, _) in zip(stacking_classifier.estimators_, stacking_classifier.estimators):\n",
    "    preprocessed = stacking_classifier.estimators[0][1].steps[0][1].fit(X_train, y_train).transform(X_val)\n",
    "    print(name, 'accuracy: ', round(accuracy_score(model.predict(X_val), y_val), 4))\n",
    "    \n",
    "    corr_df[name] = model.predict(X_val)\n",
    "    "
   ]
  },
  {
   "cell_type": "code",
   "execution_count": null,
   "id": "c2cf63af-64ef-4fe7-b5b7-46c42dff997c",
   "metadata": {},
   "outputs": [],
   "source": [
    "corr_df.corr().style.background_gradient(cmap=\"RdYlGn\")"
   ]
  },
  {
   "cell_type": "code",
   "execution_count": null,
   "id": "f91223b7-e4c6-427b-9e71-cd38992f8d15",
   "metadata": {},
   "outputs": [],
   "source": [
    "# Random_forest сильно коррелирует с другими моделями, \n",
    "# поэтому он снижает качество ансамбля.\n",
    "# Попробуйте его убрать"
   ]
  },
  {
   "cell_type": "code",
   "execution_count": null,
   "id": "b2683c31-d7f0-4f16-ad9f-67ece32f5d70",
   "metadata": {},
   "outputs": [],
   "source": [
    "print('ensemble score:', round(accuracy_score(stacking_classifier.predict(X_val), y_val), 4))\n",
    "# как вы можете заметить ансамбль довольно заметно улучшил качество решения"
   ]
  },
  {
   "cell_type": "markdown",
   "id": "d25287b1-385c-4d27-b25a-c03833cb72a2",
   "metadata": {},
   "source": [
    "# Комментарии\n",
    "\n",
    "* 📈 Да, скор ансамбля вырос, но есть много **\"но\"** у этой реализации\n",
    "* ⚠️ Тут в качестве мета-модели использовалась `LogisticRegression`, что по сути является обычным блендингом, но с кросс-валидацией.\n",
    "* 🧩 Слабые или похожие модели мешают ансамблю поднять скор (Если убрать `RandomForest` скор поднимется)\n",
    "* 🍏 Стекинг можно усложнить, подавая мета-модели еще признаки при этом используя более сложную meta-модедь.\n",
    "* 🤔 Тогда в зависимости от свойств объекта, мета модели, такие как `RandomForestClassifier` могут принимать решение оптимальнее.\n",
    "* ☹️ В рамках `pipeline` в `Sklearn` это сделать сложнее. Надо взять что-то другое. "
   ]
  },
  {
   "cell_type": "markdown",
   "id": "105f7916-ac2a-4baa-9d91-ebdecd23808f",
   "metadata": {},
   "source": [
    "* Не всем можно запухнуть в `pipeline`. Например `eval_set` для `early-stopping`а или класс `train` от `LightGBM`\n",
    "* Что есть еще? Об этом позже"
   ]
  },
  {
   "cell_type": "markdown",
   "id": "cc6a60fb-a77b-4f71-9ed6-413638b842d5",
   "metadata": {},
   "source": [
    "# <center> 📚 Дополнительная литература\n",
    "- [Статья Александра Дьяконова про Стекинг и Блендинг](https://alexanderdyakonov.wordpress.com/2017/03/10/c%D1%82%D0%B5%D0%BA%D0%B8%D0%BD%D0%B3-stacking-%D0%B8-%D0%B1%D0%BB%D0%B5%D0%BD%D0%B4%D0%B8%D0%BD%D0%B3-blending/)\n",
    "- [Пример решения, где  `LigthGBM` в качестве мета модели](https://www.youtube.com/watch?v=aMlpeDOjib8)"
   ]
  },
  {
   "cell_type": "markdown",
   "id": "f7dcf43b-5396-425c-a6ef-2398a5c73552",
   "metadata": {},
   "source": [
    "# <center> 🧸 Выводы и заключения"
   ]
  },
  {
   "cell_type": "markdown",
   "id": "36e25b11-bada-455e-83bf-4391d6432a6e",
   "metadata": {},
   "source": [
    "<div class=\"alert alert-info\">\n",
    "\n",
    "* `sklearn.Pipelines` это очень сильный инструмент, позволяющий упаковать весь процесс обучения модели в один механизм\n",
    "* Легко добавлять новые модели и который легко применять на инференсе.\n",
    "* Это один из тех инструментов, который часто используется не только на соревнованиях, но и в обычной работе засчет своей элегантности и простоты."
   ]
  },
  {
   "cell_type": "code",
   "execution_count": null,
   "id": "7c81cc06-1418-4f2e-9e76-56773d7a62a4",
   "metadata": {},
   "outputs": [],
   "source": []
  },
  {
   "cell_type": "code",
   "execution_count": null,
   "id": "8ea5a200-a930-467b-8794-bf238db57da0",
   "metadata": {},
   "outputs": [],
   "source": []
  },
  {
   "cell_type": "code",
   "execution_count": null,
   "id": "a62421d4-8d3d-4e80-83cd-51e4bc2bbad1",
   "metadata": {},
   "outputs": [],
   "source": []
  },
  {
   "cell_type": "code",
   "execution_count": null,
   "id": "48f5d5d6-27fc-476e-ba6f-61fe126df74e",
   "metadata": {},
   "outputs": [],
   "source": []
  }
 ],
 "metadata": {
  "kernelspec": {
   "display_name": "Python 3 (ipykernel)",
   "language": "python",
   "name": "python3"
  },
  "language_info": {
   "codemirror_mode": {
    "name": "ipython",
    "version": 3
   },
   "file_extension": ".py",
   "mimetype": "text/x-python",
   "name": "python",
   "nbconvert_exporter": "python",
   "pygments_lexer": "ipython3",
   "version": "3.9.15"
  }
 },
 "nbformat": 4,
 "nbformat_minor": 5
}
