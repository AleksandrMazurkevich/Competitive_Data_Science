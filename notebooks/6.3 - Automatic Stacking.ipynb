{
 "cells": [
  {
   "cell_type": "markdown",
   "id": "2f9be3fc-9bbd-41c7-b03b-1131fcf5e02b",
   "metadata": {},
   "source": [
    "# <center>[🦏 Автоматический стэкинг и блендинг](https://stepik.org/lesson/872530/)</center>"
   ]
  },
  {
   "cell_type": "markdown",
   "id": "f81e7599-d1bb-49b6-bf9b-76f58adf25f8",
   "metadata": {},
   "source": [
    "<div class=\"alert alert-info\">\n",
    "\n",
    "Как вы уже могли заметить, чем больше моделей вы стэкаете, тем больше у вас разрастается код, а кол-во беспорядка в нем растет по экспоненте. Но есть специальные инструменты, которые позволяют сделать это элегантно и даже более эффективно. Да еще и меньшим числом строк кода! \n",
    "    "
   ]
  },
  {
   "cell_type": "markdown",
   "id": "613b4370-f700-433e-a148-880371d396d3",
   "metadata": {},
   "source": [
    "<div class=\"alert alert-info\">\n",
    "    \n",
    "Сегодня мы поговорим про `sklearn.Pipelines` - способ упаковать ваш процесс обучения и инференса от `Feature Engineering`а до стэкинга 10 моделей в один пайплайн."
   ]
  },
  {
   "cell_type": "markdown",
   "id": "635e38f8-8b70-4b24-b08d-4bd6aa452371",
   "metadata": {},
   "source": [
    "### Оглавление ноутбука\n",
    "\n",
    "<img src='../images/pipelines.jpg' align=\"right\" width=\"600\" height=\"600\" />\n",
    "<br>\n",
    "\n",
    "<p><font size=\"3\" face=\"Arial\" font-size=\"large\"><ul type=\"square\">\n",
    "    \n",
    "<li><a href=\"#c1\">🛠 Три модели для блендинга </a></li>\n",
    "<li><a href=\"#look1\">🔧 Построение пайплана</a>\n",
    "<li><a href=\"#check1\"> 🔋 Принципы блендинга</a>\n",
    "<li><a href=\"#6\">🧸 Выводы и заключения</a>\n",
    "\n",
    "</li></ul></font></p>\n"
   ]
  },
  {
   "cell_type": "markdown",
   "id": "4af7362f-d951-4dd9-8eef-ebe7caf3174e",
   "metadata": {},
   "source": [
    "## Импортируем библиотеки"
   ]
  },
  {
   "cell_type": "code",
   "execution_count": 1,
   "id": "56d5f730-6c7c-46e0-b035-6d9bc99727dc",
   "metadata": {},
   "outputs": [],
   "source": [
    "import numpy as np\n",
    "import pandas as pd\n",
    "\n",
    "from sklearn.model_selection import train_test_split\n",
    "from sklearn.metrics import accuracy_score\n",
    "\n",
    "import lightgbm\n",
    "import xgboost\n",
    "import catboost"
   ]
  },
  {
   "cell_type": "code",
   "execution_count": 2,
   "id": "333a7981-9243-4dfc-bc91-bacb772d7ea4",
   "metadata": {},
   "outputs": [],
   "source": [
    "# pip install xgboost -U -q"
   ]
  },
  {
   "cell_type": "code",
   "execution_count": 3,
   "id": "0e230ddd-f5ff-4d17-8f67-a48bf4d6bd1a",
   "metadata": {},
   "outputs": [],
   "source": [
    "import warnings\n",
    "warnings.filterwarnings(\"ignore\")"
   ]
  },
  {
   "cell_type": "markdown",
   "id": "148738ed-3394-4afd-8290-abbcaaa48d35",
   "metadata": {},
   "source": [
    "## Считываем данные"
   ]
  },
  {
   "cell_type": "code",
   "execution_count": 4,
   "id": "c9f7c9a1-a7d1-4548-b9fd-0a8456db88b9",
   "metadata": {},
   "outputs": [
    {
     "name": "stdout",
     "output_type": "stream",
     "text": [
      "<class 'pandas.core.frame.DataFrame'>\n",
      "RangeIndex: 2337 entries, 0 to 2336\n",
      "Data columns (total 10 columns):\n",
      " #   Column         Non-Null Count  Dtype   \n",
      "---  ------         --------------  -----   \n",
      " 0   car_id         2337 non-null   object  \n",
      " 1   model          2337 non-null   category\n",
      " 2   car_type       2337 non-null   category\n",
      " 3   fuel_type      2337 non-null   category\n",
      " 4   car_rating     2337 non-null   float64 \n",
      " 5   year_to_start  2337 non-null   int64   \n",
      " 6   riders         2337 non-null   int64   \n",
      " 7   year_to_work   2337 non-null   int64   \n",
      " 8   target_reg     2337 non-null   float64 \n",
      " 9   target_class   2337 non-null   object  \n",
      "dtypes: category(3), float64(2), int64(3), object(2)\n",
      "memory usage: 136.3+ KB\n"
     ]
    }
   ],
   "source": [
    "from sklearn import preprocessing\n",
    "data = pd.read_csv('../data/car_train.csv')\n",
    "\n",
    "categorical_features = ['model', 'car_type', 'fuel_type']\n",
    "\n",
    "for cat in categorical_features:\n",
    "    lbl = preprocessing.LabelEncoder()\n",
    "    data[cat] = lbl.fit_transform(data[cat].astype(str))\n",
    "    data[cat] = data[cat].astype('category')\n",
    "\n",
    "data.info()"
   ]
  },
  {
   "cell_type": "code",
   "execution_count": 5,
   "id": "d26c1b0f-b0ed-45c1-b346-f087f752cd7c",
   "metadata": {},
   "outputs": [
    {
     "data": {
      "text/plain": [
       "(2337, (2337, 10))"
      ]
     },
     "execution_count": 5,
     "metadata": {},
     "output_type": "execute_result"
    }
   ],
   "source": [
    "data['car_id'].nunique(), data.shape"
   ]
  },
  {
   "cell_type": "markdown",
   "id": "48b6ad9e-6ce1-40b8-86b7-b3f5a78e8829",
   "metadata": {},
   "source": [
    "### Разделим выборку на валидационную и обучающую"
   ]
  },
  {
   "cell_type": "code",
   "execution_count": 6,
   "id": "e0c56c6f-7d89-422a-bb23-361e44a66ef2",
   "metadata": {},
   "outputs": [],
   "source": [
    "# значения таргета закодируем целыми числами\n",
    "class_names = np.unique(data['target_class'])\n",
    "data['target_class'] = data['target_class'].replace(class_names, np.arange(data['target_class'].nunique()))"
   ]
  },
  {
   "cell_type": "code",
   "execution_count": 7,
   "id": "5ebe0263-46e8-461a-a765-379912842f58",
   "metadata": {},
   "outputs": [],
   "source": [
    "cols2drop = ['car_id', 'target_reg', 'target_class']"
   ]
  },
  {
   "cell_type": "code",
   "execution_count": 8,
   "id": "17be1469-9804-4ca0-88f5-ff887a6fbf55",
   "metadata": {},
   "outputs": [
    {
     "name": "stdout",
     "output_type": "stream",
     "text": [
      "(1752, 7) (585, 7)\n"
     ]
    }
   ],
   "source": [
    "X_train, X_val, y_train, y_val = train_test_split(data.drop(cols2drop, axis=1), \n",
    "                                                    data['target_class'],\n",
    "                                                    test_size=.25,\n",
    "                                                    stratify=data['target_class'],\n",
    "                                                    random_state=42)\n",
    "print(X_train.shape, X_val.shape)"
   ]
  },
  {
   "cell_type": "markdown",
   "id": "19b10ebc-c0a4-4811-ab78-b636cfbf982f",
   "metadata": {},
   "source": [
    "# <center> Объявим 3 модели"
   ]
  },
  {
   "cell_type": "markdown",
   "id": "43e5c617-ddaf-485e-a433-889dd40164b7",
   "metadata": {},
   "source": [
    "### Модель `CatBoost`"
   ]
  },
  {
   "cell_type": "code",
   "execution_count": 9,
   "id": "230e9b67-b4ff-449a-bb3b-df63991b3980",
   "metadata": {},
   "outputs": [],
   "source": [
    "params_cat = {\n",
    "             'n_estimators' : 1000,\n",
    "              # 'learning_rate': .03,\n",
    "              'depth' : 3,\n",
    "              'verbose': False,\n",
    "              'use_best_model': True,\n",
    "              'cat_features' : categorical_features,\n",
    "              'text_features': [],\n",
    "              # 'train_dir' : '/home/jovyan/work/catboost',\n",
    "              'border_count' : 64,\n",
    "              'l2_leaf_reg' : 1,\n",
    "              'bagging_temperature' : 2,\n",
    "              'rsm' : 0.1,\n",
    "              'loss_function': 'MultiClass',\n",
    "              'auto_class_weights' : 'Balanced', #try not balanced\n",
    "              'random_state': 42,\n",
    "              'use_best_model': False,\n",
    "              # 'custom_metric' : ['AUC', 'MAP'] # Не работает внутри Sklearn.Pipelines\n",
    "         }"
   ]
  },
  {
   "cell_type": "code",
   "execution_count": 10,
   "id": "3df6e1c7-8970-42a9-90cb-7d050004b7f7",
   "metadata": {},
   "outputs": [],
   "source": [
    "cat_model = catboost.CatBoostClassifier(**params_cat)"
   ]
  },
  {
   "cell_type": "markdown",
   "id": "611fd034-c5fe-4633-b3fd-44a39c35fd21",
   "metadata": {},
   "source": [
    "### Модель `LightGBM`"
   ]
  },
  {
   "cell_type": "code",
   "execution_count": 33,
   "id": "6c49c0d9-53b7-4c41-b3c5-f50cc7fa275b",
   "metadata": {},
   "outputs": [],
   "source": [
    "categorical_features_index = [i for i in range(data.shape[1]) if data.columns[i] in categorical_features]\n",
    "params_lgbm = {'num_leaves': 887,\n",
    "               'n_estimators': 480,\n",
    "               'max_depth': 7,\n",
    "               'min_child_samples': 1073,\n",
    "               'learning_rate': 0.053,\n",
    "               'min_data_in_leaf': 2,\n",
    "               'feature_fraction': 0.95,\n",
    "               'categorical_feature': categorical_features_index\n",
    "              }"
   ]
  },
  {
   "cell_type": "code",
   "execution_count": 35,
   "id": "484fccef-a7d1-4350-ae91-920b782373e5",
   "metadata": {},
   "outputs": [],
   "source": [
    "lgbm_model = lightgbm.LGBMClassifier(**params_lgbm)"
   ]
  },
  {
   "cell_type": "markdown",
   "id": "8bcc52be-b1cd-4743-bcf3-c64cf652af0e",
   "metadata": {},
   "source": [
    "### Модель `XGBoost`"
   ]
  },
  {
   "cell_type": "code",
   "execution_count": 36,
   "id": "cff8fe72-5f05-470d-b42f-82968dc4391d",
   "metadata": {},
   "outputs": [],
   "source": [
    "params_xgb = {\n",
    "    'eta': 0.05,\n",
    "    'max_depth': 5,\n",
    "    'subsample': 0.7,\n",
    "    # 'colsample_bytree': 0.7, # Нельзя одновременно с subsample\n",
    "    'objective': 'reg:linear',\n",
    "    # 'eval_metric': 'accuracy'\n",
    "    # 'enable_categorical' : True\n",
    "}"
   ]
  },
  {
   "cell_type": "code",
   "execution_count": 37,
   "id": "cb55a14d-deab-4c0c-9311-e56bf800293a",
   "metadata": {},
   "outputs": [],
   "source": [
    "xgb_model = xgboost.XGBClassifier(**params_xgb)"
   ]
  },
  {
   "cell_type": "markdown",
   "id": "dd718a7f-85d0-4ed3-b430-30578ea03705",
   "metadata": {},
   "source": [
    "# <center> Построим пайплан"
   ]
  },
  {
   "cell_type": "code",
   "execution_count": 38,
   "id": "2e3ffb51-87c5-4659-b896-e9b7b93db1ca",
   "metadata": {},
   "outputs": [],
   "source": [
    "# Вспомогательные блоки организации для пайплайна\n",
    "from sklearn.pipeline import Pipeline, make_pipeline\n",
    "from sklearn.compose import ColumnTransformer, make_column_selector\n",
    "\n",
    "# Вспомогательные элементы для наполнения пайплайна\n",
    "from sklearn.impute import SimpleImputer, KNNImputer\n",
    "from sklearn.feature_selection import SelectKBest, f_classif\n",
    "from sklearn.preprocessing import StandardScaler, RobustScaler, LabelEncoder, OneHotEncoder, MinMaxScaler\n",
    "\n",
    "# Некоторые модели для построение ансамбля\n",
    "from sklearn.svm import LinearSVC\n",
    "from sklearn.ensemble import RandomForestClassifier, StackingClassifier\n",
    "from sklearn.linear_model import LogisticRegression\n",
    "\n",
    "# Добавим визуализации\n",
    "import sklearn\n",
    "sklearn.set_config(display='diagram')"
   ]
  },
  {
   "cell_type": "markdown",
   "id": "03c8b2d2-479c-4077-94c9-22b4bfa4b8e7",
   "metadata": {},
   "source": [
    "### Предобработаем данные\n",
    "Под каждый тип данных заводим свой трансформер"
   ]
  },
  {
   "cell_type": "code",
   "execution_count": 39,
   "id": "881b6c95-aab6-467e-a40f-742e19d7f421",
   "metadata": {},
   "outputs": [],
   "source": [
    "categorical_features = ['model', 'car_type', 'fuel_type']\n",
    "numerical_features = ['car_rating', 'year_to_start', 'riders', 'year_to_work']"
   ]
  },
  {
   "cell_type": "code",
   "execution_count": 40,
   "id": "4cdc124c-9dfc-4fc3-b8e3-7c0c01506bc6",
   "metadata": {},
   "outputs": [],
   "source": [
    "# заменяет пропуски самым частым значением и делает ohe\n",
    "categorical_transformer = Pipeline(steps=[\n",
    "    (\"imputer\", SimpleImputer(strategy='most_frequent')),\n",
    "    (\"onehot\", OneHotEncoder(handle_unknown=\"ignore\"))])"
   ]
  },
  {
   "cell_type": "code",
   "execution_count": 41,
   "id": "295c53bb-13aa-4bc5-a9e8-0654a501b75d",
   "metadata": {},
   "outputs": [],
   "source": [
    "# заменяет пропуски средним значением и делает номрализацию\n",
    "numerical_transformer = Pipeline(steps=[\n",
    "    (\"imputer\", SimpleImputer()),\n",
    "    (\"scaler\", StandardScaler())\n",
    "])"
   ]
  },
  {
   "cell_type": "code",
   "execution_count": 42,
   "id": "c25f4116-5682-4b12-9200-d24a21d8af88",
   "metadata": {},
   "outputs": [
    {
     "data": {
      "text/html": [
       "<style>#sk-ac255f2f-ae46-4d51-b6f7-1f09eae9275b {color: black;background-color: white;}#sk-ac255f2f-ae46-4d51-b6f7-1f09eae9275b pre{padding: 0;}#sk-ac255f2f-ae46-4d51-b6f7-1f09eae9275b div.sk-toggleable {background-color: white;}#sk-ac255f2f-ae46-4d51-b6f7-1f09eae9275b label.sk-toggleable__label {cursor: pointer;display: block;width: 100%;margin-bottom: 0;padding: 0.2em 0.3em;box-sizing: border-box;text-align: center;}#sk-ac255f2f-ae46-4d51-b6f7-1f09eae9275b div.sk-toggleable__content {max-height: 0;max-width: 0;overflow: hidden;text-align: left;background-color: #f0f8ff;}#sk-ac255f2f-ae46-4d51-b6f7-1f09eae9275b div.sk-toggleable__content pre {margin: 0.2em;color: black;border-radius: 0.25em;background-color: #f0f8ff;}#sk-ac255f2f-ae46-4d51-b6f7-1f09eae9275b input.sk-toggleable__control:checked~div.sk-toggleable__content {max-height: 200px;max-width: 100%;overflow: auto;}#sk-ac255f2f-ae46-4d51-b6f7-1f09eae9275b div.sk-estimator input.sk-toggleable__control:checked~label.sk-toggleable__label {background-color: #d4ebff;}#sk-ac255f2f-ae46-4d51-b6f7-1f09eae9275b div.sk-label input.sk-toggleable__control:checked~label.sk-toggleable__label {background-color: #d4ebff;}#sk-ac255f2f-ae46-4d51-b6f7-1f09eae9275b input.sk-hidden--visually {border: 0;clip: rect(1px 1px 1px 1px);clip: rect(1px, 1px, 1px, 1px);height: 1px;margin: -1px;overflow: hidden;padding: 0;position: absolute;width: 1px;}#sk-ac255f2f-ae46-4d51-b6f7-1f09eae9275b div.sk-estimator {font-family: monospace;background-color: #f0f8ff;margin: 0.25em 0.25em;border: 1px dotted black;border-radius: 0.25em;box-sizing: border-box;}#sk-ac255f2f-ae46-4d51-b6f7-1f09eae9275b div.sk-estimator:hover {background-color: #d4ebff;}#sk-ac255f2f-ae46-4d51-b6f7-1f09eae9275b div.sk-parallel-item::after {content: \"\";width: 100%;border-bottom: 1px solid gray;flex-grow: 1;}#sk-ac255f2f-ae46-4d51-b6f7-1f09eae9275b div.sk-label:hover label.sk-toggleable__label {background-color: #d4ebff;}#sk-ac255f2f-ae46-4d51-b6f7-1f09eae9275b div.sk-serial::before {content: \"\";position: absolute;border-left: 1px solid gray;box-sizing: border-box;top: 2em;bottom: 0;left: 50%;}#sk-ac255f2f-ae46-4d51-b6f7-1f09eae9275b div.sk-serial {display: flex;flex-direction: column;align-items: center;background-color: white;}#sk-ac255f2f-ae46-4d51-b6f7-1f09eae9275b div.sk-item {z-index: 1;}#sk-ac255f2f-ae46-4d51-b6f7-1f09eae9275b div.sk-parallel {display: flex;align-items: stretch;justify-content: center;background-color: white;}#sk-ac255f2f-ae46-4d51-b6f7-1f09eae9275b div.sk-parallel-item {display: flex;flex-direction: column;position: relative;background-color: white;}#sk-ac255f2f-ae46-4d51-b6f7-1f09eae9275b div.sk-parallel-item:first-child::after {align-self: flex-end;width: 50%;}#sk-ac255f2f-ae46-4d51-b6f7-1f09eae9275b div.sk-parallel-item:last-child::after {align-self: flex-start;width: 50%;}#sk-ac255f2f-ae46-4d51-b6f7-1f09eae9275b div.sk-parallel-item:only-child::after {width: 0;}#sk-ac255f2f-ae46-4d51-b6f7-1f09eae9275b div.sk-dashed-wrapped {border: 1px dashed gray;margin: 0.2em;box-sizing: border-box;padding-bottom: 0.1em;background-color: white;position: relative;}#sk-ac255f2f-ae46-4d51-b6f7-1f09eae9275b div.sk-label label {font-family: monospace;font-weight: bold;background-color: white;display: inline-block;line-height: 1.2em;}#sk-ac255f2f-ae46-4d51-b6f7-1f09eae9275b div.sk-label-container {position: relative;z-index: 2;text-align: center;}#sk-ac255f2f-ae46-4d51-b6f7-1f09eae9275b div.sk-container {display: inline-block;position: relative;}</style><div id=\"sk-ac255f2f-ae46-4d51-b6f7-1f09eae9275b\" class\"sk-top-container\"><div class=\"sk-container\"><div class=\"sk-item sk-dashed-wrapped\"><div class=\"sk-label-container\"><div class=\"sk-label sk-toggleable\"><input class=\"sk-toggleable__control sk-hidden--visually\" id=\"f472ed57-1631-4131-bf78-b649012ccc51\" type=\"checkbox\" ><label class=\"sk-toggleable__label\" for=\"f472ed57-1631-4131-bf78-b649012ccc51\">ColumnTransformer</label><div class=\"sk-toggleable__content\"><pre>ColumnTransformer(transformers=[('numerical',\n",
       "                                 Pipeline(steps=[('imputer', SimpleImputer()),\n",
       "                                                 ('scaler', StandardScaler())]),\n",
       "                                 ['car_rating', 'year_to_start', 'riders',\n",
       "                                  'year_to_work']),\n",
       "                                ('categorical',\n",
       "                                 Pipeline(steps=[('imputer',\n",
       "                                                  SimpleImputer(strategy='most_frequent')),\n",
       "                                                 ('onehot',\n",
       "                                                  OneHotEncoder(handle_unknown='ignore'))]),\n",
       "                                 ['model', 'car_type', 'fuel_type'])])</pre></div></div></div><div class=\"sk-parallel\"><div class=\"sk-parallel-item\"><div class=\"sk-item\"><div class=\"sk-label-container\"><div class=\"sk-label sk-toggleable\"><input class=\"sk-toggleable__control sk-hidden--visually\" id=\"f03e42ae-d15b-4033-8423-c9644706a070\" type=\"checkbox\" ><label class=\"sk-toggleable__label\" for=\"f03e42ae-d15b-4033-8423-c9644706a070\">numerical</label><div class=\"sk-toggleable__content\"><pre>['car_rating', 'year_to_start', 'riders', 'year_to_work']</pre></div></div></div><div class=\"sk-serial\"><div class=\"sk-item\"><div class=\"sk-serial\"><div class=\"sk-item\"><div class=\"sk-estimator sk-toggleable\"><input class=\"sk-toggleable__control sk-hidden--visually\" id=\"79ed65e5-583a-48c2-9ceb-a548079f8a49\" type=\"checkbox\" ><label class=\"sk-toggleable__label\" for=\"79ed65e5-583a-48c2-9ceb-a548079f8a49\">SimpleImputer</label><div class=\"sk-toggleable__content\"><pre>SimpleImputer()</pre></div></div></div><div class=\"sk-item\"><div class=\"sk-estimator sk-toggleable\"><input class=\"sk-toggleable__control sk-hidden--visually\" id=\"061d5580-5595-432a-b1d0-3615e9905534\" type=\"checkbox\" ><label class=\"sk-toggleable__label\" for=\"061d5580-5595-432a-b1d0-3615e9905534\">StandardScaler</label><div class=\"sk-toggleable__content\"><pre>StandardScaler()</pre></div></div></div></div></div></div></div></div><div class=\"sk-parallel-item\"><div class=\"sk-item\"><div class=\"sk-label-container\"><div class=\"sk-label sk-toggleable\"><input class=\"sk-toggleable__control sk-hidden--visually\" id=\"bff72ce6-58b3-42ee-84f3-d0ec5cc52816\" type=\"checkbox\" ><label class=\"sk-toggleable__label\" for=\"bff72ce6-58b3-42ee-84f3-d0ec5cc52816\">categorical</label><div class=\"sk-toggleable__content\"><pre>['model', 'car_type', 'fuel_type']</pre></div></div></div><div class=\"sk-serial\"><div class=\"sk-item\"><div class=\"sk-serial\"><div class=\"sk-item\"><div class=\"sk-estimator sk-toggleable\"><input class=\"sk-toggleable__control sk-hidden--visually\" id=\"ae169bc8-ae2a-4814-9933-f17656c00078\" type=\"checkbox\" ><label class=\"sk-toggleable__label\" for=\"ae169bc8-ae2a-4814-9933-f17656c00078\">SimpleImputer</label><div class=\"sk-toggleable__content\"><pre>SimpleImputer(strategy='most_frequent')</pre></div></div></div><div class=\"sk-item\"><div class=\"sk-estimator sk-toggleable\"><input class=\"sk-toggleable__control sk-hidden--visually\" id=\"2722817f-73e6-4e4b-9d49-99fed1b54169\" type=\"checkbox\" ><label class=\"sk-toggleable__label\" for=\"2722817f-73e6-4e4b-9d49-99fed1b54169\">OneHotEncoder</label><div class=\"sk-toggleable__content\"><pre>OneHotEncoder(handle_unknown='ignore')</pre></div></div></div></div></div></div></div></div></div></div></div></div>"
      ],
      "text/plain": [
       "ColumnTransformer(transformers=[('numerical',\n",
       "                                 Pipeline(steps=[('imputer', SimpleImputer()),\n",
       "                                                 ('scaler', StandardScaler())]),\n",
       "                                 ['car_rating', 'year_to_start', 'riders',\n",
       "                                  'year_to_work']),\n",
       "                                ('categorical',\n",
       "                                 Pipeline(steps=[('imputer',\n",
       "                                                  SimpleImputer(strategy='most_frequent')),\n",
       "                                                 ('onehot',\n",
       "                                                  OneHotEncoder(handle_unknown='ignore'))]),\n",
       "                                 ['model', 'car_type', 'fuel_type'])])"
      ]
     },
     "execution_count": 42,
     "metadata": {},
     "output_type": "execute_result"
    }
   ],
   "source": [
    "# соединим два предыдущих трансформера в один\n",
    "preprocessor = ColumnTransformer(transformers=[\n",
    "    (\"numerical\", numerical_transformer, numerical_features),\n",
    "    (\"categorical\", categorical_transformer, categorical_features)])\n",
    "\n",
    "preprocessor"
   ]
  },
  {
   "cell_type": "code",
   "execution_count": 43,
   "id": "2881c72c-c796-4def-8749-3a4adfa5f56c",
   "metadata": {},
   "outputs": [
    {
     "data": {
      "text/plain": [
       "('numerical',\n",
       " Pipeline(steps=[('imputer', SimpleImputer()), ('scaler', StandardScaler())]),\n",
       " ['car_rating', 'year_to_start', 'riders', 'year_to_work'])"
      ]
     },
     "execution_count": 43,
     "metadata": {},
     "output_type": "execute_result"
    }
   ],
   "source": [
    "preprocessor.transformers[0]"
   ]
  },
  {
   "cell_type": "markdown",
   "id": "e77de579-4c28-4d90-b2a3-f1509c17c490",
   "metadata": {},
   "source": [
    "# <center> 🎓🐊 Обучим ансамбль"
   ]
  },
  {
   "cell_type": "code",
   "execution_count": 44,
   "id": "bd673c24-1c8f-4260-b883-9ff6a644dc8e",
   "metadata": {},
   "outputs": [
    {
     "data": {
      "text/html": [
       "<style>#sk-c60a909c-97a8-44dc-a901-ab728d79e5b6 {color: black;background-color: white;}#sk-c60a909c-97a8-44dc-a901-ab728d79e5b6 pre{padding: 0;}#sk-c60a909c-97a8-44dc-a901-ab728d79e5b6 div.sk-toggleable {background-color: white;}#sk-c60a909c-97a8-44dc-a901-ab728d79e5b6 label.sk-toggleable__label {cursor: pointer;display: block;width: 100%;margin-bottom: 0;padding: 0.2em 0.3em;box-sizing: border-box;text-align: center;}#sk-c60a909c-97a8-44dc-a901-ab728d79e5b6 div.sk-toggleable__content {max-height: 0;max-width: 0;overflow: hidden;text-align: left;background-color: #f0f8ff;}#sk-c60a909c-97a8-44dc-a901-ab728d79e5b6 div.sk-toggleable__content pre {margin: 0.2em;color: black;border-radius: 0.25em;background-color: #f0f8ff;}#sk-c60a909c-97a8-44dc-a901-ab728d79e5b6 input.sk-toggleable__control:checked~div.sk-toggleable__content {max-height: 200px;max-width: 100%;overflow: auto;}#sk-c60a909c-97a8-44dc-a901-ab728d79e5b6 div.sk-estimator input.sk-toggleable__control:checked~label.sk-toggleable__label {background-color: #d4ebff;}#sk-c60a909c-97a8-44dc-a901-ab728d79e5b6 div.sk-label input.sk-toggleable__control:checked~label.sk-toggleable__label {background-color: #d4ebff;}#sk-c60a909c-97a8-44dc-a901-ab728d79e5b6 input.sk-hidden--visually {border: 0;clip: rect(1px 1px 1px 1px);clip: rect(1px, 1px, 1px, 1px);height: 1px;margin: -1px;overflow: hidden;padding: 0;position: absolute;width: 1px;}#sk-c60a909c-97a8-44dc-a901-ab728d79e5b6 div.sk-estimator {font-family: monospace;background-color: #f0f8ff;margin: 0.25em 0.25em;border: 1px dotted black;border-radius: 0.25em;box-sizing: border-box;}#sk-c60a909c-97a8-44dc-a901-ab728d79e5b6 div.sk-estimator:hover {background-color: #d4ebff;}#sk-c60a909c-97a8-44dc-a901-ab728d79e5b6 div.sk-parallel-item::after {content: \"\";width: 100%;border-bottom: 1px solid gray;flex-grow: 1;}#sk-c60a909c-97a8-44dc-a901-ab728d79e5b6 div.sk-label:hover label.sk-toggleable__label {background-color: #d4ebff;}#sk-c60a909c-97a8-44dc-a901-ab728d79e5b6 div.sk-serial::before {content: \"\";position: absolute;border-left: 1px solid gray;box-sizing: border-box;top: 2em;bottom: 0;left: 50%;}#sk-c60a909c-97a8-44dc-a901-ab728d79e5b6 div.sk-serial {display: flex;flex-direction: column;align-items: center;background-color: white;}#sk-c60a909c-97a8-44dc-a901-ab728d79e5b6 div.sk-item {z-index: 1;}#sk-c60a909c-97a8-44dc-a901-ab728d79e5b6 div.sk-parallel {display: flex;align-items: stretch;justify-content: center;background-color: white;}#sk-c60a909c-97a8-44dc-a901-ab728d79e5b6 div.sk-parallel-item {display: flex;flex-direction: column;position: relative;background-color: white;}#sk-c60a909c-97a8-44dc-a901-ab728d79e5b6 div.sk-parallel-item:first-child::after {align-self: flex-end;width: 50%;}#sk-c60a909c-97a8-44dc-a901-ab728d79e5b6 div.sk-parallel-item:last-child::after {align-self: flex-start;width: 50%;}#sk-c60a909c-97a8-44dc-a901-ab728d79e5b6 div.sk-parallel-item:only-child::after {width: 0;}#sk-c60a909c-97a8-44dc-a901-ab728d79e5b6 div.sk-dashed-wrapped {border: 1px dashed gray;margin: 0.2em;box-sizing: border-box;padding-bottom: 0.1em;background-color: white;position: relative;}#sk-c60a909c-97a8-44dc-a901-ab728d79e5b6 div.sk-label label {font-family: monospace;font-weight: bold;background-color: white;display: inline-block;line-height: 1.2em;}#sk-c60a909c-97a8-44dc-a901-ab728d79e5b6 div.sk-label-container {position: relative;z-index: 2;text-align: center;}#sk-c60a909c-97a8-44dc-a901-ab728d79e5b6 div.sk-container {display: inline-block;position: relative;}</style><div id=\"sk-c60a909c-97a8-44dc-a901-ab728d79e5b6\" class\"sk-top-container\"><div class=\"sk-container\"><div class=\"sk-item sk-dashed-wrapped\"><div class=\"sk-label-container\"><div class=\"sk-label sk-toggleable\"><input class=\"sk-toggleable__control sk-hidden--visually\" id=\"95736e8a-760e-4e78-a8b7-7b264b681bf5\" type=\"checkbox\" ><label class=\"sk-toggleable__label\" for=\"95736e8a-760e-4e78-a8b7-7b264b681bf5\">StackingClassifier</label><div class=\"sk-toggleable__content\"><pre>StackingClassifier(estimators=[('random_forest',\n",
       "                                Pipeline(steps=[('columntransformer',\n",
       "                                                 ColumnTransformer(transformers=[('numerical',\n",
       "                                                                                  Pipeline(steps=[('imputer',\n",
       "                                                                                                   SimpleImputer()),\n",
       "                                                                                                  ('scaler',\n",
       "                                                                                                   StandardScaler())]),\n",
       "                                                                                  ['car_rating',\n",
       "                                                                                   'year_to_start',\n",
       "                                                                                   'riders',\n",
       "                                                                                   'year_to_work']),\n",
       "                                                                                 ('categorical',\n",
       "                                                                                  Pipeline(steps=[('imputer',\n",
       "                                                                                                   SimpleImputer(strategy='most_frequent')),\n",
       "                                                                                                  ('oneho...\n",
       "                                                               objective='reg:linear', ...))])),\n",
       "                               ('lightgbm',\n",
       "                                LGBMClassifier(categorical_feature=[1, 2, 3],\n",
       "                                               feature_fraction=0.95,\n",
       "                                               learning_rate=0.053, max_depth=7,\n",
       "                                               min_child_samples=1073,\n",
       "                                               min_data_in_leaf=2,\n",
       "                                               n_estimators=480,\n",
       "                                               num_leaves=887)),\n",
       "                               ('catboost',\n",
       "                                <catboost.core.CatBoostClassifier object at 0x7f4e5ee82040>)],\n",
       "                   final_estimator=LogisticRegression(verbose=False), n_jobs=-1,\n",
       "                   verbose=False)</pre></div></div></div><div class=\"sk-serial\"><div class=\"sk-item\"><div class=\"sk-serial\"><div class=\"sk-item\"><div class=\"sk-parallel\"><div class=\"sk-parallel-item\"><div class=\"sk-item\"><div class=\"sk-label-container\"><div class=\"sk-label sk-toggleable\"><label>random_forest</label></div></div><div class=\"sk-serial\"><div class=\"sk-item\"><div class=\"sk-serial\"><div class=\"sk-item sk-dashed-wrapped\"><div class=\"sk-label-container\"><div class=\"sk-label sk-toggleable\"><input class=\"sk-toggleable__control sk-hidden--visually\" id=\"9b609268-ab9b-44fc-9a1c-008d590b86e3\" type=\"checkbox\" ><label class=\"sk-toggleable__label\" for=\"9b609268-ab9b-44fc-9a1c-008d590b86e3\">columntransformer: ColumnTransformer</label><div class=\"sk-toggleable__content\"><pre>ColumnTransformer(transformers=[('numerical',\n",
       "                                 Pipeline(steps=[('imputer', SimpleImputer()),\n",
       "                                                 ('scaler', StandardScaler())]),\n",
       "                                 ['car_rating', 'year_to_start', 'riders',\n",
       "                                  'year_to_work']),\n",
       "                                ('categorical',\n",
       "                                 Pipeline(steps=[('imputer',\n",
       "                                                  SimpleImputer(strategy='most_frequent')),\n",
       "                                                 ('onehot',\n",
       "                                                  OneHotEncoder(handle_unknown='ignore'))]),\n",
       "                                 ['model', 'car_type', 'fuel_type'])])</pre></div></div></div><div class=\"sk-parallel\"><div class=\"sk-parallel-item\"><div class=\"sk-item\"><div class=\"sk-label-container\"><div class=\"sk-label sk-toggleable\"><input class=\"sk-toggleable__control sk-hidden--visually\" id=\"9366ac54-0639-441e-9f44-ce07e0ccec4e\" type=\"checkbox\" ><label class=\"sk-toggleable__label\" for=\"9366ac54-0639-441e-9f44-ce07e0ccec4e\">numerical</label><div class=\"sk-toggleable__content\"><pre>['car_rating', 'year_to_start', 'riders', 'year_to_work']</pre></div></div></div><div class=\"sk-serial\"><div class=\"sk-item\"><div class=\"sk-serial\"><div class=\"sk-item\"><div class=\"sk-estimator sk-toggleable\"><input class=\"sk-toggleable__control sk-hidden--visually\" id=\"4616d609-79a2-499d-9767-98b5902e735c\" type=\"checkbox\" ><label class=\"sk-toggleable__label\" for=\"4616d609-79a2-499d-9767-98b5902e735c\">SimpleImputer</label><div class=\"sk-toggleable__content\"><pre>SimpleImputer()</pre></div></div></div><div class=\"sk-item\"><div class=\"sk-estimator sk-toggleable\"><input class=\"sk-toggleable__control sk-hidden--visually\" id=\"86f2ab08-e25c-4227-9181-4303e25402a6\" type=\"checkbox\" ><label class=\"sk-toggleable__label\" for=\"86f2ab08-e25c-4227-9181-4303e25402a6\">StandardScaler</label><div class=\"sk-toggleable__content\"><pre>StandardScaler()</pre></div></div></div></div></div></div></div></div><div class=\"sk-parallel-item\"><div class=\"sk-item\"><div class=\"sk-label-container\"><div class=\"sk-label sk-toggleable\"><input class=\"sk-toggleable__control sk-hidden--visually\" id=\"1eff65ee-73d0-49fa-99a6-ed104c74e6fa\" type=\"checkbox\" ><label class=\"sk-toggleable__label\" for=\"1eff65ee-73d0-49fa-99a6-ed104c74e6fa\">categorical</label><div class=\"sk-toggleable__content\"><pre>['model', 'car_type', 'fuel_type']</pre></div></div></div><div class=\"sk-serial\"><div class=\"sk-item\"><div class=\"sk-serial\"><div class=\"sk-item\"><div class=\"sk-estimator sk-toggleable\"><input class=\"sk-toggleable__control sk-hidden--visually\" id=\"7bff9018-c3fa-4969-b710-77370914783a\" type=\"checkbox\" ><label class=\"sk-toggleable__label\" for=\"7bff9018-c3fa-4969-b710-77370914783a\">SimpleImputer</label><div class=\"sk-toggleable__content\"><pre>SimpleImputer(strategy='most_frequent')</pre></div></div></div><div class=\"sk-item\"><div class=\"sk-estimator sk-toggleable\"><input class=\"sk-toggleable__control sk-hidden--visually\" id=\"ce472179-8104-4aad-bed4-1c6e6d9d0877\" type=\"checkbox\" ><label class=\"sk-toggleable__label\" for=\"ce472179-8104-4aad-bed4-1c6e6d9d0877\">OneHotEncoder</label><div class=\"sk-toggleable__content\"><pre>OneHotEncoder(handle_unknown='ignore')</pre></div></div></div></div></div></div></div></div></div></div><div class=\"sk-item\"><div class=\"sk-estimator sk-toggleable\"><input class=\"sk-toggleable__control sk-hidden--visually\" id=\"0d55fb63-8814-42e8-810a-33de7a41a474\" type=\"checkbox\" ><label class=\"sk-toggleable__label\" for=\"0d55fb63-8814-42e8-810a-33de7a41a474\">RandomForestClassifier</label><div class=\"sk-toggleable__content\"><pre>RandomForestClassifier(n_jobs=-1, verbose=False)</pre></div></div></div></div></div></div></div></div><div class=\"sk-parallel-item\"><div class=\"sk-item\"><div class=\"sk-label-container\"><div class=\"sk-label sk-toggleable\"><label>xgboost</label></div></div><div class=\"sk-serial\"><div class=\"sk-item\"><div class=\"sk-serial\"><div class=\"sk-item sk-dashed-wrapped\"><div class=\"sk-label-container\"><div class=\"sk-label sk-toggleable\"><input class=\"sk-toggleable__control sk-hidden--visually\" id=\"d2357ccd-1810-40b9-8493-2d304e92f84f\" type=\"checkbox\" ><label class=\"sk-toggleable__label\" for=\"d2357ccd-1810-40b9-8493-2d304e92f84f\">columntransformer: ColumnTransformer</label><div class=\"sk-toggleable__content\"><pre>ColumnTransformer(transformers=[('numerical',\n",
       "                                 Pipeline(steps=[('imputer', SimpleImputer()),\n",
       "                                                 ('scaler', StandardScaler())]),\n",
       "                                 ['car_rating', 'year_to_start', 'riders',\n",
       "                                  'year_to_work']),\n",
       "                                ('categorical',\n",
       "                                 Pipeline(steps=[('imputer',\n",
       "                                                  SimpleImputer(strategy='most_frequent')),\n",
       "                                                 ('onehot',\n",
       "                                                  OneHotEncoder(handle_unknown='ignore'))]),\n",
       "                                 ['model', 'car_type', 'fuel_type'])])</pre></div></div></div><div class=\"sk-parallel\"><div class=\"sk-parallel-item\"><div class=\"sk-item\"><div class=\"sk-label-container\"><div class=\"sk-label sk-toggleable\"><input class=\"sk-toggleable__control sk-hidden--visually\" id=\"6f655be9-e6ee-4598-be11-1acbdd0c28be\" type=\"checkbox\" ><label class=\"sk-toggleable__label\" for=\"6f655be9-e6ee-4598-be11-1acbdd0c28be\">numerical</label><div class=\"sk-toggleable__content\"><pre>['car_rating', 'year_to_start', 'riders', 'year_to_work']</pre></div></div></div><div class=\"sk-serial\"><div class=\"sk-item\"><div class=\"sk-serial\"><div class=\"sk-item\"><div class=\"sk-estimator sk-toggleable\"><input class=\"sk-toggleable__control sk-hidden--visually\" id=\"4d832f82-86be-4533-81c0-2188d70f2c94\" type=\"checkbox\" ><label class=\"sk-toggleable__label\" for=\"4d832f82-86be-4533-81c0-2188d70f2c94\">SimpleImputer</label><div class=\"sk-toggleable__content\"><pre>SimpleImputer()</pre></div></div></div><div class=\"sk-item\"><div class=\"sk-estimator sk-toggleable\"><input class=\"sk-toggleable__control sk-hidden--visually\" id=\"5f28ed7b-f540-45ce-a4ec-5d941de5cae4\" type=\"checkbox\" ><label class=\"sk-toggleable__label\" for=\"5f28ed7b-f540-45ce-a4ec-5d941de5cae4\">StandardScaler</label><div class=\"sk-toggleable__content\"><pre>StandardScaler()</pre></div></div></div></div></div></div></div></div><div class=\"sk-parallel-item\"><div class=\"sk-item\"><div class=\"sk-label-container\"><div class=\"sk-label sk-toggleable\"><input class=\"sk-toggleable__control sk-hidden--visually\" id=\"023476c5-4c53-42f7-bd51-7685a68f38a8\" type=\"checkbox\" ><label class=\"sk-toggleable__label\" for=\"023476c5-4c53-42f7-bd51-7685a68f38a8\">categorical</label><div class=\"sk-toggleable__content\"><pre>['model', 'car_type', 'fuel_type']</pre></div></div></div><div class=\"sk-serial\"><div class=\"sk-item\"><div class=\"sk-serial\"><div class=\"sk-item\"><div class=\"sk-estimator sk-toggleable\"><input class=\"sk-toggleable__control sk-hidden--visually\" id=\"203f9704-f93f-4245-a122-6f589120842f\" type=\"checkbox\" ><label class=\"sk-toggleable__label\" for=\"203f9704-f93f-4245-a122-6f589120842f\">SimpleImputer</label><div class=\"sk-toggleable__content\"><pre>SimpleImputer(strategy='most_frequent')</pre></div></div></div><div class=\"sk-item\"><div class=\"sk-estimator sk-toggleable\"><input class=\"sk-toggleable__control sk-hidden--visually\" id=\"c98cee5e-35c0-4001-af7b-d6faf1fe8fb9\" type=\"checkbox\" ><label class=\"sk-toggleable__label\" for=\"c98cee5e-35c0-4001-af7b-d6faf1fe8fb9\">OneHotEncoder</label><div class=\"sk-toggleable__content\"><pre>OneHotEncoder(handle_unknown='ignore')</pre></div></div></div></div></div></div></div></div></div></div><div class=\"sk-item\"><div class=\"sk-estimator sk-toggleable\"><input class=\"sk-toggleable__control sk-hidden--visually\" id=\"4476677a-473d-4661-9f1a-3f02f12849ca\" type=\"checkbox\" ><label class=\"sk-toggleable__label\" for=\"4476677a-473d-4661-9f1a-3f02f12849ca\">XGBClassifier</label><div class=\"sk-toggleable__content\"><pre>XGBClassifier(base_score=None, booster=None, callbacks=None,\n",
       "              colsample_bylevel=None, colsample_bynode=None,\n",
       "              colsample_bytree=None, early_stopping_rounds=None,\n",
       "              enable_categorical=False, eta=0.05, eval_metric=None,\n",
       "              feature_types=None, gamma=None, gpu_id=None, grow_policy=None,\n",
       "              importance_type=None, interaction_constraints=None,\n",
       "              learning_rate=None, max_bin=None, max_cat_threshold=None,\n",
       "              max_cat_to_onehot=None, max_delta_step=None, max_depth=5,\n",
       "              max_leaves=None, min_child_weight=None, missing=nan,\n",
       "              monotone_constraints=None, n_estimators=100, n_jobs=None,\n",
       "              num_parallel_tree=None, objective='reg:linear', ...)</pre></div></div></div></div></div></div></div></div><div class=\"sk-parallel-item\"><div class=\"sk-item\"><div class=\"sk-label-container\"><div class=\"sk-label sk-toggleable\"><label>lightgbm</label></div></div><div class=\"sk-serial\"><div class=\"sk-item\"><div class=\"sk-estimator sk-toggleable\"><input class=\"sk-toggleable__control sk-hidden--visually\" id=\"890c5912-5af0-4842-b6b7-be3842cba7c5\" type=\"checkbox\" ><label class=\"sk-toggleable__label\" for=\"890c5912-5af0-4842-b6b7-be3842cba7c5\">LGBMClassifier</label><div class=\"sk-toggleable__content\"><pre>LGBMClassifier(categorical_feature=[1, 2, 3], feature_fraction=0.95,\n",
       "               learning_rate=0.053, max_depth=7, min_child_samples=1073,\n",
       "               min_data_in_leaf=2, n_estimators=480, num_leaves=887)</pre></div></div></div></div></div></div><div class=\"sk-parallel-item\"><div class=\"sk-item\"><div class=\"sk-label-container\"><div class=\"sk-label sk-toggleable\"><label>catboost</label></div></div><div class=\"sk-serial\"><div class=\"sk-item\"><div class=\"sk-estimator sk-toggleable\"><input class=\"sk-toggleable__control sk-hidden--visually\" id=\"4bd133a4-8929-4624-a2cf-c7486fac1c24\" type=\"checkbox\" ><label class=\"sk-toggleable__label\" for=\"4bd133a4-8929-4624-a2cf-c7486fac1c24\">CatBoostClassifier</label><div class=\"sk-toggleable__content\"><pre><catboost.core.CatBoostClassifier object at 0x7f4e5ee82040></pre></div></div></div></div></div></div></div></div><div class=\"sk-item\"><div class=\"sk-estimator sk-toggleable\"><input class=\"sk-toggleable__control sk-hidden--visually\" id=\"11bcbdda-e062-4dff-be18-28a58c42abf3\" type=\"checkbox\" ><label class=\"sk-toggleable__label\" for=\"11bcbdda-e062-4dff-be18-28a58c42abf3\">LogisticRegression</label><div class=\"sk-toggleable__content\"><pre>LogisticRegression(verbose=False)</pre></div></div></div></div></div></div></div></div></div>"
      ],
      "text/plain": [
       "StackingClassifier(estimators=[('random_forest',\n",
       "                                Pipeline(steps=[('columntransformer',\n",
       "                                                 ColumnTransformer(transformers=[('numerical',\n",
       "                                                                                  Pipeline(steps=[('imputer',\n",
       "                                                                                                   SimpleImputer()),\n",
       "                                                                                                  ('scaler',\n",
       "                                                                                                   StandardScaler())]),\n",
       "                                                                                  ['car_rating',\n",
       "                                                                                   'year_to_start',\n",
       "                                                                                   'riders',\n",
       "                                                                                   'year_to_work']),\n",
       "                                                                                 ('categorical',\n",
       "                                                                                  Pipeline(steps=[('imputer',\n",
       "                                                                                                   SimpleImputer(strategy='most_frequent')),\n",
       "                                                                                                  ('oneho...\n",
       "                                                               objective='reg:linear', ...))])),\n",
       "                               ('lightgbm',\n",
       "                                LGBMClassifier(categorical_feature=[1, 2, 3],\n",
       "                                               feature_fraction=0.95,\n",
       "                                               learning_rate=0.053, max_depth=7,\n",
       "                                               min_child_samples=1073,\n",
       "                                               min_data_in_leaf=2,\n",
       "                                               n_estimators=480,\n",
       "                                               num_leaves=887)),\n",
       "                               ('catboost',\n",
       "                                <catboost.core.CatBoostClassifier object at 0x7f4e5ee82040>)],\n",
       "                   final_estimator=LogisticRegression(verbose=False), n_jobs=-1,\n",
       "                   verbose=False)"
      ]
     },
     "execution_count": 44,
     "metadata": {},
     "output_type": "execute_result"
    }
   ],
   "source": [
    "# список базовых моделей\n",
    "estimators = [\n",
    "    # (\"svm\", make_pipeline(preprocessor, LinearSVC(verbose=False))),\n",
    "    (\"random_forest\",  make_pipeline(preprocessor, RandomForestClassifier(n_jobs=-1, verbose=False))),\n",
    "    (\"xgboost\",  make_pipeline(preprocessor, xgb_model)),\n",
    "    \n",
    "    # (\"xgboost\", xgb_model),\n",
    "    (\"lightgbm\", lgbm_model),\n",
    "    (\"catboost\", cat_model),\n",
    "]\n",
    "\n",
    "# в качестве мета-модели будем использовать LogisticRegression\n",
    "meta_model = StackingClassifier(\n",
    "    estimators=estimators,\n",
    "    final_estimator=LogisticRegression(verbose=False),\n",
    "    n_jobs=-1,\n",
    "    verbose=False,\n",
    ")\n",
    "\n",
    "stacking_classifier = meta_model\n",
    "stacking_classifier"
   ]
  },
  {
   "cell_type": "code",
   "execution_count": 45,
   "id": "70aa214e-d6c6-4032-bc27-d3e53e3e2442",
   "metadata": {},
   "outputs": [
    {
     "name": "stderr",
     "output_type": "stream",
     "text": [
      "/home/jovyan/.local/lib/python3.9/site-packages/sklearn/impute/_base.py:49: FutureWarning: Unlike other reduction functions (e.g. `skew`, `kurtosis`), the default behavior of `mode` typically preserves the axis it acts along. In SciPy 1.11.0, this behavior will change: the default value of `keepdims` will become False, the `axis` over which the statistic is taken will be eliminated, and the value None will no longer be accepted. Set `keepdims` to True or False to avoid this warning.\n",
      "  mode = stats.mode(array)\n",
      "/home/jovyan/.local/lib/python3.9/site-packages/sklearn/impute/_base.py:49: FutureWarning: Unlike other reduction functions (e.g. `skew`, `kurtosis`), the default behavior of `mode` typically preserves the axis it acts along. In SciPy 1.11.0, this behavior will change: the default value of `keepdims` will become False, the `axis` over which the statistic is taken will be eliminated, and the value None will no longer be accepted. Set `keepdims` to True or False to avoid this warning.\n",
      "  mode = stats.mode(array)\n",
      "/home/jovyan/.local/lib/python3.9/site-packages/lightgbm/basic.py:1222: UserWarning: categorical_feature keyword has been found in `params` and will be ignored.\n",
      "Please use categorical_feature argument of the Dataset constructor to pass this parameter.\n",
      "  _log_warning('{0} keyword has been found in `params` and will be ignored.\\n'\n",
      "/home/jovyan/.local/lib/python3.9/site-packages/lightgbm/basic.py:1245: UserWarning: categorical_feature in param dict is overridden.\n",
      "  _log_warning('{} in param dict is overridden.'.format(cat_alias))\n",
      "/home/jovyan/.local/lib/python3.9/site-packages/sklearn/impute/_base.py:49: FutureWarning: Unlike other reduction functions (e.g. `skew`, `kurtosis`), the default behavior of `mode` typically preserves the axis it acts along. In SciPy 1.11.0, this behavior will change: the default value of `keepdims` will become False, the `axis` over which the statistic is taken will be eliminated, and the value None will no longer be accepted. Set `keepdims` to True or False to avoid this warning.\n",
      "  mode = stats.mode(array)\n",
      "/home/jovyan/.local/lib/python3.9/site-packages/sklearn/impute/_base.py:49: FutureWarning: Unlike other reduction functions (e.g. `skew`, `kurtosis`), the default behavior of `mode` typically preserves the axis it acts along. In SciPy 1.11.0, this behavior will change: the default value of `keepdims` will become False, the `axis` over which the statistic is taken will be eliminated, and the value None will no longer be accepted. Set `keepdims` to True or False to avoid this warning.\n",
      "  mode = stats.mode(array)\n",
      "/home/jovyan/.local/lib/python3.9/site-packages/sklearn/impute/_base.py:49: FutureWarning: Unlike other reduction functions (e.g. `skew`, `kurtosis`), the default behavior of `mode` typically preserves the axis it acts along. In SciPy 1.11.0, this behavior will change: the default value of `keepdims` will become False, the `axis` over which the statistic is taken will be eliminated, and the value None will no longer be accepted. Set `keepdims` to True or False to avoid this warning.\n",
      "  mode = stats.mode(array)\n",
      "/home/jovyan/.local/lib/python3.9/site-packages/sklearn/impute/_base.py:49: FutureWarning: Unlike other reduction functions (e.g. `skew`, `kurtosis`), the default behavior of `mode` typically preserves the axis it acts along. In SciPy 1.11.0, this behavior will change: the default value of `keepdims` will become False, the `axis` over which the statistic is taken will be eliminated, and the value None will no longer be accepted. Set `keepdims` to True or False to avoid this warning.\n",
      "  mode = stats.mode(array)\n",
      "/home/jovyan/.local/lib/python3.9/site-packages/sklearn/impute/_base.py:49: FutureWarning: Unlike other reduction functions (e.g. `skew`, `kurtosis`), the default behavior of `mode` typically preserves the axis it acts along. In SciPy 1.11.0, this behavior will change: the default value of `keepdims` will become False, the `axis` over which the statistic is taken will be eliminated, and the value None will no longer be accepted. Set `keepdims` to True or False to avoid this warning.\n",
      "  mode = stats.mode(array)\n",
      "/home/jovyan/.local/lib/python3.9/site-packages/sklearn/impute/_base.py:49: FutureWarning: Unlike other reduction functions (e.g. `skew`, `kurtosis`), the default behavior of `mode` typically preserves the axis it acts along. In SciPy 1.11.0, this behavior will change: the default value of `keepdims` will become False, the `axis` over which the statistic is taken will be eliminated, and the value None will no longer be accepted. Set `keepdims` to True or False to avoid this warning.\n",
      "  mode = stats.mode(array)\n",
      "/home/jovyan/.local/lib/python3.9/site-packages/sklearn/impute/_base.py:49: FutureWarning: Unlike other reduction functions (e.g. `skew`, `kurtosis`), the default behavior of `mode` typically preserves the axis it acts along. In SciPy 1.11.0, this behavior will change: the default value of `keepdims` will become False, the `axis` over which the statistic is taken will be eliminated, and the value None will no longer be accepted. Set `keepdims` to True or False to avoid this warning.\n",
      "  mode = stats.mode(array)\n",
      "/home/jovyan/.local/lib/python3.9/site-packages/sklearn/impute/_base.py:49: FutureWarning: Unlike other reduction functions (e.g. `skew`, `kurtosis`), the default behavior of `mode` typically preserves the axis it acts along. In SciPy 1.11.0, this behavior will change: the default value of `keepdims` will become False, the `axis` over which the statistic is taken will be eliminated, and the value None will no longer be accepted. Set `keepdims` to True or False to avoid this warning.\n",
      "  mode = stats.mode(array)\n",
      "/home/jovyan/.local/lib/python3.9/site-packages/sklearn/impute/_base.py:49: FutureWarning: Unlike other reduction functions (e.g. `skew`, `kurtosis`), the default behavior of `mode` typically preserves the axis it acts along. In SciPy 1.11.0, this behavior will change: the default value of `keepdims` will become False, the `axis` over which the statistic is taken will be eliminated, and the value None will no longer be accepted. Set `keepdims` to True or False to avoid this warning.\n",
      "  mode = stats.mode(array)\n",
      "/home/jovyan/.local/lib/python3.9/site-packages/sklearn/impute/_base.py:49: FutureWarning: Unlike other reduction functions (e.g. `skew`, `kurtosis`), the default behavior of `mode` typically preserves the axis it acts along. In SciPy 1.11.0, this behavior will change: the default value of `keepdims` will become False, the `axis` over which the statistic is taken will be eliminated, and the value None will no longer be accepted. Set `keepdims` to True or False to avoid this warning.\n",
      "  mode = stats.mode(array)\n",
      "/home/jovyan/.local/lib/python3.9/site-packages/sklearn/impute/_base.py:49: FutureWarning: Unlike other reduction functions (e.g. `skew`, `kurtosis`), the default behavior of `mode` typically preserves the axis it acts along. In SciPy 1.11.0, this behavior will change: the default value of `keepdims` will become False, the `axis` over which the statistic is taken will be eliminated, and the value None will no longer be accepted. Set `keepdims` to True or False to avoid this warning.\n",
      "  mode = stats.mode(array)\n",
      "/home/jovyan/.local/lib/python3.9/site-packages/sklearn/impute/_base.py:49: FutureWarning: Unlike other reduction functions (e.g. `skew`, `kurtosis`), the default behavior of `mode` typically preserves the axis it acts along. In SciPy 1.11.0, this behavior will change: the default value of `keepdims` will become False, the `axis` over which the statistic is taken will be eliminated, and the value None will no longer be accepted. Set `keepdims` to True or False to avoid this warning.\n",
      "  mode = stats.mode(array)\n",
      "/home/jovyan/.local/lib/python3.9/site-packages/sklearn/impute/_base.py:49: FutureWarning: Unlike other reduction functions (e.g. `skew`, `kurtosis`), the default behavior of `mode` typically preserves the axis it acts along. In SciPy 1.11.0, this behavior will change: the default value of `keepdims` will become False, the `axis` over which the statistic is taken will be eliminated, and the value None will no longer be accepted. Set `keepdims` to True or False to avoid this warning.\n",
      "  mode = stats.mode(array)\n",
      "/home/jovyan/.local/lib/python3.9/site-packages/sklearn/impute/_base.py:49: FutureWarning: Unlike other reduction functions (e.g. `skew`, `kurtosis`), the default behavior of `mode` typically preserves the axis it acts along. In SciPy 1.11.0, this behavior will change: the default value of `keepdims` will become False, the `axis` over which the statistic is taken will be eliminated, and the value None will no longer be accepted. Set `keepdims` to True or False to avoid this warning.\n",
      "  mode = stats.mode(array)\n",
      "/home/jovyan/.local/lib/python3.9/site-packages/sklearn/impute/_base.py:49: FutureWarning: Unlike other reduction functions (e.g. `skew`, `kurtosis`), the default behavior of `mode` typically preserves the axis it acts along. In SciPy 1.11.0, this behavior will change: the default value of `keepdims` will become False, the `axis` over which the statistic is taken will be eliminated, and the value None will no longer be accepted. Set `keepdims` to True or False to avoid this warning.\n",
      "  mode = stats.mode(array)\n",
      "/home/jovyan/.local/lib/python3.9/site-packages/sklearn/impute/_base.py:49: FutureWarning: Unlike other reduction functions (e.g. `skew`, `kurtosis`), the default behavior of `mode` typically preserves the axis it acts along. In SciPy 1.11.0, this behavior will change: the default value of `keepdims` will become False, the `axis` over which the statistic is taken will be eliminated, and the value None will no longer be accepted. Set `keepdims` to True or False to avoid this warning.\n",
      "  mode = stats.mode(array)\n",
      "/home/jovyan/.local/lib/python3.9/site-packages/sklearn/impute/_base.py:49: FutureWarning: Unlike other reduction functions (e.g. `skew`, `kurtosis`), the default behavior of `mode` typically preserves the axis it acts along. In SciPy 1.11.0, this behavior will change: the default value of `keepdims` will become False, the `axis` over which the statistic is taken will be eliminated, and the value None will no longer be accepted. Set `keepdims` to True or False to avoid this warning.\n",
      "  mode = stats.mode(array)\n",
      "/home/jovyan/.local/lib/python3.9/site-packages/sklearn/impute/_base.py:49: FutureWarning: Unlike other reduction functions (e.g. `skew`, `kurtosis`), the default behavior of `mode` typically preserves the axis it acts along. In SciPy 1.11.0, this behavior will change: the default value of `keepdims` will become False, the `axis` over which the statistic is taken will be eliminated, and the value None will no longer be accepted. Set `keepdims` to True or False to avoid this warning.\n",
      "  mode = stats.mode(array)\n",
      "/home/jovyan/.local/lib/python3.9/site-packages/lightgbm/basic.py:1222: UserWarning: categorical_feature keyword has been found in `params` and will be ignored.\n",
      "Please use categorical_feature argument of the Dataset constructor to pass this parameter.\n",
      "  _log_warning('{0} keyword has been found in `params` and will be ignored.\\n'\n",
      "/home/jovyan/.local/lib/python3.9/site-packages/lightgbm/basic.py:1245: UserWarning: categorical_feature in param dict is overridden.\n",
      "  _log_warning('{} in param dict is overridden.'.format(cat_alias))\n",
      "/home/jovyan/.local/lib/python3.9/site-packages/lightgbm/basic.py:1222: UserWarning: categorical_feature keyword has been found in `params` and will be ignored.\n",
      "Please use categorical_feature argument of the Dataset constructor to pass this parameter.\n",
      "  _log_warning('{0} keyword has been found in `params` and will be ignored.\\n'\n"
     ]
    },
    {
     "name": "stdout",
     "output_type": "stream",
     "text": [
      "[LightGBM] [Warning] feature_fraction is set=0.95, colsample_bytree=1.0 will be ignored. Current value: feature_fraction=0.95\n",
      "[LightGBM] [Warning] min_data_in_leaf is set=2, min_child_samples=1073 will be ignored. Current value: min_data_in_leaf=2\n",
      "[LightGBM] [Warning] feature_fraction is set=0.95, colsample_bytree=1.0 will be ignored. Current value: feature_fraction=0.95\n",
      "[LightGBM] [Warning] min_data_in_leaf is set=2, min_child_samples=1073 will be ignored. Current value: min_data_in_leaf=2\n",
      "[LightGBM] [Warning] feature_fraction is set=0.95, colsample_bytree=1.0 will be ignored. Current value: feature_fraction=0.95\n",
      "[LightGBM] [Warning] min_data_in_leaf is set=2, min_child_samples=1073 will be ignored. Current value: min_data_in_leaf=2\n",
      "[LightGBM] [Warning] feature_fraction is set=0.95, colsample_bytree=1.0 will be ignored. Current value: feature_fraction=0.95\n",
      "[LightGBM] [Warning] min_data_in_leaf is set=2, min_child_samples=1073 will be ignored. Current value: min_data_in_leaf=2\n",
      "[LightGBM] [Warning] feature_fraction is set=0.95, colsample_bytree=1.0 will be ignored. Current value: feature_fraction=0.95\n",
      "[LightGBM] [Warning] min_data_in_leaf is set=2, min_child_samples=1073 will be ignored. Current value: min_data_in_leaf=2\n"
     ]
    },
    {
     "data": {
      "text/html": [
       "<style>#sk-9289453c-564c-4658-97f7-d1ac9f45257f {color: black;background-color: white;}#sk-9289453c-564c-4658-97f7-d1ac9f45257f pre{padding: 0;}#sk-9289453c-564c-4658-97f7-d1ac9f45257f div.sk-toggleable {background-color: white;}#sk-9289453c-564c-4658-97f7-d1ac9f45257f label.sk-toggleable__label {cursor: pointer;display: block;width: 100%;margin-bottom: 0;padding: 0.2em 0.3em;box-sizing: border-box;text-align: center;}#sk-9289453c-564c-4658-97f7-d1ac9f45257f div.sk-toggleable__content {max-height: 0;max-width: 0;overflow: hidden;text-align: left;background-color: #f0f8ff;}#sk-9289453c-564c-4658-97f7-d1ac9f45257f div.sk-toggleable__content pre {margin: 0.2em;color: black;border-radius: 0.25em;background-color: #f0f8ff;}#sk-9289453c-564c-4658-97f7-d1ac9f45257f input.sk-toggleable__control:checked~div.sk-toggleable__content {max-height: 200px;max-width: 100%;overflow: auto;}#sk-9289453c-564c-4658-97f7-d1ac9f45257f div.sk-estimator input.sk-toggleable__control:checked~label.sk-toggleable__label {background-color: #d4ebff;}#sk-9289453c-564c-4658-97f7-d1ac9f45257f div.sk-label input.sk-toggleable__control:checked~label.sk-toggleable__label {background-color: #d4ebff;}#sk-9289453c-564c-4658-97f7-d1ac9f45257f input.sk-hidden--visually {border: 0;clip: rect(1px 1px 1px 1px);clip: rect(1px, 1px, 1px, 1px);height: 1px;margin: -1px;overflow: hidden;padding: 0;position: absolute;width: 1px;}#sk-9289453c-564c-4658-97f7-d1ac9f45257f div.sk-estimator {font-family: monospace;background-color: #f0f8ff;margin: 0.25em 0.25em;border: 1px dotted black;border-radius: 0.25em;box-sizing: border-box;}#sk-9289453c-564c-4658-97f7-d1ac9f45257f div.sk-estimator:hover {background-color: #d4ebff;}#sk-9289453c-564c-4658-97f7-d1ac9f45257f div.sk-parallel-item::after {content: \"\";width: 100%;border-bottom: 1px solid gray;flex-grow: 1;}#sk-9289453c-564c-4658-97f7-d1ac9f45257f div.sk-label:hover label.sk-toggleable__label {background-color: #d4ebff;}#sk-9289453c-564c-4658-97f7-d1ac9f45257f div.sk-serial::before {content: \"\";position: absolute;border-left: 1px solid gray;box-sizing: border-box;top: 2em;bottom: 0;left: 50%;}#sk-9289453c-564c-4658-97f7-d1ac9f45257f div.sk-serial {display: flex;flex-direction: column;align-items: center;background-color: white;}#sk-9289453c-564c-4658-97f7-d1ac9f45257f div.sk-item {z-index: 1;}#sk-9289453c-564c-4658-97f7-d1ac9f45257f div.sk-parallel {display: flex;align-items: stretch;justify-content: center;background-color: white;}#sk-9289453c-564c-4658-97f7-d1ac9f45257f div.sk-parallel-item {display: flex;flex-direction: column;position: relative;background-color: white;}#sk-9289453c-564c-4658-97f7-d1ac9f45257f div.sk-parallel-item:first-child::after {align-self: flex-end;width: 50%;}#sk-9289453c-564c-4658-97f7-d1ac9f45257f div.sk-parallel-item:last-child::after {align-self: flex-start;width: 50%;}#sk-9289453c-564c-4658-97f7-d1ac9f45257f div.sk-parallel-item:only-child::after {width: 0;}#sk-9289453c-564c-4658-97f7-d1ac9f45257f div.sk-dashed-wrapped {border: 1px dashed gray;margin: 0.2em;box-sizing: border-box;padding-bottom: 0.1em;background-color: white;position: relative;}#sk-9289453c-564c-4658-97f7-d1ac9f45257f div.sk-label label {font-family: monospace;font-weight: bold;background-color: white;display: inline-block;line-height: 1.2em;}#sk-9289453c-564c-4658-97f7-d1ac9f45257f div.sk-label-container {position: relative;z-index: 2;text-align: center;}#sk-9289453c-564c-4658-97f7-d1ac9f45257f div.sk-container {display: inline-block;position: relative;}</style><div id=\"sk-9289453c-564c-4658-97f7-d1ac9f45257f\" class\"sk-top-container\"><div class=\"sk-container\"><div class=\"sk-item sk-dashed-wrapped\"><div class=\"sk-label-container\"><div class=\"sk-label sk-toggleable\"><input class=\"sk-toggleable__control sk-hidden--visually\" id=\"d096d316-96b9-4536-ba10-53f294bfeace\" type=\"checkbox\" ><label class=\"sk-toggleable__label\" for=\"d096d316-96b9-4536-ba10-53f294bfeace\">StackingClassifier</label><div class=\"sk-toggleable__content\"><pre>StackingClassifier(estimators=[('random_forest',\n",
       "                                Pipeline(steps=[('columntransformer',\n",
       "                                                 ColumnTransformer(transformers=[('numerical',\n",
       "                                                                                  Pipeline(steps=[('imputer',\n",
       "                                                                                                   SimpleImputer()),\n",
       "                                                                                                  ('scaler',\n",
       "                                                                                                   StandardScaler())]),\n",
       "                                                                                  ['car_rating',\n",
       "                                                                                   'year_to_start',\n",
       "                                                                                   'riders',\n",
       "                                                                                   'year_to_work']),\n",
       "                                                                                 ('categorical',\n",
       "                                                                                  Pipeline(steps=[('imputer',\n",
       "                                                                                                   SimpleImputer(strategy='most_frequent')),\n",
       "                                                                                                  ('oneho...\n",
       "                                                               objective='reg:linear', ...))])),\n",
       "                               ('lightgbm',\n",
       "                                LGBMClassifier(categorical_feature=[1, 2, 3],\n",
       "                                               feature_fraction=0.95,\n",
       "                                               learning_rate=0.053, max_depth=7,\n",
       "                                               min_child_samples=1073,\n",
       "                                               min_data_in_leaf=2,\n",
       "                                               n_estimators=480,\n",
       "                                               num_leaves=887)),\n",
       "                               ('catboost',\n",
       "                                <catboost.core.CatBoostClassifier object at 0x7f4e5ee82040>)],\n",
       "                   final_estimator=LogisticRegression(verbose=False), n_jobs=-1,\n",
       "                   verbose=False)</pre></div></div></div><div class=\"sk-serial\"><div class=\"sk-item\"><div class=\"sk-serial\"><div class=\"sk-item\"><div class=\"sk-parallel\"><div class=\"sk-parallel-item\"><div class=\"sk-item\"><div class=\"sk-label-container\"><div class=\"sk-label sk-toggleable\"><label>random_forest</label></div></div><div class=\"sk-serial\"><div class=\"sk-item\"><div class=\"sk-serial\"><div class=\"sk-item sk-dashed-wrapped\"><div class=\"sk-label-container\"><div class=\"sk-label sk-toggleable\"><input class=\"sk-toggleable__control sk-hidden--visually\" id=\"8b69d05e-13f3-4e63-ae78-fec4fa4dd247\" type=\"checkbox\" ><label class=\"sk-toggleable__label\" for=\"8b69d05e-13f3-4e63-ae78-fec4fa4dd247\">columntransformer: ColumnTransformer</label><div class=\"sk-toggleable__content\"><pre>ColumnTransformer(transformers=[('numerical',\n",
       "                                 Pipeline(steps=[('imputer', SimpleImputer()),\n",
       "                                                 ('scaler', StandardScaler())]),\n",
       "                                 ['car_rating', 'year_to_start', 'riders',\n",
       "                                  'year_to_work']),\n",
       "                                ('categorical',\n",
       "                                 Pipeline(steps=[('imputer',\n",
       "                                                  SimpleImputer(strategy='most_frequent')),\n",
       "                                                 ('onehot',\n",
       "                                                  OneHotEncoder(handle_unknown='ignore'))]),\n",
       "                                 ['model', 'car_type', 'fuel_type'])])</pre></div></div></div><div class=\"sk-parallel\"><div class=\"sk-parallel-item\"><div class=\"sk-item\"><div class=\"sk-label-container\"><div class=\"sk-label sk-toggleable\"><input class=\"sk-toggleable__control sk-hidden--visually\" id=\"4d4ceeb8-b7c5-4229-99c8-142e01ade4ff\" type=\"checkbox\" ><label class=\"sk-toggleable__label\" for=\"4d4ceeb8-b7c5-4229-99c8-142e01ade4ff\">numerical</label><div class=\"sk-toggleable__content\"><pre>['car_rating', 'year_to_start', 'riders', 'year_to_work']</pre></div></div></div><div class=\"sk-serial\"><div class=\"sk-item\"><div class=\"sk-serial\"><div class=\"sk-item\"><div class=\"sk-estimator sk-toggleable\"><input class=\"sk-toggleable__control sk-hidden--visually\" id=\"2477524f-5acc-4e0d-a954-a4b77089fc23\" type=\"checkbox\" ><label class=\"sk-toggleable__label\" for=\"2477524f-5acc-4e0d-a954-a4b77089fc23\">SimpleImputer</label><div class=\"sk-toggleable__content\"><pre>SimpleImputer()</pre></div></div></div><div class=\"sk-item\"><div class=\"sk-estimator sk-toggleable\"><input class=\"sk-toggleable__control sk-hidden--visually\" id=\"e94ca46a-1187-4f77-acc8-fcea098ef170\" type=\"checkbox\" ><label class=\"sk-toggleable__label\" for=\"e94ca46a-1187-4f77-acc8-fcea098ef170\">StandardScaler</label><div class=\"sk-toggleable__content\"><pre>StandardScaler()</pre></div></div></div></div></div></div></div></div><div class=\"sk-parallel-item\"><div class=\"sk-item\"><div class=\"sk-label-container\"><div class=\"sk-label sk-toggleable\"><input class=\"sk-toggleable__control sk-hidden--visually\" id=\"80efed30-9372-4566-b8f7-b108ef8956f9\" type=\"checkbox\" ><label class=\"sk-toggleable__label\" for=\"80efed30-9372-4566-b8f7-b108ef8956f9\">categorical</label><div class=\"sk-toggleable__content\"><pre>['model', 'car_type', 'fuel_type']</pre></div></div></div><div class=\"sk-serial\"><div class=\"sk-item\"><div class=\"sk-serial\"><div class=\"sk-item\"><div class=\"sk-estimator sk-toggleable\"><input class=\"sk-toggleable__control sk-hidden--visually\" id=\"f3913022-9ad7-4b14-bc9b-034219c1b665\" type=\"checkbox\" ><label class=\"sk-toggleable__label\" for=\"f3913022-9ad7-4b14-bc9b-034219c1b665\">SimpleImputer</label><div class=\"sk-toggleable__content\"><pre>SimpleImputer(strategy='most_frequent')</pre></div></div></div><div class=\"sk-item\"><div class=\"sk-estimator sk-toggleable\"><input class=\"sk-toggleable__control sk-hidden--visually\" id=\"8991b080-f96c-46af-abf5-fb483b6058ce\" type=\"checkbox\" ><label class=\"sk-toggleable__label\" for=\"8991b080-f96c-46af-abf5-fb483b6058ce\">OneHotEncoder</label><div class=\"sk-toggleable__content\"><pre>OneHotEncoder(handle_unknown='ignore')</pre></div></div></div></div></div></div></div></div></div></div><div class=\"sk-item\"><div class=\"sk-estimator sk-toggleable\"><input class=\"sk-toggleable__control sk-hidden--visually\" id=\"68db75bf-d6e9-4a99-a01f-1fa6c6882d32\" type=\"checkbox\" ><label class=\"sk-toggleable__label\" for=\"68db75bf-d6e9-4a99-a01f-1fa6c6882d32\">RandomForestClassifier</label><div class=\"sk-toggleable__content\"><pre>RandomForestClassifier(n_jobs=-1, verbose=False)</pre></div></div></div></div></div></div></div></div><div class=\"sk-parallel-item\"><div class=\"sk-item\"><div class=\"sk-label-container\"><div class=\"sk-label sk-toggleable\"><label>xgboost</label></div></div><div class=\"sk-serial\"><div class=\"sk-item\"><div class=\"sk-serial\"><div class=\"sk-item sk-dashed-wrapped\"><div class=\"sk-label-container\"><div class=\"sk-label sk-toggleable\"><input class=\"sk-toggleable__control sk-hidden--visually\" id=\"cd074d38-c0b7-47a7-979b-0bd542e0ed8a\" type=\"checkbox\" ><label class=\"sk-toggleable__label\" for=\"cd074d38-c0b7-47a7-979b-0bd542e0ed8a\">columntransformer: ColumnTransformer</label><div class=\"sk-toggleable__content\"><pre>ColumnTransformer(transformers=[('numerical',\n",
       "                                 Pipeline(steps=[('imputer', SimpleImputer()),\n",
       "                                                 ('scaler', StandardScaler())]),\n",
       "                                 ['car_rating', 'year_to_start', 'riders',\n",
       "                                  'year_to_work']),\n",
       "                                ('categorical',\n",
       "                                 Pipeline(steps=[('imputer',\n",
       "                                                  SimpleImputer(strategy='most_frequent')),\n",
       "                                                 ('onehot',\n",
       "                                                  OneHotEncoder(handle_unknown='ignore'))]),\n",
       "                                 ['model', 'car_type', 'fuel_type'])])</pre></div></div></div><div class=\"sk-parallel\"><div class=\"sk-parallel-item\"><div class=\"sk-item\"><div class=\"sk-label-container\"><div class=\"sk-label sk-toggleable\"><input class=\"sk-toggleable__control sk-hidden--visually\" id=\"639d7962-ff00-4248-976a-111357684fba\" type=\"checkbox\" ><label class=\"sk-toggleable__label\" for=\"639d7962-ff00-4248-976a-111357684fba\">numerical</label><div class=\"sk-toggleable__content\"><pre>['car_rating', 'year_to_start', 'riders', 'year_to_work']</pre></div></div></div><div class=\"sk-serial\"><div class=\"sk-item\"><div class=\"sk-serial\"><div class=\"sk-item\"><div class=\"sk-estimator sk-toggleable\"><input class=\"sk-toggleable__control sk-hidden--visually\" id=\"18ff0613-7260-4df5-8a59-d077eccb8f04\" type=\"checkbox\" ><label class=\"sk-toggleable__label\" for=\"18ff0613-7260-4df5-8a59-d077eccb8f04\">SimpleImputer</label><div class=\"sk-toggleable__content\"><pre>SimpleImputer()</pre></div></div></div><div class=\"sk-item\"><div class=\"sk-estimator sk-toggleable\"><input class=\"sk-toggleable__control sk-hidden--visually\" id=\"d2ee161b-d4b4-43ba-806e-1972f801bce9\" type=\"checkbox\" ><label class=\"sk-toggleable__label\" for=\"d2ee161b-d4b4-43ba-806e-1972f801bce9\">StandardScaler</label><div class=\"sk-toggleable__content\"><pre>StandardScaler()</pre></div></div></div></div></div></div></div></div><div class=\"sk-parallel-item\"><div class=\"sk-item\"><div class=\"sk-label-container\"><div class=\"sk-label sk-toggleable\"><input class=\"sk-toggleable__control sk-hidden--visually\" id=\"69e4d279-9f54-4aee-b12b-87b422195da3\" type=\"checkbox\" ><label class=\"sk-toggleable__label\" for=\"69e4d279-9f54-4aee-b12b-87b422195da3\">categorical</label><div class=\"sk-toggleable__content\"><pre>['model', 'car_type', 'fuel_type']</pre></div></div></div><div class=\"sk-serial\"><div class=\"sk-item\"><div class=\"sk-serial\"><div class=\"sk-item\"><div class=\"sk-estimator sk-toggleable\"><input class=\"sk-toggleable__control sk-hidden--visually\" id=\"2619effc-f0bb-4dbf-a33a-c6989cdfd4f2\" type=\"checkbox\" ><label class=\"sk-toggleable__label\" for=\"2619effc-f0bb-4dbf-a33a-c6989cdfd4f2\">SimpleImputer</label><div class=\"sk-toggleable__content\"><pre>SimpleImputer(strategy='most_frequent')</pre></div></div></div><div class=\"sk-item\"><div class=\"sk-estimator sk-toggleable\"><input class=\"sk-toggleable__control sk-hidden--visually\" id=\"96533d21-1cd5-4277-a52b-8be4d30cc25d\" type=\"checkbox\" ><label class=\"sk-toggleable__label\" for=\"96533d21-1cd5-4277-a52b-8be4d30cc25d\">OneHotEncoder</label><div class=\"sk-toggleable__content\"><pre>OneHotEncoder(handle_unknown='ignore')</pre></div></div></div></div></div></div></div></div></div></div><div class=\"sk-item\"><div class=\"sk-estimator sk-toggleable\"><input class=\"sk-toggleable__control sk-hidden--visually\" id=\"97bed4b1-92f7-457f-810e-533888611b2e\" type=\"checkbox\" ><label class=\"sk-toggleable__label\" for=\"97bed4b1-92f7-457f-810e-533888611b2e\">XGBClassifier</label><div class=\"sk-toggleable__content\"><pre>XGBClassifier(base_score=None, booster=None, callbacks=None,\n",
       "              colsample_bylevel=None, colsample_bynode=None,\n",
       "              colsample_bytree=None, early_stopping_rounds=None,\n",
       "              enable_categorical=False, eta=0.05, eval_metric=None,\n",
       "              feature_types=None, gamma=None, gpu_id=None, grow_policy=None,\n",
       "              importance_type=None, interaction_constraints=None,\n",
       "              learning_rate=None, max_bin=None, max_cat_threshold=None,\n",
       "              max_cat_to_onehot=None, max_delta_step=None, max_depth=5,\n",
       "              max_leaves=None, min_child_weight=None, missing=nan,\n",
       "              monotone_constraints=None, n_estimators=100, n_jobs=None,\n",
       "              num_parallel_tree=None, objective='reg:linear', ...)</pre></div></div></div></div></div></div></div></div><div class=\"sk-parallel-item\"><div class=\"sk-item\"><div class=\"sk-label-container\"><div class=\"sk-label sk-toggleable\"><label>lightgbm</label></div></div><div class=\"sk-serial\"><div class=\"sk-item\"><div class=\"sk-estimator sk-toggleable\"><input class=\"sk-toggleable__control sk-hidden--visually\" id=\"3ea315a3-47da-4673-a9fd-dd8380f63e01\" type=\"checkbox\" ><label class=\"sk-toggleable__label\" for=\"3ea315a3-47da-4673-a9fd-dd8380f63e01\">LGBMClassifier</label><div class=\"sk-toggleable__content\"><pre>LGBMClassifier(categorical_feature=[1, 2, 3], feature_fraction=0.95,\n",
       "               learning_rate=0.053, max_depth=7, min_child_samples=1073,\n",
       "               min_data_in_leaf=2, n_estimators=480, num_leaves=887)</pre></div></div></div></div></div></div><div class=\"sk-parallel-item\"><div class=\"sk-item\"><div class=\"sk-label-container\"><div class=\"sk-label sk-toggleable\"><label>catboost</label></div></div><div class=\"sk-serial\"><div class=\"sk-item\"><div class=\"sk-estimator sk-toggleable\"><input class=\"sk-toggleable__control sk-hidden--visually\" id=\"073a6d1c-c347-44e7-98d8-b7ceefe637a4\" type=\"checkbox\" ><label class=\"sk-toggleable__label\" for=\"073a6d1c-c347-44e7-98d8-b7ceefe637a4\">CatBoostClassifier</label><div class=\"sk-toggleable__content\"><pre><catboost.core.CatBoostClassifier object at 0x7f4e5ee82040></pre></div></div></div></div></div></div></div></div><div class=\"sk-item\"><div class=\"sk-estimator sk-toggleable\"><input class=\"sk-toggleable__control sk-hidden--visually\" id=\"f37efa31-e516-41ae-b310-ccd306a530eb\" type=\"checkbox\" ><label class=\"sk-toggleable__label\" for=\"f37efa31-e516-41ae-b310-ccd306a530eb\">LogisticRegression</label><div class=\"sk-toggleable__content\"><pre>LogisticRegression(verbose=False)</pre></div></div></div></div></div></div></div></div></div>"
      ],
      "text/plain": [
       "StackingClassifier(estimators=[('random_forest',\n",
       "                                Pipeline(steps=[('columntransformer',\n",
       "                                                 ColumnTransformer(transformers=[('numerical',\n",
       "                                                                                  Pipeline(steps=[('imputer',\n",
       "                                                                                                   SimpleImputer()),\n",
       "                                                                                                  ('scaler',\n",
       "                                                                                                   StandardScaler())]),\n",
       "                                                                                  ['car_rating',\n",
       "                                                                                   'year_to_start',\n",
       "                                                                                   'riders',\n",
       "                                                                                   'year_to_work']),\n",
       "                                                                                 ('categorical',\n",
       "                                                                                  Pipeline(steps=[('imputer',\n",
       "                                                                                                   SimpleImputer(strategy='most_frequent')),\n",
       "                                                                                                  ('oneho...\n",
       "                                                               objective='reg:linear', ...))])),\n",
       "                               ('lightgbm',\n",
       "                                LGBMClassifier(categorical_feature=[1, 2, 3],\n",
       "                                               feature_fraction=0.95,\n",
       "                                               learning_rate=0.053, max_depth=7,\n",
       "                                               min_child_samples=1073,\n",
       "                                               min_data_in_leaf=2,\n",
       "                                               n_estimators=480,\n",
       "                                               num_leaves=887)),\n",
       "                               ('catboost',\n",
       "                                <catboost.core.CatBoostClassifier object at 0x7f4e5ee82040>)],\n",
       "                   final_estimator=LogisticRegression(verbose=False), n_jobs=-1,\n",
       "                   verbose=False)"
      ]
     },
     "execution_count": 45,
     "metadata": {},
     "output_type": "execute_result"
    }
   ],
   "source": [
    "stacking_classifier.fit(X_train, y_train)"
   ]
  },
  {
   "cell_type": "code",
   "execution_count": 23,
   "id": "59a98387-5485-434f-8463-fc3a21bdabb6",
   "metadata": {},
   "outputs": [],
   "source": [
    "# for i in stacking_classifier.estimators:\n",
    "#     print(i[0])"
   ]
  },
  {
   "cell_type": "code",
   "execution_count": 24,
   "id": "b4d36607-bb9d-4dd7-bdda-841c11bb4203",
   "metadata": {},
   "outputs": [],
   "source": [
    "# dir(stacking_classifier)"
   ]
  },
  {
   "cell_type": "code",
   "execution_count": 46,
   "id": "cf3cfb54-c3a2-49d8-b83b-2a529a2fe84c",
   "metadata": {},
   "outputs": [
    {
     "name": "stdout",
     "output_type": "stream",
     "text": [
      "random_forest accuracy:  0.1145\n",
      "xgboost accuracy:  0.1179\n",
      "lightgbm accuracy:  0.1248\n",
      "catboost accuracy:  0.1128\n"
     ]
    }
   ],
   "source": [
    "for model, (name, _) in zip(stacking_classifier.estimators_, stacking_classifier.estimators):\n",
    "    preprocessed = stacking_classifier.estimators[0][1].steps[0][1].fit(X_train, y_train).transform(X_val)\n",
    "    print(name, 'accuracy: ', round(accuracy_score(model.predict(X_val), y_val), 4))"
   ]
  },
  {
   "cell_type": "code",
   "execution_count": 47,
   "id": "b2683c31-d7f0-4f16-ad9f-67ece32f5d70",
   "metadata": {},
   "outputs": [
    {
     "name": "stdout",
     "output_type": "stream",
     "text": [
      "ensemble score: 0.1094\n"
     ]
    }
   ],
   "source": [
    "print('ensemble score:', round(accuracy_score(stacking_classifier.predict(X_val), y_val), 4))\n",
    "# как вы можете заметить ансамбль довольно заметно улучшил качество решения"
   ]
  },
  {
   "cell_type": "markdown",
   "id": "f7dcf43b-5396-425c-a6ef-2398a5c73552",
   "metadata": {},
   "source": [
    "# <center> 🧸 Выводы и заключения"
   ]
  },
  {
   "cell_type": "markdown",
   "id": "36e25b11-bada-455e-83bf-4391d6432a6e",
   "metadata": {},
   "source": [
    "<div class=\"alert alert-info\">\n",
    "\n",
    "`sklearn.Pipelines` это очень сильный инструмент, позволяющий упаковать весь процесс обучения модели в один механизм, в который легко добавлять новые модели и который легко применять на инференсе. Кстати, это один из тех инструментов, который часто используется не только на соревнованиях, но и в обычной работе засчет своей элегантности и простоты."
   ]
  }
 ],
 "metadata": {
  "kernelspec": {
   "display_name": "Python 3 (ipykernel)",
   "language": "python",
   "name": "python3"
  },
  "language_info": {
   "codemirror_mode": {
    "name": "ipython",
    "version": 3
   },
   "file_extension": ".py",
   "mimetype": "text/x-python",
   "name": "python",
   "nbconvert_exporter": "python",
   "pygments_lexer": "ipython3",
   "version": "3.9.15"
  }
 },
 "nbformat": 4,
 "nbformat_minor": 5
}
